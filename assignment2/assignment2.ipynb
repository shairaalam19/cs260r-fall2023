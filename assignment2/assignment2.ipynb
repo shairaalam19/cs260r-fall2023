{
 "cells": [
  {
   "cell_type": "markdown",
   "id": "455f8adf",
   "metadata": {
    "id": "455f8adf"
   },
   "source": [
    "# Assignment 2: Deep Q Learning and Policy Gradient\n",
    "\n",
    "-----\n",
    "\n",
    "*CS260R 2023Fall: Reinforcement Learning. Department of Computer Science at University of California, Los Angeles.\n",
    "Course Instructor: Professor Bolei ZHOU. Assignment author: Zhenghao PENG.*\n",
    "\n",
    "\n"
   ]
  },
  {
   "cell_type": "markdown",
   "id": "5ecc5685",
   "metadata": {
    "id": "5ecc5685"
   },
   "source": [
    "| Student Name | Student ID |\n",
    "| :----: | :----: |\n",
    "| Shaira Alam | 506302126 |\n",
    "\n",
    "------"
   ]
  },
  {
   "cell_type": "markdown",
   "id": "b55e080e",
   "metadata": {
    "id": "b55e080e"
   },
   "source": [
    "Welcome to the assignment 2 of our RL course. This assignment consisits of three parts:\n",
    "\n",
    "* Section 2: Implement Q learning in tabular setting (20 points)\n",
    "* Section 3: Implement Deep Q Network with pytorch (30 points)\n",
    "* Section 4: Implement policy gradient method REINFORCE with pytorch (30 points)\n",
    "* Section 5: Implement policy gradient method with baseline (20 points) (+20 points bonus)\n",
    "\n",
    "Section 0 and Section 1 set up the dependencies and prepare some useful functions.\n",
    "\n",
    "The experiments we'll conduct and their expected goals:\n",
    "\n",
    "1. Naive Q learning in FrozenLake &emsp; (should solve)\n",
    "2. DQN in CartPole &emsp; (should solve)\n",
    "3. DQN in MetaDrive-Easy &emsp; (should solve)\n",
    "4. Policy Gradient w/o baseline in CartPole (w/ and w/o advantage normalization) &emsp; (should solve)\n",
    "5. Policy Gradient w/o baseline in MetaDrive-Easy &emsp; (should solve)\n",
    "6. Policy Gradient w/ baseline in CartPole (w/ advantage normalization) &emsp; (should solve)\n",
    "7. Policy Gradient w/ baseline in MetaDrive-Easy &emsp; (should solve)\n",
    "8. Policy Gradient w/ baseline in MetaDrive-Hard &emsp; (>20 return) (Optional, +20 points bonus can be earned)"
   ]
  },
  {
   "cell_type": "markdown",
   "id": "afe0171e",
   "metadata": {},
   "source": [
    "> NOTE: MetaDrive does not support python=3.12. If you are in python=3.12, we suggest to recreate a new conda environment:\n",
    "\n",
    "```bash\n",
    "conda env remove -n cs260r\n",
    "conda create -n cs260r python=3.11 -y\n",
    "pip install notebook  # Install jupyter notebook\n",
    "jupyter notebook  # Run jupyter notebook\n",
    "```\n"
   ]
  },
  {
   "cell_type": "markdown",
   "id": "3feea3d2",
   "metadata": {
    "id": "3feea3d2"
   },
   "source": [
    "## Section 0: Dependencies\n",
    "\n",
    "Please install the following dependencies.\n",
    "\n",
    "\n",
    "### Notes on MetaDrive\n",
    "\n",
    "MetaDrive is a lightweight driving simulator which we will use for DQN and Policy Gradient methods. It can not be run on M1-chip Mac. We suggest using Colab or Linux for running MetaDrive.\n",
    "\n",
    "Please ignore this warning from MetaDrive: `WARNING:root:BaseEngine is not launched, fail to sync seed to engine!`\n",
    "\n",
    "### Notes on Colab\n",
    "\n",
    "We have several cells used for installing dependencies for Colab only. Please make sure they are run properly.\n",
    "\n",
    "You don't need to install python packages again and again after **restarting the runtime**, since the Colab instance still remembers the python envionment after you installing packages for the first time. But you do need to rerun those packages installation script after you **reconnecting to the runtime** (which means Google assigns a new machine to you and thus the python environment is new)."
   ]
  },
  {
   "cell_type": "code",
   "execution_count": 1,
   "id": "9b170cda",
   "metadata": {},
   "outputs": [],
   "source": [
    "RUNNING_IN_COLAB = 'google.colab' in str(get_ipython())  # Detect if it is running in Colab"
   ]
  },
  {
   "cell_type": "code",
   "execution_count": 2,
   "id": "9098b4a3-1f4e-4ffd-b6cb-dbec4ede65f4",
   "metadata": {
    "scrolled": true
   },
   "outputs": [
    {
     "name": "stdout",
     "output_type": "stream",
     "text": [
      "Requirement already satisfied: pip in c:\\users\\user\\anaconda3\\lib\\site-packages (22.2.2)\n",
      "Collecting pip\n",
      "  Using cached pip-23.3.1-py3-none-any.whl (2.1 MB)\n"
     ]
    },
    {
     "name": "stderr",
     "output_type": "stream",
     "text": [
      "ERROR: To modify pip, please run the following command:\n",
      "C:\\Users\\User\\anaconda3\\python.exe -m pip install -U pip\n"
     ]
    },
    {
     "name": "stdout",
     "output_type": "stream",
     "text": [
      "Requirement already satisfied: numpy in c:\\users\\user\\anaconda3\\lib\\site-packages (1.24.2)\n",
      "Requirement already satisfied: scipy in c:\\users\\user\\anaconda3\\lib\\site-packages (1.9.1)\n",
      "Requirement already satisfied: gymnasium<0.29 in c:\\users\\user\\anaconda3\\lib\\site-packages (0.28.1)\n",
      "Requirement already satisfied: typing-extensions>=4.3.0 in c:\\users\\user\\anaconda3\\lib\\site-packages (from gymnasium<0.29) (4.3.0)\n",
      "Requirement already satisfied: jax-jumpy>=1.0.0 in c:\\users\\user\\anaconda3\\lib\\site-packages (from gymnasium<0.29) (1.0.0)\n",
      "Requirement already satisfied: cloudpickle>=1.2.0 in c:\\users\\user\\anaconda3\\lib\\site-packages (from gymnasium<0.29) (2.0.0)\n",
      "Requirement already satisfied: farama-notifications>=0.0.1 in c:\\users\\user\\anaconda3\\lib\\site-packages (from gymnasium<0.29) (0.0.4)\n",
      "Requirement already satisfied: importlib-metadata>=4.8.0 in c:\\users\\user\\anaconda3\\lib\\site-packages (from gymnasium<0.29) (4.11.3)\n",
      "Requirement already satisfied: zipp>=0.5 in c:\\users\\user\\anaconda3\\lib\\site-packages (from importlib-metadata>=4.8.0->gymnasium<0.29) (3.8.0)\n",
      "Requirement already satisfied: torch in c:\\users\\user\\anaconda3\\lib\\site-packages (2.1.0)\n",
      "Requirement already satisfied: torchvision in c:\\users\\user\\anaconda3\\lib\\site-packages (0.16.0)\n",
      "Requirement already satisfied: fsspec in c:\\users\\user\\anaconda3\\lib\\site-packages (from torch) (2022.7.1)\n",
      "Requirement already satisfied: filelock in c:\\users\\user\\anaconda3\\lib\\site-packages (from torch) (3.6.0)\n",
      "Requirement already satisfied: networkx in c:\\users\\user\\anaconda3\\lib\\site-packages (from torch) (2.8.4)\n",
      "Requirement already satisfied: sympy in c:\\users\\user\\anaconda3\\lib\\site-packages (from torch) (1.10.1)\n",
      "Requirement already satisfied: jinja2 in c:\\users\\user\\anaconda3\\lib\\site-packages (from torch) (2.11.3)\n",
      "Requirement already satisfied: typing-extensions in c:\\users\\user\\anaconda3\\lib\\site-packages (from torch) (4.3.0)\n",
      "Requirement already satisfied: numpy in c:\\users\\user\\anaconda3\\lib\\site-packages (from torchvision) (1.24.2)\n",
      "Requirement already satisfied: pillow!=8.3.*,>=5.3.0 in c:\\users\\user\\anaconda3\\lib\\site-packages (from torchvision) (9.2.0)\n",
      "Requirement already satisfied: requests in c:\\users\\user\\anaconda3\\lib\\site-packages (from torchvision) (2.28.1)\n",
      "Requirement already satisfied: MarkupSafe>=0.23 in c:\\users\\user\\anaconda3\\lib\\site-packages (from jinja2->torch) (2.0.1)\n",
      "Requirement already satisfied: charset-normalizer<3,>=2 in c:\\users\\user\\anaconda3\\lib\\site-packages (from requests->torchvision) (2.0.4)\n",
      "Requirement already satisfied: urllib3<1.27,>=1.21.1 in c:\\users\\user\\anaconda3\\lib\\site-packages (from requests->torchvision) (1.26.11)\n",
      "Requirement already satisfied: certifi>=2017.4.17 in c:\\users\\user\\anaconda3\\lib\\site-packages (from requests->torchvision) (2022.9.24)\n",
      "Requirement already satisfied: idna<4,>=2.5 in c:\\users\\user\\anaconda3\\lib\\site-packages (from requests->torchvision) (3.3)\n",
      "Requirement already satisfied: mpmath>=0.19 in c:\\users\\user\\anaconda3\\lib\\site-packages (from sympy->torch) (1.2.1)\n",
      "Requirement already satisfied: mediapy in c:\\users\\user\\anaconda3\\lib\\site-packages (1.1.9)\n",
      "Requirement already satisfied: Pillow in c:\\users\\user\\anaconda3\\lib\\site-packages (from mediapy) (9.2.0)\n",
      "Requirement already satisfied: matplotlib in c:\\users\\user\\anaconda3\\lib\\site-packages (from mediapy) (3.5.2)\n",
      "Requirement already satisfied: ipython in c:\\users\\user\\anaconda3\\lib\\site-packages (from mediapy) (7.31.1)\n",
      "Requirement already satisfied: numpy in c:\\users\\user\\anaconda3\\lib\\site-packages (from mediapy) (1.24.2)\n",
      "Requirement already satisfied: prompt-toolkit!=3.0.0,!=3.0.1,<3.1.0,>=2.0.0 in c:\\users\\user\\anaconda3\\lib\\site-packages (from ipython->mediapy) (3.0.20)\n",
      "Requirement already satisfied: colorama in c:\\users\\user\\anaconda3\\lib\\site-packages (from ipython->mediapy) (0.4.5)\n",
      "Requirement already satisfied: matplotlib-inline in c:\\users\\user\\anaconda3\\lib\\site-packages (from ipython->mediapy) (0.1.6)\n",
      "Requirement already satisfied: traitlets>=4.2 in c:\\users\\user\\anaconda3\\lib\\site-packages (from ipython->mediapy) (5.1.1)\n",
      "Requirement already satisfied: jedi>=0.16 in c:\\users\\user\\anaconda3\\lib\\site-packages (from ipython->mediapy) (0.18.1)\n",
      "Requirement already satisfied: decorator in c:\\users\\user\\anaconda3\\lib\\site-packages (from ipython->mediapy) (5.1.1)\n",
      "Requirement already satisfied: pygments in c:\\users\\user\\anaconda3\\lib\\site-packages (from ipython->mediapy) (2.11.2)\n",
      "Requirement already satisfied: pickleshare in c:\\users\\user\\anaconda3\\lib\\site-packages (from ipython->mediapy) (0.7.5)\n",
      "Requirement already satisfied: setuptools>=18.5 in c:\\users\\user\\anaconda3\\lib\\site-packages (from ipython->mediapy) (63.4.1)\n",
      "Requirement already satisfied: backcall in c:\\users\\user\\anaconda3\\lib\\site-packages (from ipython->mediapy) (0.2.0)\n",
      "Requirement already satisfied: cycler>=0.10 in c:\\users\\user\\anaconda3\\lib\\site-packages (from matplotlib->mediapy) (0.11.0)\n",
      "Requirement already satisfied: pyparsing>=2.2.1 in c:\\users\\user\\anaconda3\\lib\\site-packages (from matplotlib->mediapy) (3.0.9)\n",
      "Requirement already satisfied: fonttools>=4.22.0 in c:\\users\\user\\anaconda3\\lib\\site-packages (from matplotlib->mediapy) (4.25.0)\n",
      "Requirement already satisfied: packaging>=20.0 in c:\\users\\user\\anaconda3\\lib\\site-packages (from matplotlib->mediapy) (21.3)\n",
      "Requirement already satisfied: kiwisolver>=1.0.1 in c:\\users\\user\\anaconda3\\lib\\site-packages (from matplotlib->mediapy) (1.4.2)\n",
      "Requirement already satisfied: python-dateutil>=2.7 in c:\\users\\user\\anaconda3\\lib\\site-packages (from matplotlib->mediapy) (2.8.2)\n",
      "Requirement already satisfied: parso<0.9.0,>=0.8.0 in c:\\users\\user\\anaconda3\\lib\\site-packages (from jedi>=0.16->ipython->mediapy) (0.8.3)\n",
      "Requirement already satisfied: wcwidth in c:\\users\\user\\anaconda3\\lib\\site-packages (from prompt-toolkit!=3.0.0,!=3.0.1,<3.1.0,>=2.0.0->ipython->mediapy) (0.2.5)\n",
      "Requirement already satisfied: six>=1.5 in c:\\users\\user\\anaconda3\\lib\\site-packages (from python-dateutil>=2.7->matplotlib->mediapy) (1.16.0)\n"
     ]
    }
   ],
   "source": [
    "# Similar to AS1\n",
    "\n",
    "!pip install -U pip\n",
    "!pip install numpy scipy \"gymnasium<0.29\"\n",
    "!pip install torch torchvision\n",
    "!pip install mediapy"
   ]
  },
  {
   "cell_type": "code",
   "execution_count": 3,
   "id": "5b05b5d4",
   "metadata": {
    "colab": {
     "base_uri": "https://localhost:8080/"
    },
    "id": "5b05b5d4",
    "outputId": "07c15710-629c-419b-e3b0-1330420bfea8",
    "scrolled": true
   },
   "outputs": [
    {
     "name": "stdout",
     "output_type": "stream",
     "text": [
      "Collecting git+https://github.com/metadriverse/metadrive\n",
      "  Cloning https://github.com/metadriverse/metadrive to c:\\users\\user\\appdata\\local\\temp\\pip-req-build-61pqnyj3\n",
      "  Resolved https://github.com/metadriverse/metadrive to commit 81ce062e80e9ce3dd8f1a4692f16eb45d3e8a43c\n",
      "  Preparing metadata (setup.py): started\n",
      "  Preparing metadata (setup.py): finished with status 'done'\n",
      "Requirement already satisfied: requests in c:\\users\\user\\anaconda3\\lib\\site-packages (from metadrive-simulator==0.4.1.2) (2.28.1)\n",
      "Requirement already satisfied: gymnasium<0.29,>=0.28 in c:\\users\\user\\anaconda3\\lib\\site-packages (from metadrive-simulator==0.4.1.2) (0.28.1)\n",
      "Requirement already satisfied: numpy<=1.24.2,>=1.21.6 in c:\\users\\user\\anaconda3\\lib\\site-packages (from metadrive-simulator==0.4.1.2) (1.24.2)\n",
      "Requirement already satisfied: matplotlib in c:\\users\\user\\anaconda3\\lib\\site-packages (from metadrive-simulator==0.4.1.2) (3.5.2)\n",
      "Requirement already satisfied: pandas in c:\\users\\user\\anaconda3\\lib\\site-packages (from metadrive-simulator==0.4.1.2) (1.5.2)\n",
      "Requirement already satisfied: pygame in c:\\users\\user\\anaconda3\\lib\\site-packages (from metadrive-simulator==0.4.1.2) (2.5.2)\n",
      "Requirement already satisfied: tqdm in c:\\users\\user\\anaconda3\\lib\\site-packages (from metadrive-simulator==0.4.1.2) (4.64.1)\n",
      "Requirement already satisfied: yapf in c:\\users\\user\\anaconda3\\lib\\site-packages (from metadrive-simulator==0.4.1.2) (0.31.0)\n",
      "Requirement already satisfied: seaborn in c:\\users\\user\\anaconda3\\lib\\site-packages (from metadrive-simulator==0.4.1.2) (0.11.2)\n",
      "Requirement already satisfied: progressbar in c:\\users\\user\\anaconda3\\lib\\site-packages (from metadrive-simulator==0.4.1.2) (2.5)\n",
      "Requirement already satisfied: panda3d==1.10.13 in c:\\users\\user\\anaconda3\\lib\\site-packages (from metadrive-simulator==0.4.1.2) (1.10.13)\n",
      "Requirement already satisfied: panda3d-gltf==0.13 in c:\\users\\user\\anaconda3\\lib\\site-packages (from metadrive-simulator==0.4.1.2) (0.13)\n",
      "Requirement already satisfied: panda3d-simplepbr in c:\\users\\user\\anaconda3\\lib\\site-packages (from metadrive-simulator==0.4.1.2) (0.10)\n",
      "Requirement already satisfied: pillow in c:\\users\\user\\anaconda3\\lib\\site-packages (from metadrive-simulator==0.4.1.2) (9.2.0)\n",
      "Requirement already satisfied: pytest in c:\\users\\user\\anaconda3\\lib\\site-packages (from metadrive-simulator==0.4.1.2) (7.1.2)\n",
      "Requirement already satisfied: opencv-python in c:\\users\\user\\anaconda3\\lib\\site-packages (from metadrive-simulator==0.4.1.2) (4.8.1.78)\n",
      "Requirement already satisfied: lxml in c:\\users\\user\\anaconda3\\lib\\site-packages (from metadrive-simulator==0.4.1.2) (4.9.1)\n",
      "Requirement already satisfied: scipy in c:\\users\\user\\anaconda3\\lib\\site-packages (from metadrive-simulator==0.4.1.2) (1.9.1)\n",
      "Requirement already satisfied: psutil in c:\\users\\user\\anaconda3\\lib\\site-packages (from metadrive-simulator==0.4.1.2) (5.9.0)\n",
      "Requirement already satisfied: geopandas in c:\\users\\user\\anaconda3\\lib\\site-packages (from metadrive-simulator==0.4.1.2) (0.14.0)\n",
      "Requirement already satisfied: shapely in c:\\users\\user\\anaconda3\\lib\\site-packages (from metadrive-simulator==0.4.1.2) (2.0.2)\n",
      "Requirement already satisfied: filelock in c:\\users\\user\\anaconda3\\lib\\site-packages (from metadrive-simulator==0.4.1.2) (3.6.0)\n",
      "Requirement already satisfied: typing-extensions>=4.3.0 in c:\\users\\user\\anaconda3\\lib\\site-packages (from gymnasium<0.29,>=0.28->metadrive-simulator==0.4.1.2) (4.3.0)\n",
      "Requirement already satisfied: farama-notifications>=0.0.1 in c:\\users\\user\\anaconda3\\lib\\site-packages (from gymnasium<0.29,>=0.28->metadrive-simulator==0.4.1.2) (0.0.4)\n",
      "Requirement already satisfied: importlib-metadata>=4.8.0 in c:\\users\\user\\anaconda3\\lib\\site-packages (from gymnasium<0.29,>=0.28->metadrive-simulator==0.4.1.2) (4.11.3)\n",
      "Requirement already satisfied: cloudpickle>=1.2.0 in c:\\users\\user\\anaconda3\\lib\\site-packages (from gymnasium<0.29,>=0.28->metadrive-simulator==0.4.1.2) (2.0.0)\n",
      "Requirement already satisfied: jax-jumpy>=1.0.0 in c:\\users\\user\\anaconda3\\lib\\site-packages (from gymnasium<0.29,>=0.28->metadrive-simulator==0.4.1.2) (1.0.0)\n",
      "Requirement already satisfied: packaging in c:\\users\\user\\anaconda3\\lib\\site-packages (from geopandas->metadrive-simulator==0.4.1.2) (21.3)\n",
      "Requirement already satisfied: pyproj>=3.3.0 in c:\\users\\user\\anaconda3\\lib\\site-packages (from geopandas->metadrive-simulator==0.4.1.2) (3.6.1)\n",
      "Requirement already satisfied: fiona>=1.8.21 in c:\\users\\user\\anaconda3\\lib\\site-packages (from geopandas->metadrive-simulator==0.4.1.2) (1.9.5)\n",
      "Requirement already satisfied: pytz>=2020.1 in c:\\users\\user\\anaconda3\\lib\\site-packages (from pandas->metadrive-simulator==0.4.1.2) (2022.1)\n",
      "Requirement already satisfied: python-dateutil>=2.8.1 in c:\\users\\user\\anaconda3\\lib\\site-packages (from pandas->metadrive-simulator==0.4.1.2) (2.8.2)\n",
      "Requirement already satisfied: cycler>=0.10 in c:\\users\\user\\anaconda3\\lib\\site-packages (from matplotlib->metadrive-simulator==0.4.1.2) (0.11.0)\n",
      "Requirement already satisfied: kiwisolver>=1.0.1 in c:\\users\\user\\anaconda3\\lib\\site-packages (from matplotlib->metadrive-simulator==0.4.1.2) (1.4.2)\n",
      "Requirement already satisfied: pyparsing>=2.2.1 in c:\\users\\user\\anaconda3\\lib\\site-packages (from matplotlib->metadrive-simulator==0.4.1.2) (3.0.9)\n",
      "Requirement already satisfied: fonttools>=4.22.0 in c:\\users\\user\\anaconda3\\lib\\site-packages (from matplotlib->metadrive-simulator==0.4.1.2) (4.25.0)\n",
      "Requirement already satisfied: attrs>=19.2.0 in c:\\users\\user\\anaconda3\\lib\\site-packages (from pytest->metadrive-simulator==0.4.1.2) (21.4.0)\n",
      "Requirement already satisfied: iniconfig in c:\\users\\user\\anaconda3\\lib\\site-packages (from pytest->metadrive-simulator==0.4.1.2) (1.1.1)\n",
      "Requirement already satisfied: pluggy<2.0,>=0.12 in c:\\users\\user\\anaconda3\\lib\\site-packages (from pytest->metadrive-simulator==0.4.1.2) (1.0.0)\n",
      "Requirement already satisfied: py>=1.8.2 in c:\\users\\user\\anaconda3\\lib\\site-packages (from pytest->metadrive-simulator==0.4.1.2) (1.11.0)\n",
      "Requirement already satisfied: tomli>=1.0.0 in c:\\users\\user\\anaconda3\\lib\\site-packages (from pytest->metadrive-simulator==0.4.1.2) (2.0.1)\n",
      "Requirement already satisfied: atomicwrites>=1.0 in c:\\users\\user\\anaconda3\\lib\\site-packages (from pytest->metadrive-simulator==0.4.1.2) (1.4.0)\n",
      "Requirement already satisfied: colorama in c:\\users\\user\\anaconda3\\lib\\site-packages (from pytest->metadrive-simulator==0.4.1.2) (0.4.5)\n",
      "Requirement already satisfied: charset-normalizer<3,>=2 in c:\\users\\user\\anaconda3\\lib\\site-packages (from requests->metadrive-simulator==0.4.1.2) (2.0.4)\n",
      "Requirement already satisfied: urllib3<1.27,>=1.21.1 in c:\\users\\user\\anaconda3\\lib\\site-packages (from requests->metadrive-simulator==0.4.1.2) (1.26.11)\n",
      "Requirement already satisfied: idna<4,>=2.5 in c:\\users\\user\\anaconda3\\lib\\site-packages (from requests->metadrive-simulator==0.4.1.2) (3.3)\n",
      "Requirement already satisfied: certifi>=2017.4.17 in c:\\users\\user\\anaconda3\\lib\\site-packages (from requests->metadrive-simulator==0.4.1.2) (2022.9.24)\n",
      "Requirement already satisfied: six in c:\\users\\user\\anaconda3\\lib\\site-packages (from fiona>=1.8.21->geopandas->metadrive-simulator==0.4.1.2) (1.16.0)\n",
      "Requirement already satisfied: setuptools in c:\\users\\user\\anaconda3\\lib\\site-packages (from fiona>=1.8.21->geopandas->metadrive-simulator==0.4.1.2) (63.4.1)\n",
      "Requirement already satisfied: cligj>=0.5 in c:\\users\\user\\anaconda3\\lib\\site-packages (from fiona>=1.8.21->geopandas->metadrive-simulator==0.4.1.2) (0.7.2)\n",
      "Requirement already satisfied: click-plugins>=1.0 in c:\\users\\user\\anaconda3\\lib\\site-packages (from fiona>=1.8.21->geopandas->metadrive-simulator==0.4.1.2) (1.1.1)\n",
      "Requirement already satisfied: click~=8.0 in c:\\users\\user\\anaconda3\\lib\\site-packages (from fiona>=1.8.21->geopandas->metadrive-simulator==0.4.1.2) (8.0.4)\n",
      "Requirement already satisfied: zipp>=0.5 in c:\\users\\user\\anaconda3\\lib\\site-packages (from importlib-metadata>=4.8.0->gymnasium<0.29,>=0.28->metadrive-simulator==0.4.1.2) (3.8.0)\n"
     ]
    },
    {
     "name": "stderr",
     "output_type": "stream",
     "text": [
      "  Running command git clone --filter=blob:none --quiet https://github.com/metadriverse/metadrive 'C:\\Users\\User\\AppData\\Local\\Temp\\pip-req-build-61pqnyj3'\n"
     ]
    }
   ],
   "source": [
    "# Install MetaDrive, a lightweight driving simulator\n",
    "\n",
    "import sys\n",
    "\n",
    "if sys.version_info.minor >= 12:\n",
    "    raise ValueError(\"MetaDrive only supports python<3.12.0.\")\n",
    "\n",
    "!pip install \"git+https://github.com/metadriverse/metadrive\""
   ]
  },
  {
   "cell_type": "code",
   "execution_count": 4,
   "id": "IlCJY9seS7RB",
   "metadata": {
    "colab": {
     "base_uri": "https://localhost:8080/"
    },
    "id": "IlCJY9seS7RB",
    "outputId": "3504c227-56ea-4db5-8abe-cea176aefcc2",
    "scrolled": true
   },
   "outputs": [
    {
     "name": "stdout",
     "output_type": "stream",
     "text": [
      "Start to profile the efficiency of MetaDrive with 1000 maps and ~4 vehicles!\n",
      "Finish 100/100 simulation steps. Time elapse: 0.1255. Average FPS: 796.7676, Average number of vehicles: 3.0000\n",
      "Total Time Elapse: 0.126, average FPS: 796.768, average number of vehicles: 3.000.\n"
     ]
    },
    {
     "name": "stderr",
     "output_type": "stream",
     "text": [
      "\u001b[38;20m[INFO] MetaDrive version: 0.4.1.2\u001b[0m\n",
      "\u001b[38;20m[INFO] Sensors: [lidar: Lidar(50,), side_detector: SideDetector(), lane_line_detector: LaneLineDetector()]\u001b[0m\n",
      "\u001b[38;20m[INFO] Render Mode: none\u001b[0m\n",
      "\u001b[38;20m[INFO] Assets version: 0.4.1.2\u001b[0m\n"
     ]
    }
   ],
   "source": [
    "# Test whether MetaDrive is properly installed. No error means the test is passed.\n",
    "!python -m metadrive.examples.profile_metadrive --num-steps 100"
   ]
  },
  {
   "cell_type": "markdown",
   "id": "9612bfe5",
   "metadata": {
    "id": "9612bfe5"
   },
   "source": [
    "## Section 1: Building abstract class and helper functions"
   ]
  },
  {
   "cell_type": "code",
   "execution_count": 5,
   "id": "9064ac72",
   "metadata": {
    "colab": {
     "base_uri": "https://localhost:8080/"
    },
    "id": "9064ac72",
    "outputId": "4eed79d8-0126-4a00-ff90-869135e2d144"
   },
   "outputs": [],
   "source": [
    "# Run this cell without modification\n",
    "\n",
    "# Import some packages that we need to use\n",
    "import mediapy as media\n",
    "import gymnasium as gym\n",
    "import numpy as np\n",
    "import pandas as pd\n",
    "import seaborn as sns\n",
    "from gymnasium.error import Error\n",
    "from gymnasium import logger\n",
    "import torch\n",
    "import torch.nn as nn\n",
    "from IPython.display import clear_output\n",
    "import copy\n",
    "import time\n",
    "import pygame\n",
    "import logging\n",
    "\n",
    "logging.basicConfig(format='[%(levelname)s] %(message)s')\n",
    "logger = logging.getLogger()\n",
    "logger.setLevel(logging.INFO)\n",
    "\n",
    "\n",
    "def wait(sleep=0.2):\n",
    "    clear_output(wait=True)\n",
    "    time.sleep(sleep)\n",
    "\n",
    "\n",
    "def merge_config(new_config, old_config):\n",
    "    \"\"\"Merge the user-defined config with default config\"\"\"\n",
    "    config = copy.deepcopy(old_config)\n",
    "    if new_config is not None:\n",
    "        config.update(new_config)\n",
    "    return config\n",
    "\n",
    "\n",
    "def test_random_policy(policy, env):\n",
    "    _acts = set()\n",
    "    for i in range(1000):\n",
    "        act = policy(0)\n",
    "        _acts.add(act)\n",
    "        assert env.action_space.contains(act), \"Out of the bound!\"\n",
    "    if len(_acts) != 1:\n",
    "        print(\n",
    "            \"[HINT] Though we call self.policy 'random policy', \" \\\n",
    "            \"we find that generating action randomly at the beginning \" \\\n",
    "            \"and then fixing it during updating values period lead to better \" \\\n",
    "            \"performance. Using purely random policy is not even work! \" \\\n",
    "            \"We encourage you to investigate this issue.\"\n",
    "        )\n",
    "\n",
    "\n",
    "# We register a non-slippery version of FrozenLake environment.\n",
    "try:\n",
    "    gym.register(\n",
    "        id='FrozenLakeNotSlippery-v1',\n",
    "        entry_point='gymnasium.envs.toy_text:FrozenLakeEnv',\n",
    "        kwargs={'map_name': '4x4', 'is_slippery': False},\n",
    "        max_episode_steps=200,\n",
    "        reward_threshold=0.78,  # optimum = .8196\n",
    "    )\n",
    "except Error:\n",
    "    print(\"The environment is registered already.\")\n",
    "\n",
    "\n",
    "def _render_helper(env, sleep=0.1):\n",
    "    ret = env.render()\n",
    "    if sleep:\n",
    "        wait(sleep=sleep)\n",
    "    return ret\n",
    "\n",
    "\n",
    "def animate(img_array, fps=None):\n",
    "    \"\"\"A function that can generate GIF file and show in Notebook.\"\"\"\n",
    "    media.show_video(img_array, fps=fps)\n",
    "\n",
    "\n",
    "def evaluate(policy, num_episodes=1, seed=0, env_name='FrozenLake8x8-v1',\n",
    "             render=None, existing_env=None, max_episode_length=1000,\n",
    "             sleep=0.0, verbose=False):\n",
    "    \"\"\"This function evaluate the given policy and return the mean episode \n",
    "    reward.\n",
    "    :param policy: a function whose input is the observation\n",
    "    :param num_episodes: number of episodes you wish to run\n",
    "    :param seed: the random seed\n",
    "    :param env_name: the name of the environment\n",
    "    :param render: a boolean flag indicating whether to render policy\n",
    "    :return: the averaged episode reward of the given policy.\n",
    "    \"\"\"\n",
    "    if existing_env is None:\n",
    "        render_mode = render if render else None\n",
    "        env = gym.make(env_name, render_mode=render)\n",
    "    else:\n",
    "        env = existing_env\n",
    "    try:\n",
    "        rewards = []\n",
    "        frames = []\n",
    "        succ_rate = []\n",
    "        if render:\n",
    "            num_episodes = 1\n",
    "        for i in range(num_episodes):\n",
    "            obs, info = env.reset(seed=seed + i)\n",
    "            act = policy(obs)\n",
    "            ep_reward = 0\n",
    "            for step_count in range(max_episode_length):\n",
    "                obs, reward, terminated, truncated, info = env.step(act)\n",
    "                done = terminated or truncated\n",
    "\n",
    "                act = policy(obs)\n",
    "                ep_reward += reward\n",
    "\n",
    "                if verbose and step_count % 50 == 0:\n",
    "                    print(\"Evaluating {}/{} episodes. We are in {}/{} steps. Current episode reward: {:.3f}\".format(\n",
    "                        i + 1, num_episodes, step_count + 1, max_episode_length, ep_reward\n",
    "                    ))\n",
    "\n",
    "                if render == \"ansi\":\n",
    "                    print(_render_helper(env, sleep))\n",
    "                elif render:\n",
    "                    frames.append(_render_helper(env, sleep))\n",
    "                if done:\n",
    "                    break\n",
    "            rewards.append(ep_reward)\n",
    "            if \"arrive_dest\" in info:\n",
    "                succ_rate.append(float(info[\"arrive_dest\"]))\n",
    "        if render:\n",
    "            env.close()\n",
    "    except Exception as e:\n",
    "        env.close()\n",
    "        raise e\n",
    "    finally:\n",
    "        env.close()\n",
    "    eval_dict = {\"frames\": frames}\n",
    "    if succ_rate:\n",
    "        eval_dict[\"success_rate\"] = sum(succ_rate) / len(succ_rate)\n",
    "    return np.mean(rewards), eval_dict\n"
   ]
  },
  {
   "cell_type": "code",
   "execution_count": 6,
   "id": "d21c8c84",
   "metadata": {
    "id": "d21c8c84"
   },
   "outputs": [],
   "source": [
    "# Run this cell without modification\n",
    "\n",
    "DEFAULT_CONFIG = dict(\n",
    "    seed=0,\n",
    "    max_iteration=20000,\n",
    "    max_episode_length=200,\n",
    "    evaluate_interval=10,\n",
    "    evaluate_num_episodes=10,\n",
    "    learning_rate=0.001,\n",
    "    gamma=0.8,\n",
    "    eps=0.3,\n",
    "    env_name='FrozenLakeNotSlippery-v1'\n",
    ")\n",
    "\n",
    "\n",
    "class AbstractTrainer:\n",
    "    \"\"\"This is the abstract class for value-based RL trainer. We will inherent\n",
    "    the specify algorithm's trainer from this abstract class, so that we can\n",
    "    reuse the codes.\n",
    "    \"\"\"\n",
    "\n",
    "    def __init__(self, config):\n",
    "        self.config = merge_config(config, DEFAULT_CONFIG)\n",
    "\n",
    "        # Create the environment\n",
    "        self.env_name = self.config['env_name']\n",
    "        self.env = gym.make(self.env_name)\n",
    "\n",
    "        # Apply the random seed\n",
    "        self.seed = self.config[\"seed\"]\n",
    "        np.random.seed(self.seed)\n",
    "        self.env.reset(seed=self.seed)\n",
    "\n",
    "        # We set self.obs_dim to the number of possible observation\n",
    "        # if observation space is discrete, otherwise the number\n",
    "        # of observation's dimensions. The same to self.act_dim.\n",
    "        if isinstance(self.env.observation_space, gym.spaces.box.Box):\n",
    "            assert len(self.env.observation_space.shape) == 1\n",
    "            self.obs_dim = self.env.observation_space.shape[0]\n",
    "            self.discrete_obs = False\n",
    "        elif isinstance(self.env.observation_space,\n",
    "                        gym.spaces.discrete.Discrete):\n",
    "            self.obs_dim = self.env.observation_space.n\n",
    "            self.discrete_obs = True\n",
    "        else:\n",
    "            raise ValueError(\"Wrong observation space!\")\n",
    "\n",
    "        if isinstance(self.env.action_space, gym.spaces.box.Box):\n",
    "            assert len(self.env.action_space.shape) == 1\n",
    "            self.act_dim = self.env.action_space.shape[0]\n",
    "        elif isinstance(self.env.action_space, gym.spaces.discrete.Discrete):\n",
    "            self.act_dim = self.env.action_space.n\n",
    "        else:\n",
    "            raise ValueError(\"Wrong action space! {}\".format(self.env.action_space))\n",
    "\n",
    "        self.eps = self.config['eps']\n",
    "\n",
    "    def process_state(self, state):\n",
    "        \"\"\"\n",
    "        Process the raw observation. For example, we can use this function to\n",
    "        convert the input state (integer) to a one-hot vector.\n",
    "        \"\"\"\n",
    "        return state\n",
    "\n",
    "    def compute_action(self, processed_state, eps=None):\n",
    "        \"\"\"Compute the action given the processed state.\"\"\"\n",
    "        raise NotImplementedError(\n",
    "            \"You need to override the Trainer.compute_action() function.\")\n",
    "\n",
    "    def evaluate(self, num_episodes=50, *args, **kwargs):\n",
    "        \"\"\"Use the function you write to evaluate current policy.\n",
    "        Return the mean episode reward of 50 episodes.\"\"\"\n",
    "        if \"MetaDrive\" in self.env_name:\n",
    "            kwargs[\"existing_env\"] = self.env\n",
    "        result, eval_infos = evaluate(self.policy, num_episodes, seed=self.seed,\n",
    "                                      env_name=self.env_name, *args, **kwargs)\n",
    "        return result, eval_infos\n",
    "\n",
    "    def policy(self, raw_state, eps=0.0):\n",
    "        \"\"\"A wrapper function takes raw_state as input and output action.\"\"\"\n",
    "        return self.compute_action(self.process_state(raw_state), eps=eps)\n",
    "\n",
    "    def train(self, iteration=None):\n",
    "        \"\"\"Conduct one iteration of learning.\"\"\"\n",
    "        raise NotImplementedError(\"You need to override the \"\n",
    "                                  \"Trainer.train() function.\")\n"
   ]
  },
  {
   "cell_type": "code",
   "execution_count": 7,
   "id": "cf324d71",
   "metadata": {
    "id": "cf324d71"
   },
   "outputs": [],
   "source": [
    "# Run this cell without modification\n",
    "\n",
    "def run(trainer_cls, config=None, reward_threshold=None):\n",
    "    \"\"\"Run the trainer and report progress, agnostic to the class of trainer\n",
    "    :param trainer_cls: A trainer class \n",
    "    :param config: A dict\n",
    "    :param reward_threshold: the reward threshold to break the training\n",
    "    :return: The trained trainer and a dataframe containing learning progress\n",
    "    \"\"\"\n",
    "    if config is None:\n",
    "        config = {}\n",
    "    trainer = trainer_cls(config)\n",
    "    config = trainer.config\n",
    "    start = now = time.time()\n",
    "    stats = []\n",
    "    total_steps = 0\n",
    "\n",
    "    try:\n",
    "        for i in range(config['max_iteration'] + 1):\n",
    "            stat = trainer.train(iteration=i)\n",
    "            stat = stat or {}\n",
    "            stats.append(stat)\n",
    "            if \"episode_len\" in stat:\n",
    "                total_steps += stat[\"episode_len\"]\n",
    "            if i % config['evaluate_interval'] == 0 or \\\n",
    "                    i == config[\"max_iteration\"]:\n",
    "                reward, _ = trainer.evaluate(\n",
    "                    config.get(\"evaluate_num_episodes\", 50),\n",
    "                    max_episode_length=config.get(\"max_episode_length\", 1000)\n",
    "                )\n",
    "                logger.info(\"Iter {}, {}episodic return is {:.2f}. {}\".format(\n",
    "                    i,\n",
    "                    \"\" if total_steps == 0 else \"Step {}, \".format(total_steps),\n",
    "                    reward,\n",
    "                    {k: round(np.mean(v), 4) for k, v in stat.items()\n",
    "                     if not np.isnan(v) and k != \"frames\"\n",
    "                     }\n",
    "                    if stat else \"\"\n",
    "                ))\n",
    "                now = time.time()\n",
    "            if reward_threshold is not None and reward > reward_threshold:\n",
    "                logger.info(\"Iter {}, episodic return {:.3f} is \"\n",
    "                            \"greater than reward threshold {}. Congratulation! Now we \"\n",
    "                            \"exit the training process.\".format(i, reward, reward_threshold))\n",
    "                break\n",
    "    except Exception as e:\n",
    "        print(\"Error happens during training: \")\n",
    "        raise e\n",
    "    finally:\n",
    "        if hasattr(trainer.env, \"close\"):\n",
    "            trainer.env.close()\n",
    "            print(\"Environment is closed.\")\n",
    "\n",
    "    return trainer, stats\n"
   ]
  },
  {
   "cell_type": "markdown",
   "id": "64a565ab",
   "metadata": {
    "id": "64a565ab"
   },
   "source": [
    "## Section 2: Q-Learning\n",
    "(20/100 points)\n",
    "\n",
    "Q-learning is an off-policy algorithm who differs from SARSA in the computing of TD error. \n",
    "\n",
    "Unlike getting the TD error by running policy to get `next_act` $a'$ and compute:\n",
    "\n",
    "$r + \\gamma Q(s', a') - Q(s, a)$\n",
    "\n",
    "as in SARSA, in Q-learning we compute the TD error via:\n",
    "\n",
    "$r + \\gamma \\max_{a'} Q(s', a') - Q(s, a)$. \n",
    "\n",
    "The reason we call it \"off-policy\" is that the next-Q value is not computed for the \"behavior policy\", instead, it is a \"virtural policy\" that always takes the best action given current Q values."
   ]
  },
  {
   "cell_type": "markdown",
   "id": "188997dd",
   "metadata": {},
   "source": [
    "### Section 2.1: Building Q Learning Trainer"
   ]
  },
  {
   "cell_type": "code",
   "execution_count": 8,
   "id": "6a2ec18b",
   "metadata": {
    "id": "6a2ec18b"
   },
   "outputs": [],
   "source": [
    "# Solve the TODOs and remove `pass`\n",
    "\n",
    "# Managing configurations of your experiments is important for your research.\n",
    "\n",
    "Q_LEARNING_TRAINER_CONFIG = merge_config(dict(\n",
    "    eps=0.3,\n",
    "), DEFAULT_CONFIG)\n",
    "\n",
    "\n",
    "class QLearningTrainer(AbstractTrainer):\n",
    "    def __init__(self, config=None):\n",
    "        config = merge_config(config, Q_LEARNING_TRAINER_CONFIG)\n",
    "        super(QLearningTrainer, self).__init__(config=config)\n",
    "        self.gamma = self.config[\"gamma\"]\n",
    "        self.eps = self.config[\"eps\"]\n",
    "        self.max_episode_length = self.config[\"max_episode_length\"]\n",
    "        self.learning_rate = self.config[\"learning_rate\"]\n",
    "\n",
    "        # build the Q table\n",
    "        self.table = np.zeros((self.obs_dim, self.act_dim))\n",
    "\n",
    "    def compute_action(self, obs, eps=None):\n",
    "        \"\"\"Implement epsilon-greedy policy\n",
    "\n",
    "        It is a function that take an integer (state / observation)\n",
    "        as input and return an interger (action).\n",
    "        \"\"\"\n",
    "        if eps is None:\n",
    "            eps = self.eps\n",
    "\n",
    "        # TODO: You need to implement the epsilon-greedy policy here.\n",
    "        # Implement epsilon-greedy policy\n",
    "        p = np.random.random() # returns between 0 and 1 \n",
    "        if p < eps: \n",
    "            action = np.random.choice(self.act_dim)\n",
    "        else: \n",
    "            action = np.argmax(self.table[obs])\n",
    "\n",
    "        return action\n",
    "\n",
    "    def train(self, iteration=None):\n",
    "        \"\"\"Conduct one iteration of learning.\"\"\"\n",
    "        obs, info = self.env.reset()\n",
    "        for t in range(self.max_episode_length):\n",
    "            act = self.compute_action(obs)\n",
    "\n",
    "            next_obs, reward, terminated, truncated, info = self.env.step(act)\n",
    "            done = terminated or truncated\n",
    "\n",
    "            # TODO: compute the TD error, based on the next observation\n",
    "            td_error = None\n",
    "            if done: # doesn't have next state \n",
    "                td_error = reward - self.table[obs][act] # r - Q(s,a)\n",
    "            else:\n",
    "                max_next_action = np.argmax(self.table[next_obs]) # argmax(Q(s'))\n",
    "                td_target = reward + self.gamma * self.table[next_obs][max_next_action] # r + y*max_a(Q(s',a'))\n",
    "                td_error = td_target - self.table[obs][act] # td_target - Q(s,a) \n",
    "\n",
    "            # TODO: compute the new Q value\n",
    "            # hint: use TD error, self.learning_rate and old Q value\n",
    "            new_value = self.table[obs][act] + self.learning_rate * td_error # Q(S, A) + learning_rate*(td_error)\n",
    "\n",
    "            self.table[obs][act] = new_value\n",
    "            obs = next_obs\n",
    "            \n",
    "            if done:\n",
    "                break"
   ]
  },
  {
   "cell_type": "markdown",
   "id": "b2f6c0f2",
   "metadata": {},
   "source": [
    "### Section 2.2: Use Q Learning to train agent in FrozenLake"
   ]
  },
  {
   "cell_type": "code",
   "execution_count": 9,
   "id": "61586e08",
   "metadata": {
    "colab": {
     "base_uri": "https://localhost:8080/"
    },
    "id": "61586e08",
    "outputId": "05ad92b5-a19b-4812-ee1a-a3c775799b3d",
    "scrolled": true
   },
   "outputs": [
    {
     "name": "stderr",
     "output_type": "stream",
     "text": [
      "[INFO] Iter 0, episodic return is 0.00. \n",
      "[INFO] Iter 50, episodic return is 0.00. \n",
      "[INFO] Iter 100, episodic return is 0.00. \n",
      "[INFO] Iter 150, episodic return is 0.00. \n",
      "[INFO] Iter 200, episodic return is 0.00. \n",
      "[INFO] Iter 250, episodic return is 0.00. \n",
      "[INFO] Iter 300, episodic return is 0.00. \n",
      "[INFO] Iter 350, episodic return is 0.00. \n",
      "[INFO] Iter 400, episodic return is 0.00. \n",
      "[INFO] Iter 450, episodic return is 0.00. \n",
      "[INFO] Iter 500, episodic return is 0.00. \n",
      "[INFO] Iter 550, episodic return is 0.00. \n",
      "[INFO] Iter 600, episodic return is 0.00. \n",
      "[INFO] Iter 650, episodic return is 0.00. \n",
      "[INFO] Iter 700, episodic return is 0.00. \n",
      "[INFO] Iter 750, episodic return is 0.00. \n",
      "[INFO] Iter 800, episodic return is 0.00. \n",
      "[INFO] Iter 850, episodic return is 0.00. \n",
      "[INFO] Iter 900, episodic return is 0.00. \n",
      "[INFO] Iter 950, episodic return is 0.00. \n",
      "[INFO] Iter 1000, episodic return is 0.00. \n",
      "[INFO] Iter 1050, episodic return is 0.00. \n",
      "[INFO] Iter 1100, episodic return is 0.00. \n",
      "[INFO] Iter 1150, episodic return is 0.00. \n",
      "[INFO] Iter 1200, episodic return is 0.00. \n",
      "[INFO] Iter 1250, episodic return is 0.00. \n",
      "[INFO] Iter 1300, episodic return is 0.00. \n",
      "[INFO] Iter 1350, episodic return is 0.00. \n",
      "[INFO] Iter 1400, episodic return is 0.00. \n",
      "[INFO] Iter 1450, episodic return is 0.00. \n",
      "[INFO] Iter 1500, episodic return is 0.00. \n",
      "[INFO] Iter 1550, episodic return is 0.00. \n",
      "[INFO] Iter 1600, episodic return is 0.00. \n",
      "[INFO] Iter 1650, episodic return is 0.00. \n",
      "[INFO] Iter 1700, episodic return is 0.00. \n",
      "[INFO] Iter 1750, episodic return is 0.00. \n",
      "[INFO] Iter 1800, episodic return is 0.00. \n",
      "[INFO] Iter 1850, episodic return is 0.00. \n",
      "[INFO] Iter 1900, episodic return is 0.00. \n",
      "[INFO] Iter 1950, episodic return is 0.00. \n",
      "[INFO] Iter 2000, episodic return is 0.00. \n",
      "[INFO] Iter 2050, episodic return is 0.00. \n",
      "[INFO] Iter 2100, episodic return is 0.00. \n",
      "[INFO] Iter 2150, episodic return is 1.00. \n",
      "[INFO] Iter 2150, episodic return 1.000 is greater than reward threshold 0.99. Congratulation! Now we exit the training process.\n"
     ]
    },
    {
     "name": "stdout",
     "output_type": "stream",
     "text": [
      "Environment is closed.\n"
     ]
    }
   ],
   "source": [
    "# Run this cell without modification\n",
    "\n",
    "q_learning_trainer, _ = run(\n",
    "    trainer_cls=QLearningTrainer,\n",
    "    config=dict(\n",
    "        max_iteration=5000,\n",
    "        evaluate_interval=50,\n",
    "        evaluate_num_episodes=50,\n",
    "        env_name='FrozenLakeNotSlippery-v1'\n",
    "    ),\n",
    "    reward_threshold=0.99\n",
    ")\n"
   ]
  },
  {
   "cell_type": "code",
   "execution_count": 10,
   "id": "9fe03c52",
   "metadata": {
    "colab": {
     "base_uri": "https://localhost:8080/"
    },
    "id": "9fe03c52",
    "outputId": "57d058af-741d-422b-d84c-26f5bbc61820"
   },
   "outputs": [
    {
     "data": {
      "text/html": [
       "<table class=\"show_videos\" style=\"border-spacing:0px;\"><tr><td style=\"padding:1px;\"><video controls width=\"256\" height=\"256\" style=\"object-fit:cover;\" loop autoplay muted>\n",
       "      <source src=\"data:video/mp4;base64,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\" type=\"video/mp4\"/>\n",
       "      This browser does not support the video tag.\n",
       "      </video></td></tr></table>"
      ],
      "text/plain": [
       "<IPython.core.display.HTML object>"
      ]
     },
     "metadata": {},
     "output_type": "display_data"
    }
   ],
   "source": [
    "# Run this cell without modification\n",
    "\n",
    "# Render the learned behavior\n",
    "_, eval_info = evaluate(\n",
    "    policy=q_learning_trainer.policy,\n",
    "    num_episodes=1,\n",
    "    env_name=q_learning_trainer.env_name,\n",
    "    render=\"rgb_array\",  # Visualize the behavior here in the cell \n",
    "    sleep=0.2  # The time interval between two rendering frames\n",
    ")\n",
    "animate(eval_info[\"frames\"], fps=2)"
   ]
  },
  {
   "cell_type": "markdown",
   "id": "e198cc0a",
   "metadata": {
    "id": "e198cc0a"
   },
   "source": [
    "## Section 3: Implement Deep Q Learning in Pytorch\n",
    "\n",
    "(30 / 100 points)\n",
    "\n",
    "In this section, we will implement a neural network and train it with Deep Q Learning with Pytorch, a powerful deep learning framework. \n",
    "\n",
    "If you are not familiar with Pytorch, we suggest you to go through pytorch official quickstart tutorials:\n",
    "1. [quickstart](https://pytorch.org/tutorials/beginner/deep_learning_60min_blitz.html)\n",
    "2. [tutorial on RL](https://pytorch.org/tutorials/intermediate/reinforcement_q_learning.html)\n",
    "\n",
    "Different from the Q learning in Section 2, we will implement Deep Q Network (DQN) in this section. The main differences are summarized as follows:\n",
    "\n",
    "**DQN requires an experience replay memory to store the transitions.** A replay memory is implemented in the following `ExperienceReplayMemory` class. It contains a certain amount of transitions: `(s_t, a_t, r_t, s_t+1, done_t)`. When the memory is full, the earliest transition is discarded and the latest one is stored.\n",
    "\n",
    "The replay memory increases the sample efficiency (since each transition might be used multiple times) when solving complex task. However, you may find it learn slowly in this assignment since the CartPole-v1 is a relatively easy environment.\n",
    "\n",
    "\n",
    "**DQN has a delayed-updating target network.** DQN maintains another neural network called the target network that has identical structure of the Q network. After a certain amount of steps has been taken, the target network copies the parameters of the Q network to itself. The update of the target network will be much less frequent than the update of the Q network, since the Q network is updated in each step.\n",
    "\n",
    "The target network is used to stabilize the estimation of the TD error. In DQN, the TD error is estimated as:\n",
    "\n",
    "$$(r_t + \\gamma \\max_{a_{t+1}} Q^{target}(s_{t+1}, a_{t+1}) - Q(s_t, a_t))$$\n",
    "\n",
    "The Q value of the next state is estimated by the target network, not the Q network that is being updated. This mechanism can reduce the variance of gradient because the next Q values is not influenced by the update of current Q network.\n"
   ]
  },
  {
   "cell_type": "markdown",
   "id": "aa025029",
   "metadata": {},
   "source": [
    "### Section 3.1: Build DQN trainer"
   ]
  },
  {
   "cell_type": "code",
   "execution_count": 11,
   "id": "6a87cab7",
   "metadata": {
    "id": "6a87cab7"
   },
   "outputs": [],
   "source": [
    "# Solve the TODOs and remove `pass`\n",
    "\n",
    "from collections import deque\n",
    "import random\n",
    "\n",
    "\n",
    "class ExperienceReplayMemory:\n",
    "    \"\"\"Store and sample the transitions\"\"\"\n",
    "\n",
    "    def __init__(self, capacity):\n",
    "        # deque is a useful class which acts like a list but only contain\n",
    "        # finite elements. When adding new element into the deque will make deque full with \n",
    "        # `maxlen` elements, the oldest element (the index 0 element) will be removed.\n",
    "\n",
    "        # TODO: uncomment next line. \n",
    "        self.memory = deque(maxlen=capacity)\n",
    "\n",
    "    def push(self, transition):\n",
    "        self.memory.append(transition)\n",
    "\n",
    "    def sample(self, batch_size):\n",
    "        return random.sample(self.memory, batch_size)\n",
    "\n",
    "    def __len__(self):\n",
    "        return len(self.memory)"
   ]
  },
  {
   "cell_type": "code",
   "execution_count": 12,
   "id": "1a72ec0f",
   "metadata": {
    "colab": {
     "base_uri": "https://localhost:8080/"
    },
    "id": "1a72ec0f",
    "outputId": "20a2f35b-6a96-48f1-8626-707411112d68"
   },
   "outputs": [
    {
     "name": "stdout",
     "output_type": "stream",
     "text": [
      "Name of each parameter vectors:  odict_keys(['action_value.0.weight', 'action_value.0.bias', 'action_value.2.weight', 'action_value.2.bias', 'action_value.4.weight', 'action_value.4.bias'])\n",
      "Test passed!\n"
     ]
    }
   ],
   "source": [
    "# Solve the TODOs and remove `pass`\n",
    "\n",
    "class PytorchModel(nn.Module):\n",
    "    def __init__(self, num_inputs, num_outputs, hidden_units=100):\n",
    "        super(PytorchModel, self).__init__()\n",
    "\n",
    "        # TODO: Build a nn.Sequential object as the neural network with two hidden layers and one output layer.\n",
    "        #\n",
    "        # The first hidden layer takes `num_inputs`-dim vector as input and has `hidden_units` hidden units,\n",
    "        # followed by a ReLU activation function.\n",
    "        # \n",
    "        # The second hidden layer takes `hidden_units`-dim vector as input and has `hidden_units` hidden units,\n",
    "        # followed by a ReLU activation function.\n",
    "        # \n",
    "        # The output layer takes `hidden_units`-dim vector as input and return `num_outputs`-dim vctor as output.\n",
    "        self.action_value = nn.Sequential(\n",
    "            nn.Linear(num_inputs, hidden_units),\n",
    "            nn.ReLU(),\n",
    "            nn.Linear(hidden_units, hidden_units),\n",
    "            nn.ReLU(),\n",
    "            nn.Linear(hidden_units, num_outputs)\n",
    "        )\n",
    "\n",
    "    def forward(self, obs):\n",
    "        return self.action_value(obs)\n",
    "\n",
    "\n",
    "# Test\n",
    "test_pytorch_model = PytorchModel(num_inputs=3, num_outputs=7, hidden_units=123)\n",
    "assert isinstance(test_pytorch_model.action_value, nn.Module)\n",
    "assert len(test_pytorch_model.state_dict()) == 6\n",
    "assert test_pytorch_model.state_dict()[\"action_value.0.weight\"].shape == (123, 3)\n",
    "print(\"Name of each parameter vectors: \", test_pytorch_model.state_dict().keys())\n",
    "\n",
    "print(\"Test passed!\")"
   ]
  },
  {
   "cell_type": "code",
   "execution_count": 13,
   "id": "dddbd300",
   "metadata": {
    "id": "dddbd300"
   },
   "outputs": [],
   "source": [
    "# Solve the TODOs and remove `pass`\n",
    "\n",
    "DQN_CONFIG = merge_config(dict(\n",
    "    parameter_std=0.01,\n",
    "    learning_rate=0.001,\n",
    "    hidden_dim=100,\n",
    "    clip_norm=1.0,\n",
    "    clip_gradient=True,\n",
    "    max_iteration=1000,\n",
    "    max_episode_length=1000,\n",
    "    evaluate_interval=100,\n",
    "    gamma=0.99,\n",
    "    eps=0.3,\n",
    "    memory_size=50000,\n",
    "    learn_start=5000,\n",
    "    batch_size=32,\n",
    "    target_update_freq=500,  # in steps\n",
    "    learn_freq=1,  # in steps\n",
    "    n=1,\n",
    "    env_name=\"CartPole-v1\",\n",
    "), Q_LEARNING_TRAINER_CONFIG)\n",
    "\n",
    "\n",
    "def to_tensor(x):\n",
    "    \"\"\"A helper function to transform a numpy array to a Pytorch Tensor\"\"\"\n",
    "    if isinstance(x, np.ndarray):\n",
    "        x = torch.from_numpy(x).type(torch.float32)\n",
    "    assert isinstance(x, torch.Tensor)\n",
    "    if x.dim() == 3 or x.dim() == 1:\n",
    "        x = x.unsqueeze(0)\n",
    "    assert x.dim() == 2 or x.dim() == 4, x.shape\n",
    "    return x\n",
    "\n",
    "\n",
    "class DQNTrainer(AbstractTrainer):\n",
    "    def __init__(self, config):\n",
    "        config = merge_config(config, DQN_CONFIG)\n",
    "        self.learning_rate = config[\"learning_rate\"]\n",
    "        super().__init__(config)\n",
    "\n",
    "        self.memory = ExperienceReplayMemory(config[\"memory_size\"])\n",
    "\n",
    "        self.learn_start = config[\"learn_start\"]\n",
    "        self.batch_size = config[\"batch_size\"]\n",
    "        self.target_update_freq = config[\"target_update_freq\"]\n",
    "        self.clip_norm = config[\"clip_norm\"]\n",
    "        self.hidden_dim = config[\"hidden_dim\"]\n",
    "        self.max_episode_length = self.config[\"max_episode_length\"]\n",
    "        self.learning_rate = self.config[\"learning_rate\"]\n",
    "        self.gamma = self.config[\"gamma\"]\n",
    "        self.n = self.config[\"n\"]\n",
    "\n",
    "        self.step_since_update = 0\n",
    "        self.total_step = 0\n",
    "\n",
    "        # You need to setup the parameter for your function approximator.\n",
    "        self.initialize_parameters()\n",
    "\n",
    "    def initialize_parameters(self):\n",
    "        # TODO: Initialize the Q network and the target network using PytorchModel class.\n",
    "        self.network = PytorchModel(self.obs_dim, self.act_dim)\n",
    "        print(\"Setting up self.network with obs dim: {} and action dim: {}\".format(self.obs_dim, self.act_dim))\n",
    "\n",
    "        self.network.eval()\n",
    "        self.network.share_memory()\n",
    "\n",
    "        # Initialize target network to be identical to self.network. \n",
    "        # You should put the weights of self.network into self.target_network.\n",
    "        # TODO: Uncomment next few lines\n",
    "        self.target_network = PytorchModel(self.obs_dim, self.act_dim)\n",
    "        self.target_network.load_state_dict(self.network.state_dict())\n",
    "\n",
    "        self.target_network.eval()\n",
    "\n",
    "        # Build Adam optimizer and MSE Loss.\n",
    "        # TODO: Uncomment next few lines\n",
    "        self.optimizer = torch.optim.Adam(\n",
    "            self.network.parameters(), lr=self.learning_rate\n",
    "        )\n",
    "        self.loss = nn.MSELoss()\n",
    "\n",
    "    def compute_values(self, processed_state):\n",
    "        \"\"\"Compute the value for each potential action. Note that you\n",
    "        should NOT preprocess the state here.\"\"\"\n",
    "        values = self.network(processed_state).detach().numpy()\n",
    "        return values\n",
    "\n",
    "    def compute_action(self, processed_state, eps=None):\n",
    "        \"\"\"Compute the action given the state. Note that the input\n",
    "        is the processed state.\"\"\"\n",
    "        values = self.compute_values(processed_state)\n",
    "        assert values.ndim == 1, values.shape\n",
    "\n",
    "        if eps is None:\n",
    "            eps = self.eps\n",
    "\n",
    "        if np.random.uniform(0, 1) < eps:\n",
    "            action = self.env.action_space.sample()\n",
    "        else:\n",
    "            action = np.argmax(values)\n",
    "        return action\n",
    "\n",
    "    def train(self, iteration=None):\n",
    "        iteration_string = \"\" if iteration is None else f\"Iter {iteration}: \"\n",
    "        obs, info = self.env.reset()\n",
    "        processed_obs = self.process_state(obs)\n",
    "        act = self.compute_action(processed_obs)\n",
    "\n",
    "        stat = {\"loss\": [], \"success_rate\": np.nan}\n",
    "\n",
    "        for t in range(self.max_episode_length):\n",
    "            next_obs, reward, terminated, truncated, info = self.env.step(act)\n",
    "            done = terminated or truncated\n",
    "\n",
    "            next_processed_obs = self.process_state(next_obs)\n",
    "\n",
    "            # Push the transition into memory.\n",
    "            self.memory.push(\n",
    "                (processed_obs, act, reward, next_processed_obs, done)\n",
    "            )\n",
    "\n",
    "            processed_obs = next_processed_obs\n",
    "            act = self.compute_action(next_processed_obs)\n",
    "            self.step_since_update += 1\n",
    "            self.total_step += 1\n",
    "\n",
    "            if done:\n",
    "                if \"arrive_dest\" in info:\n",
    "                    stat[\"success_rate\"] = info[\"arrive_dest\"]\n",
    "                break\n",
    "\n",
    "            if t % self.config[\"learn_freq\"] != 0:\n",
    "                # It's not necessary to update policy in each environmental interaction.\n",
    "                continue\n",
    "\n",
    "            if len(self.memory) < self.learn_start:\n",
    "                continue\n",
    "            elif len(self.memory) == self.learn_start:\n",
    "                logging.info(\n",
    "                    \"{}Current memory contains {} transitions, \"\n",
    "                    \"start learning!\".format(iteration_string, self.learn_start)\n",
    "                )\n",
    "\n",
    "            batch = self.memory.sample(self.batch_size)\n",
    "\n",
    "            # Transform a batch of elements in transitions into tensors.\n",
    "            state_batch = to_tensor(\n",
    "                np.stack([transition[0] for transition in batch])\n",
    "            )\n",
    "            action_batch = to_tensor(\n",
    "                np.stack([transition[1] for transition in batch])\n",
    "            )\n",
    "            reward_batch = to_tensor(\n",
    "                np.stack([transition[2] for transition in batch])\n",
    "            )\n",
    "            next_state_batch = torch.stack(\n",
    "                [transition[3] for transition in batch]\n",
    "            )\n",
    "            done_batch = to_tensor(\n",
    "                np.stack([transition[4] for transition in batch])\n",
    "            )\n",
    "\n",
    "            with torch.no_grad():\n",
    "\n",
    "                # TODO: Compute the Q values for the next states by calling target network.\n",
    "                Q_t_plus_one: torch.Tensor = self.target_network(next_state_batch)\n",
    "\n",
    "                assert isinstance(Q_t_plus_one, torch.Tensor)\n",
    "\n",
    "                # TODO: Compute the target values for current state.\n",
    "                # The Q_objective will be used as the objective in the loss function.\n",
    "                # Hint: Remember to use done_batch.\n",
    "                Q_objective = reward_batch + (1 - done_batch) * self.gamma * Q_t_plus_one.max(dim=1).values\n",
    "                Q_objective = Q_objective.view(-1)\n",
    "\n",
    "                assert Q_objective.shape == (self.batch_size,)\n",
    "\n",
    "            self.network.train()  # Set the network to \"train\" mode.\n",
    "\n",
    "            # TODO: Collect the Q values in batch.\n",
    "            # Hint: The network will return the Q values for all actions at a given state.\n",
    "            #  So we need to \"extract\" the Q value for the action we've taken.\n",
    "            #  You need to use torch.gather to manipulate the 2nd dimension of the return\n",
    "            #  tensor from the network and extract the desired Q values.\n",
    "            Q_t: torch.Tensor = torch.gather(self.network(state_batch), 1, action_batch.view(-1).unsqueeze(1).long())\n",
    "            Q_t = Q_t.view(-1)\n",
    "\n",
    "            assert Q_t.shape == Q_objective.shape\n",
    "\n",
    "            # Update the network\n",
    "            self.optimizer.zero_grad()\n",
    "            loss = self.loss(input=Q_t, target=Q_objective)\n",
    "            stat['loss'].append(loss.item())\n",
    "            loss.backward()\n",
    "\n",
    "            # TODO: Apply gradient clipping with pytorch utility. Uncomment next line.\n",
    "            nn.utils.clip_grad_norm_(self.network.parameters(), self.clip_norm)\n",
    "\n",
    "            self.optimizer.step()\n",
    "            self.network.eval()\n",
    "\n",
    "        if len(self.memory) >= self.learn_start and \\\n",
    "                self.step_since_update > self.target_update_freq:\n",
    "            self.step_since_update = 0\n",
    "\n",
    "            # TODO: Copy the weights of self.network to self.target_network.\n",
    "            self.target_network.load_state_dict(self.network.state_dict())\n",
    "\n",
    "            self.target_network.eval()\n",
    "\n",
    "        ret = {\"loss\": np.mean(stat[\"loss\"]), \"episode_len\": t}\n",
    "        if \"success_rate\" in stat:\n",
    "            ret[\"success_rate\"] = stat[\"success_rate\"]\n",
    "        return ret\n",
    "\n",
    "    def process_state(self, state):\n",
    "        return torch.from_numpy(state).type(torch.float32)\n",
    "\n",
    "    def save(self, loc=\"model.pt\"):\n",
    "        torch.save(self.network.state_dict(), loc)\n",
    "\n",
    "    def load(self, loc=\"model.pt\"):\n",
    "        self.network.load_state_dict(torch.load(loc))\n"
   ]
  },
  {
   "cell_type": "markdown",
   "id": "45f6fabd",
   "metadata": {},
   "source": [
    "### Section 3.2: Test DQN trainer"
   ]
  },
  {
   "cell_type": "code",
   "execution_count": 14,
   "id": "30d4a27d",
   "metadata": {
    "colab": {
     "base_uri": "https://localhost:8080/"
    },
    "id": "30d4a27d",
    "outputId": "7a3c068c-a580-498a-953e-275da6def868"
   },
   "outputs": [
    {
     "name": "stdout",
     "output_type": "stream",
     "text": [
      "Setting up self.network with obs dim: 4 and action dim: 2\n"
     ]
    },
    {
     "name": "stderr",
     "output_type": "stream",
     "text": [
      "C:\\Users\\User\\anaconda3\\lib\\site-packages\\numpy\\core\\fromnumeric.py:3464: RuntimeWarning: Mean of empty slice.\n",
      "  return _methods._mean(a, axis=axis, dtype=dtype,\n",
      "C:\\Users\\User\\anaconda3\\lib\\site-packages\\numpy\\core\\_methods.py:192: RuntimeWarning: invalid value encountered in scalar divide\n",
      "  ret = ret.dtype.type(ret / rcount)\n",
      "[INFO] Iter 0, Step 8, episodic return is 9.40. {'episode_len': 8.0}\n",
      "[INFO] Iter 9: Current memory contains 100 transitions, start learning!\n",
      "[INFO] Iter 10, Step 111, episodic return is 9.40. {'loss': 0.174, 'episode_len': 13.0}\n"
     ]
    },
    {
     "name": "stdout",
     "output_type": "stream",
     "text": [
      "Now your codes should be bug-free.\n",
      "Setting up self.network with obs dim: 4 and action dim: 2\n"
     ]
    },
    {
     "name": "stderr",
     "output_type": "stream",
     "text": [
      "[INFO] Iter 20, Step 233, episodic return is 10.20. {'loss': 0.0017, 'episode_len': 9.0}\n"
     ]
    },
    {
     "name": "stdout",
     "output_type": "stream",
     "text": [
      "Environment is closed.\n",
      "Test passed!\n"
     ]
    }
   ],
   "source": [
    "# Run this cell without modification\n",
    "\n",
    "# Build the test trainer.\n",
    "test_trainer = DQNTrainer({})\n",
    "\n",
    "# Test compute_values\n",
    "fake_state = test_trainer.env.observation_space.sample()\n",
    "processed_state = test_trainer.process_state(fake_state)\n",
    "assert processed_state.shape == (test_trainer.obs_dim,), processed_state.shape\n",
    "values = test_trainer.compute_values(processed_state)\n",
    "assert values.shape == (test_trainer.act_dim,), values.shape\n",
    "\n",
    "test_trainer.train()\n",
    "print(\"Now your codes should be bug-free.\")\n",
    "\n",
    "_ = run(DQNTrainer, dict(\n",
    "    max_iteration=20,\n",
    "    evaluate_interval=10,\n",
    "    learn_start=100,\n",
    "    env_name=\"CartPole-v1\",\n",
    "))\n",
    "\n",
    "test_trainer.save(\"test_trainer.pt\")\n",
    "test_trainer.load(\"test_trainer.pt\")\n",
    "\n",
    "print(\"Test passed!\")"
   ]
  },
  {
   "cell_type": "markdown",
   "id": "ff767ce5",
   "metadata": {},
   "source": [
    "### Section 3.3: Train DQN agents in CartPole"
   ]
  },
  {
   "cell_type": "markdown",
   "id": "a53bf178",
   "metadata": {},
   "source": [
    "First, we visualize a random agent in CartPole environment."
   ]
  },
  {
   "cell_type": "code",
   "execution_count": 15,
   "id": "0221e34d",
   "metadata": {},
   "outputs": [
    {
     "data": {
      "text/html": [
       "<table class=\"show_videos\" style=\"border-spacing:0px;\"><tr><td style=\"padding:1px;\"><video controls width=\"600\" height=\"400\" style=\"object-fit:cover;\" loop autoplay muted>\n",
       "      <source src=\"data:video/mp4;base64,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\" type=\"video/mp4\"/>\n",
       "      This browser does not support the video tag.\n",
       "      </video></td></tr></table>"
      ],
      "text/plain": [
       "<IPython.core.display.HTML object>"
      ]
     },
     "metadata": {},
     "output_type": "display_data"
    },
    {
     "name": "stdout",
     "output_type": "stream",
     "text": [
      "A random agent achieves 12.0 return.\n"
     ]
    }
   ],
   "source": [
    "# Run this cell without modification\n",
    "\n",
    "eval_reward, eval_info = evaluate(\n",
    "    policy=lambda x: np.random.randint(2),\n",
    "    num_episodes=1,\n",
    "    env_name=\"CartPole-v1\",\n",
    "    render=\"rgb_array\",  # Visualize the behavior here in the cell \n",
    ")\n",
    "\n",
    "animate(eval_info[\"frames\"])\n",
    "\n",
    "print(\"A random agent achieves {} return.\".format(eval_reward))"
   ]
  },
  {
   "cell_type": "code",
   "execution_count": 16,
   "id": "957a5dbc",
   "metadata": {
    "colab": {
     "base_uri": "https://localhost:8080/"
    },
    "id": "957a5dbc",
    "outputId": "71a980c5-2bad-4727-f703-a4562af7028a",
    "scrolled": false
   },
   "outputs": [
    {
     "name": "stderr",
     "output_type": "stream",
     "text": [
      "[INFO] Iter 0, Step 8, episodic return is 9.40. {'episode_len': 8.0}\n"
     ]
    },
    {
     "name": "stdout",
     "output_type": "stream",
     "text": [
      "Setting up self.network with obs dim: 4 and action dim: 2\n"
     ]
    },
    {
     "name": "stderr",
     "output_type": "stream",
     "text": [
      "[INFO] Iter 100, Step 867, episodic return is 9.40. {'episode_len': 9.0}\n",
      "[INFO] Iter 200, Step 1834, episodic return is 11.50. {'loss': 0.9236, 'episode_len': 11.0}\n",
      "[INFO] Iter 300, Step 2783, episodic return is 9.40. {'loss': 0.0676, 'episode_len': 8.0}\n",
      "[INFO] Iter 400, Step 3673, episodic return is 9.40. {'loss': 0.3166, 'episode_len': 9.0}\n",
      "[INFO] Iter 500, Step 4564, episodic return is 9.40. {'loss': 0.1603, 'episode_len': 9.0}\n",
      "[INFO] Iter 600, Step 5427, episodic return is 9.40. {'loss': 0.8293, 'episode_len': 9.0}\n",
      "[INFO] Iter 700, Step 6537, episodic return is 10.20. {'loss': 0.3195, 'episode_len': 9.0}\n",
      "[INFO] Iter 800, Step 8234, episodic return is 20.70. {'loss': 0.3313, 'episode_len': 18.0}\n",
      "[INFO] Iter 900, Step 10265, episodic return is 61.50. {'loss': 0.3604, 'episode_len': 52.0}\n",
      "[INFO] Iter 1000, Step 18363, episodic return is 114.60. {'loss': 0.7663, 'episode_len': 87.0}\n",
      "[INFO] Iter 1100, Step 33768, episodic return is 189.00. {'loss': 0.8596, 'episode_len': 153.0}\n",
      "[INFO] Iter 1200, Step 52474, episodic return is 207.90. {'loss': 0.7994, 'episode_len': 195.0}\n",
      "[INFO] Iter 1300, Step 73266, episodic return is 210.70. {'loss': 3.8946, 'episode_len': 155.0}\n",
      "[INFO] Iter 1400, Step 94595, episodic return is 231.40. {'loss': 3.8537, 'episode_len': 207.0}\n",
      "[INFO] Iter 1500, Step 116318, episodic return is 234.80. {'loss': 0.2282, 'episode_len': 190.0}\n",
      "[INFO] Iter 1600, Step 137684, episodic return is 220.90. {'loss': 2.343, 'episode_len': 271.0}\n",
      "[INFO] Iter 1700, Step 156305, episodic return is 163.40. {'loss': 0.6221, 'episode_len': 153.0}\n",
      "[INFO] Iter 1800, Step 175159, episodic return is 173.70. {'loss': 0.2176, 'episode_len': 141.0}\n",
      "[INFO] Iter 1900, Step 194147, episodic return is 224.50. {'loss': 0.6672, 'episode_len': 215.0}\n",
      "[INFO] Iter 2000, Step 215145, episodic return is 264.70. {'loss': 0.6259, 'episode_len': 188.0}\n",
      "[INFO] Iter 2100, Step 240576, episodic return is 205.30. {'loss': 0.1061, 'episode_len': 181.0}\n",
      "[INFO] Iter 2200, Step 271670, episodic return is 230.90. {'loss': 0.1897, 'episode_len': 242.0}\n",
      "[INFO] Iter 2300, Step 304432, episodic return is 498.90. {'loss': 0.6336, 'episode_len': 499.0}\n",
      "[INFO] Iter 2300, episodic return 498.900 is greater than reward threshold 450.0. Congratulation! Now we exit the training process.\n"
     ]
    },
    {
     "name": "stdout",
     "output_type": "stream",
     "text": [
      "Environment is closed.\n"
     ]
    }
   ],
   "source": [
    "# Run this cell without modification\n",
    "\n",
    "pytorch_trainer, pytorch_stat = run(DQNTrainer, dict(\n",
    "    max_iteration=5000,\n",
    "    evaluate_interval=100,\n",
    "    learning_rate=0.001,\n",
    "    clip_norm=10.0,\n",
    "    memory_size=50000,\n",
    "    learn_start=1000,\n",
    "    eps=0.1,\n",
    "    target_update_freq=2000,\n",
    "    batch_size=128,\n",
    "    learn_freq=32,\n",
    "    env_name=\"CartPole-v1\",\n",
    "), reward_threshold=450.0)\n",
    "\n",
    "reward, _ = pytorch_trainer.evaluate()\n",
    "assert reward > 400.0, \"Check your codes. \" \\\n",
    "                       \"Your agent should achieve {} reward in 5000 iterations.\" \\\n",
    "                       \"But it achieve {} reward in evaluation.\".format(400.0, reward)\n",
    "\n",
    "pytorch_trainer.save(\"dqn_trainer_cartpole.pt\")\n",
    "\n",
    "# Should solve the task in 10 minutes"
   ]
  },
  {
   "cell_type": "code",
   "execution_count": 17,
   "id": "66a4cf9a",
   "metadata": {
    "colab": {
     "base_uri": "https://localhost:8080/",
     "height": 434
    },
    "id": "66a4cf9a",
    "outputId": "ac906699-4cd4-40ad-eaea-d41b975d6a14"
   },
   "outputs": [
    {
     "data": {
      "text/html": [
       "<table class=\"show_videos\" style=\"border-spacing:0px;\"><tr><td style=\"padding:1px;\"><video controls width=\"600\" height=\"400\" style=\"object-fit:cover;\" loop autoplay muted>\n",
       "      <source src=\"data:video/mp4;base64,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\" type=\"video/mp4\"/>\n",
       "      This browser does not support the video tag.\n",
       "      </video></td></tr></table>"
      ],
      "text/plain": [
       "<IPython.core.display.HTML object>"
      ]
     },
     "metadata": {},
     "output_type": "display_data"
    },
    {
     "name": "stdout",
     "output_type": "stream",
     "text": [
      "DQN agent achieves 500.0 return.\n"
     ]
    }
   ],
   "source": [
    "# Run this cell without modification\n",
    "\n",
    "# Render the learned behavior\n",
    "eval_reward, eval_info = evaluate(\n",
    "    policy=pytorch_trainer.policy,\n",
    "    num_episodes=1,\n",
    "    env_name=pytorch_trainer.env_name,\n",
    "    render=\"rgb_array\",  # Visualize the behavior here in the cell \n",
    ")\n",
    "\n",
    "animate(eval_info[\"frames\"])\n",
    "\n",
    "print(\"DQN agent achieves {} return.\".format(eval_reward))"
   ]
  },
  {
   "cell_type": "markdown",
   "id": "98b60f6c",
   "metadata": {},
   "source": [
    "### Section 3.4: Train DQN agents in MetaDrive"
   ]
  },
  {
   "cell_type": "code",
   "execution_count": 18,
   "id": "e93c9cea",
   "metadata": {
    "id": "e93c9cea"
   },
   "outputs": [],
   "source": [
    "# Run this cell without modification\n",
    "\n",
    "def register_metadrive():\n",
    "    try:\n",
    "        from metadrive.envs import MetaDriveEnv\n",
    "        from metadrive.utils.config import merge_config_with_unknown_keys\n",
    "    except ImportError as e:\n",
    "        print(\"Please install MetaDrive through: pip install git+https://github.com/decisionforce/metadrive\")\n",
    "        raise e\n",
    "\n",
    "    env_names = []\n",
    "    try:\n",
    "        class MetaDriveEnvTut(gym.Wrapper):\n",
    "            def __init__(self, config, *args, render_mode=None, **kwargs):\n",
    "                # Ignore render_mode\n",
    "                self._render_mode = render_mode\n",
    "                super().__init__(MetaDriveEnv(config))\n",
    "                self.action_space = gym.spaces.Discrete(int(np.prod(self.env.action_space.n)))\n",
    "\n",
    "            def reset(self, *args, seed=None, render_mode=None, options=None, **kwargs):\n",
    "                # Ignore seed and render_mode\n",
    "                return self.env.reset(*args, **kwargs)\n",
    "\n",
    "            def render(self):\n",
    "                return self.env.render(mode=self._render_mode)\n",
    "\n",
    "        def _make_env(*args, **kwargs):\n",
    "            return MetaDriveEnvTut(*args, **kwargs)\n",
    "\n",
    "        env_name = \"MetaDrive-Tut-Easy-v0\"\n",
    "        gym.register(id=env_name, entry_point=_make_env, kwargs={\"config\": dict(\n",
    "            map=\"S\",\n",
    "            start_seed=0,\n",
    "            num_scenarios=1,\n",
    "            horizon=200,\n",
    "            discrete_action=True,\n",
    "            discrete_steering_dim=3,\n",
    "            discrete_throttle_dim=3\n",
    "        )})\n",
    "        env_names.append(env_name)\n",
    "\n",
    "        env_name = \"MetaDrive-Tut-Hard-v0\"\n",
    "        gym.register(id=env_name, entry_point=_make_env, kwargs={\"config\": dict(\n",
    "            map=\"CCC\",\n",
    "            start_seed=0,\n",
    "            num_scenarios=10,\n",
    "            discrete_action=True,\n",
    "            discrete_steering_dim=5,\n",
    "            discrete_throttle_dim=5\n",
    "        )})\n",
    "        env_names.append(env_name)\n",
    "    except gym.error.Error as e:\n",
    "        print(\"Information when registering MetaDrive: \", e)\n",
    "    else:\n",
    "        print(\"Successfully registered MetaDrive environments: \", env_names)\n"
   ]
  },
  {
   "cell_type": "code",
   "execution_count": 19,
   "id": "89fb5d1e",
   "metadata": {
    "colab": {
     "base_uri": "https://localhost:8080/"
    },
    "id": "89fb5d1e",
    "outputId": "2eb2cf53-138d-4143-b36c-eadbcfa11be7"
   },
   "outputs": [
    {
     "name": "stdout",
     "output_type": "stream",
     "text": [
      "Successfully registered MetaDrive environments:  ['MetaDrive-Tut-Easy-v0', 'MetaDrive-Tut-Hard-v0']\n"
     ]
    }
   ],
   "source": [
    "# Run this cell without modification\n",
    "\n",
    "register_metadrive()"
   ]
  },
  {
   "cell_type": "code",
   "execution_count": 20,
   "id": "b580ec99",
   "metadata": {
    "colab": {
     "base_uri": "https://localhost:8080/"
    },
    "id": "b580ec99",
    "outputId": "08cd25dc-2ed5-46b5-e2ed-3ecf86e61942"
   },
   "outputs": [
    {
     "name": "stderr",
     "output_type": "stream",
     "text": [
      "\u001b[38;20m[INFO] MetaDrive version: 0.4.1.2\u001b[0m\n",
      "\u001b[38;20m[INFO] Sensors: [lidar: Lidar(50,), side_detector: SideDetector(), lane_line_detector: LaneLineDetector()]\u001b[0m\n",
      "\u001b[38;20m[INFO] Render Mode: none\u001b[0m\n",
      "\u001b[38;20m[INFO] Assets version: 0.4.1.2\u001b[0m\n"
     ]
    },
    {
     "name": "stdout",
     "output_type": "stream",
     "text": [
      "Setting up self.network with obs dim: 259 and action dim: 9\n"
     ]
    },
    {
     "name": "stderr",
     "output_type": "stream",
     "text": [
      "\u001b[38;20m[INFO] Episode ended! Scenario Index: 0 Reason: max step \u001b[0m\n",
      "\u001b[38;20m[INFO] Episode ended! Scenario Index: 0 Reason: max step \u001b[0m\n",
      "\u001b[38;20m[INFO] Episode ended! Scenario Index: 0 Reason: max step \u001b[0m\n",
      "\u001b[38;20m[INFO] Episode ended! Scenario Index: 0 Reason: max step \u001b[0m\n",
      "\u001b[38;20m[INFO] Episode ended! Scenario Index: 0 Reason: max step \u001b[0m\n",
      "\u001b[38;20m[INFO] Episode ended! Scenario Index: 0 Reason: max step \u001b[0m\n",
      "\u001b[38;20m[INFO] Episode ended! Scenario Index: 0 Reason: max step \u001b[0m\n",
      "\u001b[38;20m[INFO] Episode ended! Scenario Index: 0 Reason: max step \u001b[0m\n",
      "\u001b[38;20m[INFO] Episode ended! Scenario Index: 0 Reason: max step \u001b[0m\n",
      "\u001b[38;20m[INFO] Episode ended! Scenario Index: 0 Reason: max step \u001b[0m\n"
     ]
    },
    {
     "name": "stdout",
     "output_type": "stream",
     "text": [
      "Now your codes should be bug-free.\n"
     ]
    }
   ],
   "source": [
    "# Run this cell without modification\n",
    "\n",
    "# Build the test trainer.\n",
    "test_trainer = DQNTrainer(dict(env_name=\"MetaDrive-Tut-Easy-v0\"))\n",
    "\n",
    "# Test compute_values\n",
    "for _ in range(10):\n",
    "    fake_state = test_trainer.env.observation_space.sample()\n",
    "    processed_state = test_trainer.process_state(fake_state)\n",
    "    assert processed_state.shape == (test_trainer.obs_dim,), processed_state.shape\n",
    "    values = test_trainer.compute_values(processed_state)\n",
    "    assert values.shape == (test_trainer.act_dim,), values.shape\n",
    "\n",
    "    test_trainer.train()\n",
    "\n",
    "print(\"Now your codes should be bug-free.\")\n",
    "test_trainer.env.close()\n",
    "del test_trainer"
   ]
  },
  {
   "cell_type": "code",
   "execution_count": 21,
   "id": "675c9809",
   "metadata": {
    "colab": {
     "base_uri": "https://localhost:8080/"
    },
    "id": "675c9809",
    "outputId": "a45d5773-fc88-464b-ad5c-10dcf94b599f",
    "scrolled": true
   },
   "outputs": [
    {
     "name": "stdout",
     "output_type": "stream",
     "text": [
      "Setting up self.network with obs dim: 259 and action dim: 9\n"
     ]
    },
    {
     "name": "stderr",
     "output_type": "stream",
     "text": [
      "[INFO] Iter 0, Step 199, episodic return is -0.60. {'episode_len': 199.0}\n",
      "[INFO] Iter 10, Step 2189, episodic return is -0.60. {'loss': 0.0041, 'episode_len': 199.0}\n",
      "[INFO] Iter 20, Step 3252, episodic return is -4.48. {'loss': 0.1076, 'episode_len': 8.0, 'success_rate': 0.0}\n",
      "[INFO] Iter 30, Step 4118, episodic return is 125.54. {'loss': 0.1248, 'episode_len': 96.0, 'success_rate': 1.0}\n",
      "[INFO] Iter 30, episodic return 125.539 is greater than reward threshold 120. Congratulation! Now we exit the training process.\n"
     ]
    },
    {
     "name": "stdout",
     "output_type": "stream",
     "text": [
      "Environment is closed.\n",
      "Evaluating 1/1 episodes. We are in 1/1000 steps. Current episode reward: 0.000\n",
      "Evaluating 1/1 episodes. We are in 51/1000 steps. Current episode reward: 35.980\n"
     ]
    },
    {
     "data": {
      "text/html": [
       "<table class=\"show_videos\" style=\"border-spacing:0px;\"><tr><td style=\"padding:1px;\"><video controls width=\"1000\" height=\"1000\" style=\"object-fit:cover;\" loop autoplay muted>\n",
       "      <source src=\"data:video/mp4;base64,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\" type=\"video/mp4\"/>\n",
       "      This browser does not support the video tag.\n",
       "      </video></td></tr></table>"
      ],
      "text/plain": [
       "<IPython.core.display.HTML object>"
      ]
     },
     "metadata": {},
     "output_type": "display_data"
    },
    {
     "name": "stdout",
     "output_type": "stream",
     "text": [
      "DQN agent achieves 125.53851204681443 return in MetaDrive easy environment.\n"
     ]
    }
   ],
   "source": [
    "# Run this cell without modification\n",
    "\n",
    "env_name = \"MetaDrive-Tut-Easy-v0\"\n",
    "\n",
    "pytorch_trainer2, _ = run(DQNTrainer, dict(\n",
    "    max_episode_length=200,\n",
    "    max_iteration=5000,\n",
    "    evaluate_interval=10,\n",
    "    evaluate_num_episodes=10,\n",
    "    learning_rate=0.0001,\n",
    "    clip_norm=10.0,\n",
    "    memory_size=1000000,\n",
    "    learn_start=2000,\n",
    "    eps=0.1,\n",
    "    target_update_freq=5000,\n",
    "    learn_freq=16,\n",
    "    batch_size=256,\n",
    "    env_name=env_name\n",
    "), reward_threshold=120)\n",
    "\n",
    "pytorch_trainer2.save(\"dqn_trainer_metadrive_easy.pt\")\n",
    "\n",
    "# Run this cell without modification\n",
    "\n",
    "# Render the learned behavior\n",
    "# NOTE: The learned agent is marked by green color.\n",
    "eval_reward, eval_info = evaluate(\n",
    "    policy=pytorch_trainer2.policy,\n",
    "    num_episodes=1,\n",
    "    env_name=pytorch_trainer2.env_name,\n",
    "    render=\"topdown\",  # Visualize the behaviors in top-down view\n",
    "    verbose=True\n",
    ")\n",
    "\n",
    "frames = [pygame.surfarray.array3d(f).swapaxes(0, 1) for f in eval_info[\"frames\"]]\n",
    "\n",
    "animate(frames)\n",
    "\n",
    "print(\"DQN agent achieves {} return in MetaDrive easy environment.\".format(eval_reward))"
   ]
  },
  {
   "cell_type": "markdown",
   "id": "2c86871e",
   "metadata": {},
   "source": [
    "## Section 4: Policy gradient methods - REINFORCE\n",
    "\n",
    "(30 / 100 points)\n",
    "\n",
    "Unlike the supervised learning, in RL the optimization objective, the episodic return, is not differentiable w.r.t. the neural network parameters. This can be solved via ***Policy Gradient***. It can be proved that policy gradient is an unbiased estimator of the gradient of the objective.\n",
    "\n",
    "Concretely, let's consider such optimization objective:\n",
    "\n",
    "$$Q = \\mathbb E_{\\text{possible trajectories}} \\sum_t r(a_t, s_t) = \\sum_{s_0, a_0,..} p(s_0, a_0, ..., s_t, a_t) r(s_0, a_0, ..., s_t, a_t) = \\sum_{\\tau} p(\\tau)r(\\tau)$$ \n",
    "\n",
    "wherein $\\sum_t r(a_t, s_t) = r(\\tau)$ is the return of trajectory $\\tau = (s_0, a_0, ...)$. We remove the discount factor for simplicity.\n",
    "Since we want to maximize Q, we can simply compute the gradient of Q w.r.t. parameter $\\theta$ (which is implictly included in $p(\\tau)$):\n",
    "\n",
    "$$\\nabla_\\theta Q = \\nabla_\\theta \\sum_{\\tau} p(\\tau)r(\\tau) = \\sum_{\\tau} r(\\tau) \\nabla_\\theta p(\\tau)$$\n",
    "\n",
    "wherein we've applied a famous trick: $\\nabla_\\theta p(\\tau) = p(\\tau)\\cfrac{\\nabla_\\theta p(\\tau)}{p(\\tau)} = p(\\tau)\\nabla_\\theta \\log p(\\tau)$. Here the $r(\\tau)$ will be determined when $\\tau$ is determined. So it has nothing to do with the policy. We can move it out from the gradient.\n",
    "\n",
    "Introducing a log term can change the product of probabilities to sum of log probabilities. Now we can expand the log of product above to sum of log:\n",
    "\n",
    "$$p_\\theta(\\tau) = p(s_0, a_0, ...) = p(s_0) \\prod_t \\pi_\\theta (a_t|s_t) p(s_{t+1}|s_t, a_t)$$\n",
    "\n",
    "$$\\log p_\\theta (\\tau) = \\log p(s_0) + \\sum_t \\log \\pi_\\theta(a_t|s_t) + \\sum_t \\log p(s_{t+1}|s_t, a_t)$$\n",
    "\n",
    "You can find that the first and third term are not correlated to the parameter of policy $\\pi_\\theta(\\cdot)$. So when we compute $\\nabla_\\theta Q$, we find \n",
    "\n",
    "$$\\nabla_\\theta Q =\n",
    "\\sum_{\\tau} r(\\tau) \\nabla_\\theta p(\\tau) =  \n",
    "\\sum_{\\tau} r(\\tau) p(\\tau)\\nabla_\\theta \\log p(\\tau) =\n",
    "\\sum p_\\theta(\\tau) ( \\sum_t  \\nabla_\\theta \\log \\pi_\\theta(a_t|s_t) ) r(\\tau) d\\tau$$\n",
    "\n",
    "When we sample sufficient amount of data from the environment, the above equation can be estimated via:\n",
    "\n",
    "$$\\nabla_\\theta Q =\\cfrac{1}{N}\\sum_{i=1}^N [( \\sum_t  \\nabla_\\theta \\log \\pi_\\theta(a_{i,t}|s_{i,t}) (\\sum_{t'=t} \\gamma^{t'-t} r(s_{i,t'}, a_{i,t'}) )]$$\n",
    "\n",
    "This algorithm is called REINFORCE algorithm, which is a Monte Carlo Policy Gradient algorithm with long history. In this section, we will implement the it using pytorch."
   ]
  },
  {
   "cell_type": "markdown",
   "id": "3f3f6bf3",
   "metadata": {},
   "source": [
    "The policy network is composed by two parts: \n",
    "\n",
    "1. A basic neural network serves as the function approximator. It output raw values parameterizing the action distribution given current observation. We will reuse PytorchModel here.\n",
    "2. A distribution layer builds upon the neural network to wrap the raw logits output from neural network to a distribution and provides API for sampling action and computing log probability."
   ]
  },
  {
   "cell_type": "markdown",
   "id": "20b067b5",
   "metadata": {},
   "source": [
    "### Section 4.1: Build REINFORCE"
   ]
  },
  {
   "cell_type": "code",
   "execution_count": 22,
   "id": "82ccbd96",
   "metadata": {},
   "outputs": [],
   "source": [
    "# Solve the TODOs and remove `pass`\n",
    "\n",
    "class PGNetwork(nn.Module):\n",
    "    def __init__(self, obs_dim, act_dim, hidden_units=128):\n",
    "        super(PGNetwork, self).__init__()\n",
    "        self.network = PytorchModel(obs_dim, act_dim, hidden_units)\n",
    "\n",
    "    def forward(self, obs):\n",
    "        logit = self.network(obs)\n",
    "\n",
    "        # TODO: Create an object of the class \"torch.distributions.Categorical\" \n",
    "        # Then sample an action from it.\n",
    "        action_distribution = torch.distributions.Categorical(logits=logit)\n",
    "        action = action_distribution.sample()\n",
    "\n",
    "        return action\n",
    "\n",
    "    def log_prob(self, obs, act):\n",
    "        logits = self.network(obs)\n",
    "\n",
    "        # TODO: Create an object of the class \"torch.distributions.Categorical\" \n",
    "        # Then get the log probability of the action `act` in this distribution.\n",
    "        action_distribution = torch.distributions.Categorical(logits=logits)\n",
    "        log_prob = action_distribution.log_prob(act)\n",
    "\n",
    "        return log_prob\n",
    "\n",
    "# Note that we do not implement GaussianPolicy here. So we can't\n",
    "# apply our algorithm to the environment with continous action.\n"
   ]
  },
  {
   "cell_type": "code",
   "execution_count": 23,
   "id": "3d772f93",
   "metadata": {},
   "outputs": [],
   "source": [
    "# Solve the TODOs and remove `pass`\n",
    "\n",
    "PG_DEFAULT_CONFIG = merge_config(dict(\n",
    "    normalize_advantage=True,\n",
    "\n",
    "    clip_norm=10.0,\n",
    "    clip_gradient=True,\n",
    "\n",
    "    hidden_units=100,\n",
    "\n",
    "    max_iteration=1000,\n",
    "\n",
    "    train_batch_size=1000,\n",
    "    gamma=0.99,\n",
    "    learning_rate=0.001,\n",
    "\n",
    "    env_name=\"CartPole-v1\",\n",
    "\n",
    "), DEFAULT_CONFIG)\n",
    "\n",
    "\n",
    "class PGTrainer(AbstractTrainer):\n",
    "    def __init__(self, config=None):\n",
    "        config = merge_config(config, PG_DEFAULT_CONFIG)\n",
    "        super().__init__(config)\n",
    "\n",
    "        self.iteration = 0\n",
    "        self.start_time = time.time()\n",
    "        self.iteration_time = self.start_time\n",
    "        self.total_timesteps = 0\n",
    "        self.total_episodes = 0\n",
    "\n",
    "        # build the model\n",
    "        self.initialize_parameters()\n",
    "\n",
    "    def initialize_parameters(self):\n",
    "        \"\"\"Build the policy network and related optimizer\"\"\"\n",
    "        # Detect whether you have GPU or not. Remember to call X.to(self.device)\n",
    "        # if necessary.\n",
    "        self.device = torch.device(\n",
    "            \"cuda\" if torch.cuda.is_available() else \"cpu\"\n",
    "        )\n",
    "\n",
    "        # TODO Build the policy network using CategoricalPolicy\n",
    "        # Hint: Remember to pass config[\"hidden_units\"], and set policy network\n",
    "        #  to the device you are using.\n",
    "        self.network = PGNetwork(\n",
    "            self.obs_dim, self.act_dim,\n",
    "            hidden_units=self.config[\"hidden_units\"]\n",
    "        ).to(self.device)\n",
    "\n",
    "        # Build the Adam optimizer.\n",
    "        self.optimizer = torch.optim.Adam(\n",
    "            self.network.parameters(),\n",
    "            lr=self.config[\"learning_rate\"]\n",
    "        )\n",
    "\n",
    "    def to_tensor(self, array):\n",
    "        \"\"\"Transform a numpy array to a pytorch tensor\"\"\"\n",
    "        return torch.from_numpy(array).type(torch.float32).to(self.device)\n",
    "\n",
    "    def to_array(self, tensor):\n",
    "        \"\"\"Transform a pytorch tensor to a numpy array\"\"\"\n",
    "        ret = tensor.cpu().detach().numpy()\n",
    "        if ret.size == 1:\n",
    "            ret = ret.item()\n",
    "        return ret\n",
    "\n",
    "    def save(self, loc=\"model.pt\"):\n",
    "        torch.save(self.network.state_dict(), loc)\n",
    "\n",
    "    def load(self, loc=\"model.pt\"):\n",
    "        self.network.load_state_dict(torch.load(loc))\n",
    "\n",
    "    def compute_action(self, observation, eps=None):\n",
    "        \"\"\"Compute the action for single observation. eps is useless here.\"\"\"\n",
    "        assert observation.ndim == 1\n",
    "        # TODO: Sample an action from the action distribution given by the policy.\n",
    "        # Hint: The input of policy network is a tensor with the first dimension to the \n",
    "        #  batch dimension. Therefore you need to expand the first dimension of the observation\n",
    "        #  and converte it to a tensor before feeding it to the policy network.\n",
    "        \n",
    "#         # Convert the observation to a PyTorch tensor and add batch dimension\n",
    "        obs_tensor = self.to_tensor(observation).unsqueeze(0)\n",
    "#         action_logits = self.network(obs_tensor)\n",
    "#         action_logits = action_logits.view(-1)\n",
    "\n",
    "#         # Pass the observation through the policy network to get the action distribution\n",
    "#         action_distribution = torch.distributions.Categorical(logits=action_logits)\n",
    "\n",
    "#         # Sample an action from the distribution\n",
    "#         action = action_distribution.sample().item()\n",
    "        action_tensor = self.network.forward(obs_tensor)\n",
    "        action = action_tensor.item() \n",
    "        \n",
    "#         print(f\"[DEBUG] action = {action}\")\n",
    "\n",
    "        return action\n",
    "\n",
    "    def compute_log_probs(self, observation, action):\n",
    "        \"\"\"Compute the log probabilities of a batch of state-action pair\"\"\"\n",
    "        # TODO: Use the function of the policy network to get log probs.\n",
    "        # Hint: Remember to transform the data into tensor before feeding it into the network.\n",
    "        # Convert the observation to a PyTorch tensor and add batch dimension\n",
    "        obs_tensor = self.to_tensor(observation).unsqueeze(0)\n",
    "#         action_logits = self.network(obs_tensor)\n",
    "#         action_logits = action_logits.view(-1)\n",
    "\n",
    "#         # Pass the observation through the policy network to get the action distribution\n",
    "#         action_distribution = torch.distributions.Categorical(logits=action_logits)\n",
    "\n",
    "#         # Convert the action to a PyTorch tensor\n",
    "        action_tensor = self.to_tensor(action)\n",
    "\n",
    "#         # Calculate the log probability of the given action\n",
    "#         log_probs = action_distribution.log_prob(action_tensor)\n",
    "#         log_probs.requires_grad = True\n",
    "\n",
    "        log_probs = self.network.log_prob(obs_tensor, action_tensor)\n",
    "        log_probs = log_probs.view(-1)\n",
    "        \n",
    "#         print(f\"[DEBUG] log_probs = {log_probs}\")\n",
    "    \n",
    "        return log_probs\n",
    "\n",
    "    def update_network(self, processed_samples):\n",
    "        \"\"\"Update the policy network\"\"\"\n",
    "        advantages = self.to_tensor(processed_samples[\"advantages\"])\n",
    "        flat_obs = np.concatenate(processed_samples[\"obs\"])\n",
    "        flat_act = np.concatenate(processed_samples[\"act\"])\n",
    "\n",
    "        self.network.train()\n",
    "        self.optimizer.zero_grad()\n",
    "\n",
    "        log_probs = self.compute_log_probs(flat_obs, flat_act)\n",
    "\n",
    "        assert log_probs.shape == advantages.shape, \"log_probs shape {} is not \" \\\n",
    "                                                    \"compatible with advantages {}\".format(log_probs.shape,\n",
    "                                                                                           advantages.shape)\n",
    "\n",
    "        # TODO: Compute the policy gradient loss.\n",
    "        loss = -torch.mean(log_probs * advantages)\n",
    "#         print(f\"[DEBUG] loss = {loss}\")\n",
    "\n",
    "        loss.backward()\n",
    "\n",
    "        # Clip the gradient\n",
    "        torch.nn.utils.clip_grad_norm_(\n",
    "            self.network.parameters(), self.config[\"clip_gradient\"]\n",
    "        )\n",
    "\n",
    "        self.optimizer.step()\n",
    "        self.network.eval()\n",
    "\n",
    "        update_info = {\n",
    "            \"policy_loss\": loss.item(),\n",
    "            \"mean_log_prob\": torch.mean(log_probs).item(),\n",
    "            \"mean_advantage\": torch.mean(advantages).item()\n",
    "        }\n",
    "        return update_info\n",
    "\n",
    "    # ===== Training-related functions =====\n",
    "    def collect_samples(self):\n",
    "        \"\"\"Here we define the pipeline to collect sample even though\n",
    "        any specify functions are not implemented yet.\n",
    "        \"\"\"\n",
    "        iter_timesteps = 0\n",
    "        iter_episodes = 0\n",
    "        episode_lens = []\n",
    "        episode_rewards = []\n",
    "        episode_obs_list = []\n",
    "        episode_act_list = []\n",
    "        episode_reward_list = []\n",
    "        success_list = []\n",
    "        while iter_timesteps <= self.config[\"train_batch_size\"]:\n",
    "            obs_list, act_list, reward_list = [], [], []\n",
    "            obs, info = self.env.reset()\n",
    "            steps = 0\n",
    "            episode_reward = 0\n",
    "            while True:\n",
    "                act = self.compute_action(obs)\n",
    "\n",
    "                next_obs, reward, terminated, truncated, step_info = self.env.step(act)\n",
    "                done = terminated or truncated\n",
    "\n",
    "                obs_list.append(obs)\n",
    "                act_list.append(act)\n",
    "                reward_list.append(reward)\n",
    "\n",
    "                obs = next_obs.copy()\n",
    "                steps += 1\n",
    "                episode_reward += reward\n",
    "                if done or steps > self.config[\"max_episode_length\"]:\n",
    "                    if \"arrive_dest\" in step_info:\n",
    "                        success_list.append(step_info[\"arrive_dest\"])\n",
    "                    break\n",
    "            iter_timesteps += steps\n",
    "            iter_episodes += 1\n",
    "            episode_rewards.append(episode_reward)\n",
    "            episode_lens.append(steps)\n",
    "            episode_obs_list.append(np.array(obs_list, dtype=np.float32))\n",
    "            episode_act_list.append(np.array(act_list, dtype=np.float32))\n",
    "            episode_reward_list.append(np.array(reward_list, dtype=np.float32))\n",
    "\n",
    "        # The return `samples` is a dict that contains several key-value pair.\n",
    "        # The value of each key-value pair is a list storing the data in one episode.\n",
    "        samples = {\n",
    "            \"obs\": episode_obs_list,\n",
    "            \"act\": episode_act_list,\n",
    "            \"reward\": episode_reward_list\n",
    "        }\n",
    "\n",
    "        sample_info = {\n",
    "            \"iter_timesteps\": iter_timesteps,\n",
    "            \"iter_episodes\": iter_episodes,\n",
    "            \"performance\": np.mean(episode_rewards),  # help drawing figures\n",
    "            \"ep_len\": float(np.mean(episode_lens)),\n",
    "            \"ep_ret\": float(np.mean(episode_rewards)),\n",
    "            \"episode_len\": sum(episode_lens),\n",
    "            \"success_rate\": np.mean(success_list)\n",
    "        }\n",
    "        return samples, sample_info\n",
    "\n",
    "    def process_samples(self, samples):\n",
    "        \"\"\"Process samples and add advantages in it\"\"\"\n",
    "        values = []\n",
    "        for reward_list in samples[\"reward\"]:\n",
    "            # reward_list contains rewards in one episode\n",
    "            returns = np.zeros_like(reward_list, dtype=np.float32)\n",
    "            Q = 0\n",
    "\n",
    "            # TODO: Scan the reward_list in a reverse order and compute the\n",
    "            # discounted return at each time step. Fill the array `returns`\n",
    "            for t in range(len(reward_list) - 1, -1, -1):\n",
    "                Q = Q * self.config[\"gamma\"] + reward_list[t]\n",
    "                returns[t] = Q\n",
    "\n",
    "            values.append(returns)\n",
    "\n",
    "        # We call the values advantage here.\n",
    "        advantages = np.concatenate(values)\n",
    "\n",
    "        if self.config[\"normalize_advantage\"]:\n",
    "            # TODO: normalize the advantage so that it's mean is\n",
    "            # almost 0 and the its standard deviation is almost 1.\n",
    "            mean_advantage = np.mean(advantages)\n",
    "            std_advantage = np.std(advantages)\n",
    "            if std_advantage == 0:\n",
    "                advantages = (advantages - mean_advantage)\n",
    "            else:\n",
    "                advantages = (advantages - mean_advantage) / std_advantage\n",
    "\n",
    "        samples[\"advantages\"] = advantages\n",
    "        return samples, {}\n",
    "\n",
    "    # ===== Training iteration =====\n",
    "    def train(self, iteration=None):\n",
    "        \"\"\"Here we defined the training pipeline using the abstract\n",
    "        functions.\"\"\"\n",
    "        info = dict(iteration=iteration)\n",
    "\n",
    "        # Collect samples\n",
    "        samples, sample_info = self.collect_samples()\n",
    "        info.update(sample_info)\n",
    "\n",
    "        # Process samples\n",
    "        processed_samples, processed_info = self.process_samples(samples)\n",
    "        info.update(processed_info)\n",
    "\n",
    "        # Update the model\n",
    "        update_info = self.update_network(processed_samples)\n",
    "        info.update(update_info)\n",
    "\n",
    "        now = time.time()\n",
    "        self.iteration += 1\n",
    "        self.total_timesteps += info.pop(\"iter_timesteps\")\n",
    "        self.total_episodes += info.pop(\"iter_episodes\")\n",
    "\n",
    "        # info[\"iter_time\"] = now - self.iteration_time\n",
    "        # info[\"total_time\"] = now - self.start_time\n",
    "        info[\"total_episodes\"] = self.total_episodes\n",
    "        info[\"total_timesteps\"] = self.total_timesteps\n",
    "        self.iteration_time = now\n",
    "\n",
    "        # print(\"INFO: \", info)\n",
    "\n",
    "        return info\n"
   ]
  },
  {
   "cell_type": "markdown",
   "id": "1009bfc7",
   "metadata": {},
   "source": [
    "### Section 4.2: Test REINFORCE"
   ]
  },
  {
   "cell_type": "code",
   "execution_count": 24,
   "id": "4fe25068",
   "metadata": {},
   "outputs": [
    {
     "name": "stdout",
     "output_type": "stream",
     "text": [
      "Test Passed!\n"
     ]
    }
   ],
   "source": [
    "# Run this cell without modification\n",
    "\n",
    "# Test advantage computing\n",
    "test_trainer = PGTrainer({\"normalize_advantage\": False})\n",
    "test_trainer.train()\n",
    "fake_sample = {\"reward\": [[2, 2, 2, 2, 2]]}\n",
    "np.testing.assert_almost_equal(\n",
    "    test_trainer.process_samples(fake_sample)[0][\"reward\"][0],\n",
    "    fake_sample[\"reward\"][0]\n",
    ")\n",
    "np.testing.assert_almost_equal(\n",
    "    test_trainer.process_samples(fake_sample)[0][\"advantages\"],\n",
    "    np.array([9.80199, 7.880798, 5.9402, 3.98, 2.], dtype=np.float32)\n",
    ")\n",
    "\n",
    "# Test advantage normalization\n",
    "test_trainer = PGTrainer(\n",
    "    {\"normalize_advantage\": True, \"env_name\": \"CartPole-v1\"})\n",
    "test_adv = test_trainer.process_samples(fake_sample)[0][\"advantages\"]\n",
    "np.testing.assert_almost_equal(test_adv.mean(), 0.0)\n",
    "np.testing.assert_almost_equal(test_adv.std(), 1.0)\n",
    "\n",
    "# Test the shape of functions' returns\n",
    "fake_observation = np.array([\n",
    "    test_trainer.env.observation_space.sample() for i in range(10)\n",
    "])\n",
    "fake_action = np.array([\n",
    "    test_trainer.env.action_space.sample() for i in range(10)\n",
    "])\n",
    "assert test_trainer.to_tensor(fake_observation).shape == torch.Size([10, 4])\n",
    "assert np.array(test_trainer.compute_action(fake_observation[0])).shape == ()\n",
    "assert test_trainer.compute_log_probs(fake_observation, fake_action).shape == \\\n",
    "       torch.Size([10])\n",
    "\n",
    "print(\"Test Passed!\")\n"
   ]
  },
  {
   "cell_type": "markdown",
   "id": "18bee50d",
   "metadata": {},
   "source": [
    "### Section 4.3: Train REINFORCE in CartPole and see the impact of advantage normalization"
   ]
  },
  {
   "cell_type": "code",
   "execution_count": 25,
   "id": "17b6095d",
   "metadata": {
    "scrolled": true
   },
   "outputs": [
    {
     "name": "stderr",
     "output_type": "stream",
     "text": [
      "[INFO] Iter 0, Step 218, episodic return is 19.50. {'iteration': 0.0, 'performance': 24.2222, 'ep_len': 24.2222, 'ep_ret': 24.2222, 'episode_len': 218.0, 'policy_loss': 8.5908, 'mean_log_prob': -0.6923, 'mean_advantage': 12.3672, 'total_episodes': 9.0, 'total_timesteps': 218.0}\n",
      "[INFO] Iter 10, Step 2372, episodic return is 28.20. {'iteration': 10.0, 'performance': 23.5556, 'ep_len': 23.5556, 'ep_ret': 23.5556, 'episode_len': 212.0, 'policy_loss': 9.3794, 'mean_log_prob': -0.6972, 'mean_advantage': 13.8392, 'total_episodes': 91.0, 'total_timesteps': 2372.0}\n",
      "[INFO] Iter 20, Step 4577, episodic return is 44.30. {'iteration': 20.0, 'performance': 102.5, 'ep_len': 102.5, 'ep_ret': 102.5, 'episode_len': 205.0, 'policy_loss': 25.152, 'mean_log_prob': -0.6401, 'mean_advantage': 39.7463, 'total_episodes': 145.0, 'total_timesteps': 4577.0}\n",
      "[INFO] Iter 30, Step 6857, episodic return is 56.30. {'iteration': 30.0, 'performance': 55.0, 'ep_len': 55.0, 'ep_ret': 55.0, 'episode_len': 220.0, 'policy_loss': 15.311, 'mean_log_prob': -0.6217, 'mean_advantage': 24.8394, 'total_episodes': 191.0, 'total_timesteps': 6857.0}\n",
      "[INFO] Iter 40, Step 9231, episodic return is 87.90. {'iteration': 40.0, 'performance': 120.5, 'ep_len': 120.5, 'ep_ret': 120.5, 'episode_len': 241.0, 'policy_loss': 26.3774, 'mean_log_prob': -0.5961, 'mean_advantage': 43.8897, 'total_episodes': 219.0, 'total_timesteps': 9231.0}\n",
      "[INFO] Iter 50, Step 11631, episodic return is 128.90. {'iteration': 50.0, 'performance': 124.5, 'ep_len': 124.5, 'ep_ret': 124.5, 'episode_len': 249.0, 'policy_loss': 25.5399, 'mean_log_prob': -0.587, 'mean_advantage': 43.2587, 'total_episodes': 242.0, 'total_timesteps': 11631.0}\n",
      "[INFO] Iter 60, Step 14441, episodic return is 155.10. {'iteration': 60.0, 'performance': 201.0, 'ep_len': 201.0, 'ep_ret': 201.0, 'episode_len': 201.0, 'policy_loss': 32.605, 'mean_log_prob': -0.5722, 'mean_advantage': 57.2793, 'total_episodes': 260.0, 'total_timesteps': 14441.0}\n",
      "[INFO] Iter 70, Step 17354, episodic return is 143.30. {'iteration': 70.0, 'performance': 149.0, 'ep_len': 149.0, 'ep_ret': 149.0, 'episode_len': 298.0, 'policy_loss': 29.1481, 'mean_log_prob': -0.5893, 'mean_advantage': 49.5167, 'total_episodes': 281.0, 'total_timesteps': 17354.0}\n",
      "[INFO] Iter 80, Step 20277, episodic return is 188.50. {'iteration': 80.0, 'performance': 201.0, 'ep_len': 201.0, 'ep_ret': 201.0, 'episode_len': 201.0, 'policy_loss': 32.5672, 'mean_log_prob': -0.5789, 'mean_advantage': 57.2793, 'total_episodes': 300.0, 'total_timesteps': 20277.0}\n",
      "[INFO] Iter 90, Step 22914, episodic return is 172.80. {'iteration': 90.0, 'performance': 158.5, 'ep_len': 158.5, 'ep_ret': 158.5, 'episode_len': 317.0, 'policy_loss': 28.4266, 'mean_log_prob': -0.5609, 'mean_advantage': 50.2467, 'total_episodes': 315.0, 'total_timesteps': 22914.0}\n",
      "[INFO] Iter 100, Step 25982, episodic return is 162.60. {'iteration': 100.0, 'performance': 201.0, 'ep_len': 201.0, 'ep_ret': 201.0, 'episode_len': 201.0, 'policy_loss': 31.9562, 'mean_log_prob': -0.5638, 'mean_advantage': 57.2793, 'total_episodes': 332.0, 'total_timesteps': 25982.0}\n",
      "[INFO] Iter 110, Step 29128, episodic return is 184.20. {'iteration': 110.0, 'performance': 188.0, 'ep_len': 188.0, 'ep_ret': 188.0, 'episode_len': 376.0, 'policy_loss': 30.598, 'mean_log_prob': -0.5562, 'mean_advantage': 55.3681, 'total_episodes': 351.0, 'total_timesteps': 29128.0}\n",
      "[INFO] Iter 120, Step 31462, episodic return is 184.60. {'iteration': 120.0, 'performance': 201.0, 'ep_len': 201.0, 'ep_ret': 201.0, 'episode_len': 201.0, 'policy_loss': 33.8798, 'mean_log_prob': -0.5818, 'mean_advantage': 57.2793, 'total_episodes': 365.0, 'total_timesteps': 31462.0}\n",
      "[INFO] Iter 130, Step 33689, episodic return is 191.00. {'iteration': 130.0, 'performance': 201.0, 'ep_len': 201.0, 'ep_ret': 201.0, 'episode_len': 201.0, 'policy_loss': 33.8462, 'mean_log_prob': -0.5807, 'mean_advantage': 57.2793, 'total_episodes': 378.0, 'total_timesteps': 33689.0}\n",
      "[INFO] Iter 140, Step 36775, episodic return is 138.20. {'iteration': 140.0, 'performance': 149.5, 'ep_len': 149.5, 'ep_ret': 149.5, 'episode_len': 299.0, 'policy_loss': 28.5014, 'mean_log_prob': -0.5703, 'mean_advantage': 49.635, 'total_episodes': 397.0, 'total_timesteps': 36775.0}\n",
      "[INFO] Iter 150, Step 39738, episodic return is 129.30. {'iteration': 150.0, 'performance': 120.0, 'ep_len': 120.0, 'ep_ret': 120.0, 'episode_len': 360.0, 'policy_loss': 24.1102, 'mean_log_prob': -0.5534, 'mean_advantage': 44.6776, 'total_episodes': 418.0, 'total_timesteps': 39738.0}\n",
      "[INFO] Iter 160, Step 42215, episodic return is 200.00. {'iteration': 160.0, 'performance': 201.0, 'ep_len': 201.0, 'ep_ret': 201.0, 'episode_len': 201.0, 'policy_loss': 31.5911, 'mean_log_prob': -0.5391, 'mean_advantage': 57.2793, 'total_episodes': 432.0, 'total_timesteps': 42215.0}\n",
      "[INFO] Iter 160, episodic return 200.000 is greater than reward threshold 195.0. Congratulation! Now we exit the training process.\n"
     ]
    },
    {
     "name": "stdout",
     "output_type": "stream",
     "text": [
      "Environment is closed.\n"
     ]
    }
   ],
   "source": [
    "# Run this cell without modification\n",
    "\n",
    "pg_trainer_no_na, pg_result_no_na = run(PGTrainer, dict(\n",
    "    learning_rate=0.001,\n",
    "    max_episode_length=200,\n",
    "    train_batch_size=200,\n",
    "    env_name=\"CartPole-v1\",\n",
    "    normalize_advantage=False,  # <<== Here!\n",
    "\n",
    "    evaluate_interval=10,\n",
    "    evaluate_num_episodes=10,\n",
    "), 195.0)\n"
   ]
  },
  {
   "cell_type": "code",
   "execution_count": 26,
   "id": "5f75805b",
   "metadata": {
    "scrolled": true
   },
   "outputs": [
    {
     "name": "stderr",
     "output_type": "stream",
     "text": [
      "[INFO] Iter 0, Step 209, episodic return is 23.90. {'iteration': 0.0, 'performance': 20.9, 'ep_len': 20.9, 'ep_ret': 20.9, 'episode_len': 209.0, 'policy_loss': -0.0, 'mean_log_prob': -0.6934, 'mean_advantage': -0.0, 'total_episodes': 10.0, 'total_timesteps': 209.0}\n",
      "[INFO] Iter 10, Step 2421, episodic return is 34.90. {'iteration': 10.0, 'performance': 44.2, 'ep_len': 44.2, 'ep_ret': 44.2, 'episode_len': 221.0, 'policy_loss': -0.0305, 'mean_log_prob': -0.6961, 'mean_advantage': -0.0, 'total_episodes': 85.0, 'total_timesteps': 2421.0}\n",
      "[INFO] Iter 20, Step 4743, episodic return is 36.80. {'iteration': 20.0, 'performance': 41.5, 'ep_len': 41.5, 'ep_ret': 41.5, 'episode_len': 249.0, 'policy_loss': -0.0181, 'mean_log_prob': -0.6563, 'mean_advantage': 0.0, 'total_episodes': 149.0, 'total_timesteps': 4743.0}\n",
      "[INFO] Iter 30, Step 7008, episodic return is 59.40. {'iteration': 30.0, 'performance': 50.75, 'ep_len': 50.75, 'ep_ret': 50.75, 'episode_len': 203.0, 'policy_loss': -0.0485, 'mean_log_prob': -0.6541, 'mean_advantage': -0.0, 'total_episodes': 200.0, 'total_timesteps': 7008.0}\n",
      "[INFO] Iter 40, Step 9476, episodic return is 76.20. {'iteration': 40.0, 'performance': 70.25, 'ep_len': 70.25, 'ep_ret': 70.25, 'episode_len': 281.0, 'policy_loss': -0.0134, 'mean_log_prob': -0.6067, 'mean_advantage': 0.0, 'total_episodes': 247.0, 'total_timesteps': 9476.0}\n",
      "[INFO] Iter 50, Step 11977, episodic return is 63.30. {'iteration': 50.0, 'performance': 87.3333, 'ep_len': 87.3333, 'ep_ret': 87.3333, 'episode_len': 262.0, 'policy_loss': -0.0027, 'mean_log_prob': -0.5839, 'mean_advantage': 0.0, 'total_episodes': 283.0, 'total_timesteps': 11977.0}\n",
      "[INFO] Iter 60, Step 14694, episodic return is 111.20. {'iteration': 60.0, 'performance': 101.0, 'ep_len': 101.0, 'ep_ret': 101.0, 'episode_len': 202.0, 'policy_loss': 0.0001, 'mean_log_prob': -0.5597, 'mean_advantage': -0.0, 'total_episodes': 308.0, 'total_timesteps': 14694.0}\n",
      "[INFO] Iter 70, Step 17479, episodic return is 121.20. {'iteration': 70.0, 'performance': 86.3333, 'ep_len': 86.3333, 'ep_ret': 86.3333, 'episode_len': 259.0, 'policy_loss': -0.0235, 'mean_log_prob': -0.5956, 'mean_advantage': 0.0, 'total_episodes': 332.0, 'total_timesteps': 17479.0}\n",
      "[INFO] Iter 80, Step 19915, episodic return is 116.30. {'iteration': 80.0, 'performance': 109.0, 'ep_len': 109.0, 'ep_ret': 109.0, 'episode_len': 218.0, 'policy_loss': -0.0185, 'mean_log_prob': -0.5744, 'mean_advantage': 0.0, 'total_episodes': 353.0, 'total_timesteps': 19915.0}\n",
      "[INFO] Iter 90, Step 22340, episodic return is 83.30. {'iteration': 90.0, 'performance': 142.0, 'ep_len': 142.0, 'ep_ret': 142.0, 'episode_len': 284.0, 'policy_loss': -0.0006, 'mean_log_prob': -0.5638, 'mean_advantage': 0.0, 'total_episodes': 376.0, 'total_timesteps': 22340.0}\n",
      "[INFO] Iter 100, Step 24742, episodic return is 132.70. {'iteration': 100.0, 'performance': 101.0, 'ep_len': 101.0, 'ep_ret': 101.0, 'episode_len': 303.0, 'policy_loss': -0.0105, 'mean_log_prob': -0.583, 'mean_advantage': 0.0, 'total_episodes': 398.0, 'total_timesteps': 24742.0}\n",
      "[INFO] Iter 110, Step 27389, episodic return is 167.50. {'iteration': 110.0, 'performance': 166.0, 'ep_len': 166.0, 'ep_ret': 166.0, 'episode_len': 332.0, 'policy_loss': -0.0271, 'mean_log_prob': -0.5702, 'mean_advantage': 0.0, 'total_episodes': 420.0, 'total_timesteps': 27389.0}\n",
      "[INFO] Iter 120, Step 30163, episodic return is 157.20. {'iteration': 120.0, 'performance': 152.0, 'ep_len': 152.0, 'ep_ret': 152.0, 'episode_len': 304.0, 'policy_loss': -0.0084, 'mean_log_prob': -0.5066, 'mean_advantage': 0.0, 'total_episodes': 438.0, 'total_timesteps': 30163.0}\n",
      "[INFO] Iter 130, Step 32341, episodic return is 196.40. {'iteration': 130.0, 'performance': 201.0, 'ep_len': 201.0, 'ep_ret': 201.0, 'episode_len': 201.0, 'policy_loss': -0.0053, 'mean_log_prob': -0.5384, 'mean_advantage': -0.0, 'total_episodes': 450.0, 'total_timesteps': 32341.0}\n",
      "[INFO] Iter 130, episodic return 196.400 is greater than reward threshold 195.0. Congratulation! Now we exit the training process.\n"
     ]
    },
    {
     "name": "stdout",
     "output_type": "stream",
     "text": [
      "Environment is closed.\n"
     ]
    }
   ],
   "source": [
    "# Run this cell without modification\n",
    "\n",
    "pg_trainer_with_na, pg_result_with_na = run(PGTrainer, dict(\n",
    "    learning_rate=0.001,\n",
    "    max_episode_length=200,\n",
    "    train_batch_size=200,\n",
    "    env_name=\"CartPole-v1\",\n",
    "    normalize_advantage=True,  # <<== Here!\n",
    "\n",
    "    evaluate_interval=10,\n",
    "    evaluate_num_episodes=10,\n",
    "), 195.0)\n"
   ]
  },
  {
   "cell_type": "code",
   "execution_count": 27,
   "id": "10fb3d38",
   "metadata": {},
   "outputs": [
    {
     "data": {
      "text/plain": [
       "Text(0.5, 1.0, 'Policy Gradient: Advantage normalization matters!')"
      ]
     },
     "execution_count": 27,
     "metadata": {},
     "output_type": "execute_result"
    },
    {
     "data": {
      "image/png": "[encoded data removed]",
      "text/plain": [
       "<Figure size 640x480 with 1 Axes>"
      ]
     },
     "metadata": {},
     "output_type": "display_data"
    }
   ],
   "source": [
    "# Run this cell without modification\n",
    "\n",
    "pg_result_no_na_df = pd.DataFrame(pg_result_no_na)\n",
    "pg_result_with_na_df = pd.DataFrame(pg_result_with_na)\n",
    "pg_result_no_na_df[\"normalize_advantage\"] = False\n",
    "pg_result_with_na_df[\"normalize_advantage\"] = True\n",
    "\n",
    "ax = sns.lineplot(\n",
    "    x=\"total_timesteps\",\n",
    "    y=\"performance\",\n",
    "    data=pd.concat([pg_result_no_na_df, pg_result_with_na_df]).reset_index(), hue=\"normalize_advantage\",\n",
    ")\n",
    "ax.set_title(\"Policy Gradient: Advantage normalization matters!\")"
   ]
  },
  {
   "cell_type": "markdown",
   "id": "95a0d7cc",
   "metadata": {},
   "source": [
    "### Section 4.4: Train REINFORCE in MetaDrive-Easy"
   ]
  },
  {
   "cell_type": "code",
   "execution_count": 28,
   "id": "1d06a73d",
   "metadata": {
    "scrolled": true
   },
   "outputs": [
    {
     "name": "stderr",
     "output_type": "stream",
     "text": [
      "[INFO] Iter 0, Step 2010, episodic return is 2.03. {'iteration': 0.0, 'performance': 2.3784, 'ep_len': 201.0, 'ep_ret': 2.3784, 'episode_len': 2010.0, 'success_rate': 0.0, 'policy_loss': 0.0052, 'mean_log_prob': -2.1961, 'mean_advantage': 0.0, 'total_episodes': 10.0, 'total_timesteps': 2010.0}\n",
      "[INFO] Iter 10, Step 22183, episodic return is 5.03. {'iteration': 10.0, 'performance': 5.3701, 'ep_len': 201.0, 'ep_ret': 5.3701, 'episode_len': 2010.0, 'success_rate': 0.0, 'policy_loss': -0.0266, 'mean_log_prob': -2.1162, 'mean_advantage': -0.0, 'total_episodes': 111.0, 'total_timesteps': 22183.0}\n",
      "[INFO] Iter 20, Step 42956, episodic return is 13.36. {'iteration': 20.0, 'performance': 11.3518, 'ep_len': 126.8125, 'ep_ret': 11.3518, 'episode_len': 2029.0, 'success_rate': 0.0, 'policy_loss': -0.0025, 'mean_log_prob': -1.5401, 'mean_advantage': -0.0, 'total_episodes': 235.0, 'total_timesteps': 42956.0}\n",
      "[INFO] Iter 30, Step 63284, episodic return is 62.61. {'iteration': 30.0, 'performance': 55.839, 'ep_len': 67.4, 'ep_ret': 55.839, 'episode_len': 2022.0, 'success_rate': 0.1333, 'policy_loss': -0.0683, 'mean_log_prob': -0.375, 'mean_advantage': -0.0, 'total_episodes': 485.0, 'total_timesteps': 63284.0}\n",
      "[INFO] Iter 40, Step 83624, episodic return is 123.44. {'iteration': 40.0, 'performance': 122.8438, 'ep_len': 91.1818, 'ep_ret': 122.8438, 'episode_len': 2006.0, 'success_rate': 0.9545, 'policy_loss': -0.0048, 'mean_log_prob': -0.0118, 'mean_advantage': -0.0, 'total_episodes': 730.0, 'total_timesteps': 83624.0}\n",
      "[INFO] Iter 40, episodic return 123.442 is greater than reward threshold 120. Congratulation! Now we exit the training process.\n"
     ]
    },
    {
     "name": "stdout",
     "output_type": "stream",
     "text": [
      "Environment is closed.\n"
     ]
    }
   ],
   "source": [
    "# Run this cell without modification\n",
    "\n",
    "env_name = \"MetaDrive-Tut-Easy-v0\"\n",
    "\n",
    "pg_trainer_metadrive_easy, pg_trainer_metadrive_easy_result = run(PGTrainer, dict(\n",
    "    train_batch_size=2000,\n",
    "    normalize_advantage=True,\n",
    "    max_episode_length=200,\n",
    "    max_iteration=5000,\n",
    "    evaluate_interval=10,\n",
    "    evaluate_num_episodes=10,\n",
    "    learning_rate=0.001,\n",
    "    clip_norm=10.0,\n",
    "    env_name=env_name\n",
    "), reward_threshold=120)\n",
    "\n",
    "pg_trainer_metadrive_easy.save(\"pg_trainer_metadrive_easy.pt\")"
   ]
  },
  {
   "cell_type": "code",
   "execution_count": 29,
   "id": "5b650945",
   "metadata": {},
   "outputs": [
    {
     "name": "stdout",
     "output_type": "stream",
     "text": [
      "Evaluating 1/1 episodes. We are in 1/1000 steps. Current episode reward: 0.000\n",
      "Evaluating 1/1 episodes. We are in 51/1000 steps. Current episode reward: 35.980\n"
     ]
    },
    {
     "data": {
      "text/html": [
       "<table class=\"show_videos\" style=\"border-spacing:0px;\"><tr><td style=\"padding:1px;\"><video controls width=\"1000\" height=\"1000\" style=\"object-fit:cover;\" loop autoplay muted>\n",
       "      <source src=\"data:video/mp4;base64,AAAAIGZ0eXBpc29tAAACAGlzb21pc28yYXZjMW1wNDEAAAAIZnJlZQAAdvRtZGF0AAACgAYF//983EXpvebZSLeWLNgg2SPu73gyNjQgLSBjb3JlIDEzNSByMjM0NSBmMGMxYzUzIC0gSC4yNjQvTVBFRy00IEFWQyBjb2RlYyAtIENvcHlsZWZ0IDIwMDMtMjAxMyAtIGh0dHA6Ly93d3cudmlkZW9sYW4ub3JnL3gyNjQuaHRtbCAtIG9wdGlvbnM6IGNhYmFjPTEgcmVmPTMgZGVibG9jaz0xOjA6MCBhbmFseXNlPTB4MzoweDExMyBtZT1oZXggc3VibWU9NyBwc3k9MSBwc3lfcmQ9MS4wMDowLjAwIG1peGVkX3JlZj0xIG1lX3JhbmdlPTE2IGNocm9tYV9tZT0xIHRyZWxsaXM9MSA4eDhkY3Q9MSBjcW09MCBkZWFkem9uZT0yMSwxMSBmYXN0X3Bza2lwPTEgY2hyb21hX3FwX29mZnNldD0tMiB0aHJlYWRzPTEyIGxvb2thaGVhZF90aHJlYWRzPTIgc2xpY2VkX3RocmVhZHM9MCBucj0wIGRlY2ltYXRlPTEgaW50ZXJsYWNlZD0wIGJsdXJheV9jb21wYXQ9MCBjb25zdHJhaW5lZF9pbnRyYT0wIGJmcmFtZXM9MyBiX3B5cmFtaWQ9MiBiX2FkYXB0PTEgYl9iaWFzPTAgZGlyZWN0PTEgd2VpZ2h0Yj0xIG9wZW5fZ29wPTAgd2VpZ2h0cD0yIGtleWludD0yNTAga2V5aW50X21pbj0yNSBzY2VuZWN1dD00MCBpbnRyYV9yZWZyZXNoPTAgcmM9Y3FwIG1idHJlZT0wIHFwPTI4IGlwX3JhdGlvPTEuNDAgcGJfcmF0aW89MS4zMCBhcT0wAIAAAAa1ZYiEAP/+yk+BS4nRcKlkWAf0mOgGDRLzYAAAAwAAAwAAAwACKnLIeLDNJf5AAAADAAQsAF/AECADGADuAE6AH8AM0AUQAtABeAC8AAADAAADAAADAAADAAADAAADAAADAAADAAADAAADAAADAAADAAASfAIqbcJTR78ZWWWCY2Qj1ZqzVtAEiDtugJ0B5345GtGwxP/0Jq6sNgJ/oLDvvSk2FIcjdjvURrQyVXyuagwLr8y3Rbs4WR4p7sPU43ysalGVyZgfMiS2U94BFFsdtdKCbTkmFiF6/NpCMv38gsFa5nHZ0CYJgzK45mPO9Tum2bib8MGwEW/IYWsQxaSCebpzZluK7m5aQxKp1bxscwhRtud7n1+M9BVoK6NHkK74gYg3kffU1TZCP0gBxdAyhO0WSrkmDnO32+uX6IDj5v+yO1Bu+46O88o5zTm5SYFN2egzEJzRvUm+T4EA8vHsF1w0K7uwIA2xJpMLBUmDCaxkrlY/qLpehl52H2TSfFRI0BaNNCRjx/r+YM9TXh3uFiZwcF32jmIeUWvGwdkIkT0L0nJLQPcFJD33fXNPjyf/2Az2tst8l5stiaO0xz10SdwexbvHyj5u5KEr9A+i9mNtyBtabrzaLBt/H+R6J/2KUzWuE0BWtonyQUA8Hr37U35o/JqC5DcEe6VS4aJ39gAAAwFwLGSXmEtHCGdABHSzGikPDC+FoFaVbkqJ570OBmxa1B5e2azaoGxEZbTWFkQiFlphKh9GHfIzMdXYwWvDShPkUjAtPqJmxF9XpY2h4Rb166Xzr1XuOSm5qvebKYkYX/NN7o/WPL2g/rTbMxBnjGBeiVzfeKM+Ad9zNsK1krHH0z3TU5x9ra12ouyBMIls9hak+5cVtAatgvUQ9+BXVGgYzX9EjZI+hHJAZdAOBSQXinTILrmGPfYT5oVzS4seTn6NMC0kYWqGfsDcDDtHNgBrnQZh0M1b4KMHi1DKJ4UTXt1sQngWZoTb7XSTRSoYrGjfJQckWcNlDqqhBkZMVhrSKCS9Kecy8NZV98b8cGFcxKuKCLgBVTZhg+QByKJA6q2CHjm8oAAAAwCIxXbb446SZaLQuqMnz28QaRFQ57ZIlp9Qbi82nhn8+oUFz762wnbnc6TirXp4YcQsLcEmu9XwMfMt1W4csWAAABJqVmP44xeNE2dG/lfF7PcUAzvXDFdPOx6ar0Uo9/FsDnl+QvxYl4umrBVMKt4bngAAdsmTWAozUMecPc7cP7bGW9ECUc4pSAEPL3b18f/lK7OJvxUMkE98W+4qPXLhUbNF1aCYtnxbAVU8I8O+Skg7cqd0mTUgo9Dgh/BW2PCSPif5cuP6n6jnyIrzmaYxlhTUsMIRZs2whnVD5wiSMe9/BwGN9RvNzEezgVhM5wlq4lOFxLNzuZnE5ieagol3aKB8vAS2HCLNJbvd+4RcLnVeJDnuPqvcxlM+eTEe/g/5qJFfEjda7wM7V1fpEuaYAABPjwvIVVj9e+H20Gf6CT/X+nf1JdkgQyUwALqunHI+gybrYAY9D9Ecl+cTVglJvmy3Jz5n24Cu+Xrk9Kn+GaVZ+kWooVefN2tkHgzf1laykyRSxL/5PnrrNqvvdVDT46hMfBin4GYMPmL1cFu2iIiR5Kgkac9ioS1vg5Wg6IfYHDjrmdXMswCajZaghH6Dh7AKfrC5Tg1/nKi9UoqGVeo4QU9K3Sk+4I9vdLNgAACPj312HuJSAeqUQlIQqvXIc9Oyoijnrczmf5SJf1aLvTa+z3midOz2/03cKJS+WdX1qOGo2o/JWSc/Q5/f3dazyYgUPIkzFzo1XtGVNJnVc+boA1z0u2Ul0qW9Hz1u8oGu8nAy+Di7bO4D5AP+40XPajVj7/4Ujj0I/GDMBiaikZ6VFtBAp60MGc/1gHDkRk6VK1rtw9wJ7PBMGv6gT8ab5g/GGL0b6YnoAMynZlxYMvNrXfASbPw1jsJsUEy0103sS3CK2fKgE4RcaYbzjJl0QSgx6uOMi+7b87/oF6HSv6R674qKMciSWEZOU86YNnHR5yt7/W1V5M3fpCYalg8fZ4uaOfWvKp7fwjmNkjLiaYN6kqlJ34bFzQnxStK0g9UVvPmYJU9ppYkOxeXCt45eStPUw4AD64V2DaIAZTL6KBE3ufdnWm9W042zHuFaveWt0qUG+S7Neh4ASUTZFAAAAwAAAwAAAwAAAwAAAwAAAwAAAwAAAwAAAwAAAwAAAwAAAwAAAwAAAwAAAwAAAwAAAwAAAwAAAwAAAwAAAwAAAwAAAwAAAwAFvQAAACNBmiNsfwAAAwAAAwAAAwAAAwAAAwAAAwAAAwAAAwAAAwArYAAAACFBnkJ4rwAAAwAAAwAAAwAAAwAAAwAAAwAAAwAAAwAADPkAAAAiAZ5hdEn/AAADAAADAAADAAADAAADAAADAAADAAADAAANmAAAAMtBmmVJqEFomUwU/wAAAwAAAwAAAwAABob5Beh/Ec5ZNvh8o2OaV2upIbL1yKuAvO15OeSkhiE4RL/sWqz1juG2jmxLssUp0hjbyBD/mUS12o/r/ypXCNGrYFeNCs3NnV4VbYmnrPADxaSlfjGZH/wqp9gGwtr1x6Ottv/3VaP00B8hihrd6bHlLpL/Obc+e6VBpxo2/OWcJ5V5alTlcnOKayT7yvzW2tvfv2w8lMZUROiWsAQRU4Pex9gfYyFFdEZgkpwVcxlE3Ol1YQAAAIEBnoRqSf8AAAMAAAMAAAMAAgX3VRj9Jb/bgfiwljYqUOHbZGi8QyD4NNtnYgSDOukIBxv8vNl2o2r+fSjKLTey13FXdgGlDkSEwA+0zq12FaWyh928onD02U88ASASiSUvy1clVi/Ch2543tShjTE1+82n6qTTpYAAAAMAAAMAAoMAAACsQZqHSeEKUmUwUv8AAAMAAAMAAAMAAAaGMGzrEWRNmEjmevX5t8HDP4ZNp+bQTFhUZ3dEOYkEbZJfZeNVrp01lSaO3T6qCQZaZ2NPSAIAuEN8HzNKE+EsZ+zjRL2DtiWGZzXU0DglN18hQuv2BR0z9b8q5vTnXzvTrEKSawMfcFBJqrc/gWLuRdLDfOHwH+ZewUo07eKFycdpAvkc32luvNPwM7q6h9iClCj3gQAAAJMBnqZqSf8AAAMAAAMAAAMAAgz5fQk/8mjcyFsI9GiCfIAlal17mrzxlubViou8K7UVSsaQ4iVupKzkezptQKb8SXjRhWo3m9B8+CRx3yXhzGujLQkA0rtxOFjWXmOBxIR2Lvnxum5jUlxpze6SYsnAX+Y6TKfQfskoKDYXQuRulk5YZ1cghV66KAAAAwAAAwAAB/kAAACbQZqpSeEOiZTBRP8AAAMAAAMAAAMAAAaGMGzvSrsDaJswKTIWzYb/GbEXIYwsQgmg80kfF7mYfac+GOL2ySVZ/bcB8L3ZbGGn/9EJmIm1/5LNvOCGsfW9XKxunDRsiq5FPkRMewWDUHdRzovgZ1Z9M5ZnzCwrD3iWJxsNzlBtIT2Nn4BJZDX26ycFUh0B2/4YwSsnMfHPcJ7hSawAAACJAZ7Iakn/AAADAAADAAADAAIF91UZSpjoyJP2uwyDLRKVK461kPpDoXydPjt2Wd/PLiPNAMB9RVsirw2H/IX7zbtQ3pNIZZAc8zm8Md79xUI6MsB5y13PlA81NpSxaG5WAaFFrhHjJmR9NvMVVzmURJSqgRjE/vRimbWPxhtaA4AAAAMAAAMAA9IAAACsQZrLSeEPJlMFP/8AAAMAAAMAAAMAAAauhgUCF5UGJmpI9K6u14E57xS2mlRH6Coo7woSDZjEmHMqchrFpTYv/if/cQh4JwHeA0H1XpRPmrwrTMN+tIbSjeEmt2/XIbmD6W+qQPKtmaR+mt1f4Sr0oWGPCapPFt/Knl7Tysm9c3WnuiCbLyBVZ4PYWGG0RA8TLNXkBBhzRz+FLSMn+9hgdsQ6GNe6fRIiLZm2wQAAAIgBnupqSf8AAAMAAAMAAAMAAhrF8nEOI0fDXVmm0UqpNpxp3OxRvT4XePRYaoqJh3xaxYusvd3XxKUFJdtzTCAhsB+NTRN7RMhbKggx2Gh5Symb4mH4Zo8kDVo8xwHvMBxO/NI/1/AMJoJ78WdSwm21FJnJ1gl35oJwAYdxLQAAAwAAAwAAAwGfAAAAwUGa7UnhDyZTBT//AAADAAADAAADAAAGroYbO9MAFU6T37pDSknLUUCVByzvTnq+R7v+dWrxggBPohwRKkBvjzLMEOPjPDWIFnY7PtovJBOaW00+OqO+R0o+hR0cJYdr1/TCy+2iMd831ZtT9RolGgDeDhDalqs/X2Rqnv3cz4DUJXCZDyXJinbjVh98TNyNd4y4pcw6+6O+6+8btLgi/P3PN7hySepm4r66SWnJorD9ctr0gALKAwDgGDnmc9wolkwAAACPAZ8Makn/AAADAAADAAADAAIVIA1WEdYkVPTZz8ulGDGZT/0DUkYFGmSg9JNMporj6Rpub6rGIurYotjk3JNipSOBFz74bAAzX+4JKL1lZZBAnHOch+GsUfcaLmZElAEjhK5pWG9zh2cPvOScR8JTkKvymb3eUzVXjsw71Dcjr1npkCjTgAAAAwAAAwAA6YEAAAC5QZsPSeEPJlMFP/8AAAMAAAMAAAMAAAaupJs70w/hX8AQmuSJVrP+vBwYJKwmM1uzjYl9YiadRkAskV49D/EQGBSekdU3z12SvelhCPvuEKN8aptyI6mH3oAGpB3cUlm0fPXeA8OJbWZnC4xc9aav7C4zH8YtzbPTsbxdFK/8jccin5JbbvBfQE7wyAZcSd1Gh2tgLM5AxUpNLGqyBnk80Xq7FL7KYdKcu/m//csDg1AGLqnx03QhqXEAAACoAZ8uakn/AAADAAADAAADAAIVQ01Ev83jx3nas9hxiyZQBfECiok10Fn8U7LPA+7p6nAq+0mhtkVuuQ30rcTUqgKix65i/Ln1o2ikHsmXOfZgLw2D0yoOU4meSg7ewBq6Qerc1qpc0vDqOBDAb/6wou/7AuJHub6J8aXO2sLCdAxJz8c/k0/FyCHjS4Oi69yKrL9Ws4ajZfmO9aBvQbmAAAADAAADAAPnAAAAo0GbMUnhDyZTBT//AAADAAADAAADAAAG1qSFAheYBheH+S4xhGGAXqC0qty8NcSDu8CxHtqI5cZM/1HYaKSlNJuuSvHH/JZ8O1+1zgZ5GTgwuN+DZ121UESiGli9ERjoT4YUoPgcvw4z8KM7Wd/bQhjYqBeV453Z7gBmxdZ6nA/rTtH27WJXcS/sdQ+G4YsA3eMPgaGUPwPLCdRHxjOAvZSYKRwAAACLAZ9Qakn/AAADAAADAAADAAIlQoimpLJNK92y6/voa22rIt9EHjcLbtMDkZ5wx6ZMhZveb8r6RaV0qqbmkVTLAeE/oFpysEw2M1kPmGlpmKgKYOE4ne8RLuPHqnmIIelIEAxtRvXt8gpn528ALl+EH4hJHTYzPOzXwHTpr0KOjdQAAAMAAAMAAAMCJgAAAJBBm1NJ4Q8mUwU//wAAAwAAAwAAAwAABtaz2zrP8BBuaUNMcZr9jMb/VjGbnUqbQhbP4FtxQALJqLZ27wLtV3Bow7PrhF0VbaEy9t8n5YJO9V2tILBwIB40h2pGlfM+UAxMGMgtwdTXlLyNK+BCMt59RWTYb/v0KhnZo9RO5AyuzzKgxMiYrOJJJ7q1te18bYkAAACHAZ9yakn/AAADAAADAAADAAIlQ01Eu22D+er7pjPE0IR18q23soKSyBw0Ce/MB09/97AcKqmn8DamX/I1pKu9tUywI65ZaOvw3E8fgamB4/wEtMMhIB085R3BU9gLXD67dItfa2tldudQ7qkZBC/EThOjU6iuE98Rd0gxqA5AAAADAAADAAHzAAAApUGbdUnhDyZTBT//AAADAAADAAADAAAG/0Y1DcgrgJFeKq0xh4M1Rzm0uRgYHKkBkqEEePYRP2GWGbMNsihS9WyV3VWnWW8+qwNZuVTZyTA7fpFRW1Stil2vB2zk98NAuoR7Xra+aosifo+/+hWDzrcY6ABiTZ0iKAtE9D+9xCL5KT/nKRDYQ782vHxzlc1JhTJc0A79ISu+h+XwaQGF0eHPQKJlMAAAAI8Bn5RqSf8AAAMAAAMAAAMAAjl+9WttQSSMU6gdbuL0afcvJFGnre3x7tUOyMhBo7xcAZQfTttesK1OmJOAWelqVQEmLIR832lAdnrqBrHd6wKgABvhmYYuoeGivhARUMqH8oqBfsF+7hzaBb1VkIk4Tw4++6qZ5h83MP75Vv1qluO8tz4AAAMAAAMAAAMD/QAAAONBm5dJ4Q8mUwU//wAAAwAAAwAAAwAABv9KnpjF258QCct6OXM5gfsREZ2woTM4UkSyuEZeMibBVki20TaFHlbiAHmMowVXAqM3oJfZcjuNarHiXXniQzceuzYvZl9vqGyVG3K6WF1lU9zghEKdMP3zE7yROms07QmR7rUqpRMOxv2DtN0SGzPqXBK39fPTLSvMwYGN1G+QWD9lEvJNDF4PHWLc+Tlf4G3vaQCssDaqhlA0DtlcsJIodwadaNqfs6ziwd9UHZKst+tA02eharG7BDVpzMKpyYH9xJBNfle+jCdT4AAAAK8Bn7ZqSf8AAAMAAAMAAAMAAjVOg1TNwr+8go9tCBWUKJTMv2F7MTl8Vpg7M9IBXeAiDt6r3s10k8yig09vVIhHWLWfvbU8IECLRh9+LuRUvucsrsoqsDdRUSFH9Xtccjs3EwfE5IL3Bo7I8qwE7I3d0BBqEn78uvpZur3Zn8sdbbFA2oVWjk08mT2eowNbxpJnbJybK5lGjXeB/8pCUMxzfrmgm4AAAAMAAAMAAAwZAAAAnUGbuUnhDyZTBT//AAADAAADAAADAAAHK0qemCcMQU7ZvMcpI1clr8di5fr6NifPv5ELn+acjY9xUx8x4QWvyrLnK6psVQGoMZ3z3CJgVK88iqu0P4PUGVMutSqArPfy3R3zIEpSHGK8cmA379Mvqapw/Jbsb1Sbjb+cpY4iK6H1BUsXUVz8jyXKgk/cZovZjtUAYHPvmrCdQ2vfRcEAAACGAZ/Yakn/AAADAAADAAADAAJFToNVlFc5tdR5xJysx5wDI0cipwrqqKvz4jEeLp4pR0/a4OQqqovyk7papNVfhb7+a1taMsCI87lXF2lxkjN7EFj1mdC+jxFBm5+wQHxS/VHcstiHP63ogEnE4fKZTErJmmrYNWehgI94AAADAAADAAADAfMAAADaQZvbSeEPJlMFP/8AAAMAAAMAAAMAAAdXU2ENyC06C3ALUdqjWxmTdzSHSNTyq/xg7c68upWPyVmKDw/UCK1ZuJqxEnARGAHukFTPqlGsGfTbD8hwB+WukoHgAF2ujzu+dMQnpmQEunG7/8vlaLmi2npaPUb/bs8DDirI/NLgH0AvYIqUwNVAVmSaXHSyut2qZYDtD/sk6hQPW49ff8hhyqsfbDEhUV/At1XWwRKO+7cPtHBrKKadIxGW6QFN49BzF7s6gySCy9PyV2IDXJOYzO0MZ4/LTZJE4YEAAACoAZ/6akn/AAADAAADAAADAAJYRV2uIhJLsnr0ydQtnwRFrVs4dQIiw8gI9r+zPrAM4rAbSVeeUizErE3cV/dj35pv2hM/boFPPtvjAQgHleKuYAgDaqW/W/W+yv7anhAdSrmobgyYGTBQ55ubHd2XLfXHV55rdEAAKL4o+g25fn3hqsYGdxYqYUiQXKUccFUHQB3PKOWqVtAzHby+m8AAAAMAAAMAAD0gAAABPUGb/UnhDyZTBT//AAADAAADAAADAAAHg1fAU6e/BnlgKET9FQPHdWr+ew8PdXyEgkrgBRQL37Oq4rtDnuCJhFDf0kZCQJEcrTfRkw16qGWbHmgwdO6Jk5RyF3yVwHbyb0S88zFasCZe2kOW8ynAqKiAv3GXzeK5rfS8QuzMlIeEiHVw9xa3hddD2EeaOXkD4wAqpucZrxYIYZc9P/r7wcaEWKHNzDM2F6avTO69b2l7K+7dRKAOX6KeFVam2YEyH5F/hTmN208kywLG3HXaR5cEtplkouXPf6sEAUuI0yteJ43qVhpp8MooGhMGmM0L2igwTCcl8fahonn7XoPYoPYPgnCMlTomMvD0fS//B4fZYp7LQxIjYWEiK6oMWR3V02UAa8skAGB9dA0+9/58iFRgS9dwZI5Zpzl0ASrhAAAArQGeHGpJ/wAAAwAAAwAAAwACaFNnC19Ei0pTUeNvIQPXEdSDWeOsFGCbO85vc5NpOaOYjrxu1Wf2h+MyBIbhQ6lfbfQSNlVAvlbVaep21oywF4a6vnCtGqwtIIysOxUEcABsd7IMftJRNYA48EUQGVcMnOtBriJ5YKWL5mHpKb1aE3UT/MdX60xf/T9m9CSw1mOl9YXzT3LYU+Bnkr9HnsWmvhAAAAMAAAMAAA+ZAAABMUGaH0nhDyZTBT//AAADAAADAAADAAAHg1fKmMXpBYQJzmKJLXfo+nRNPfaRnj7zCi4p6GsgW5kG0OPrLoKnXWYtV0WXB6Te+EhpnbeBUJhbpqxqUlsA+7J66do24Y63cAPiKkeKTSZliymTarRk4TDTMSppSIx7JcmHzig8hNAeECLSF+wDsoOqRrQOMZ36NyX7JnUygng1Bi+a6I1nmd3ogD3xEt4oEwDpJ32pdMUjUzX3mMGS6WJ91FWQd6NFYdZcH8JmVShbYTPJHP9OSspmhRQ0iO9tUy5PC1r3FRztRU/FmDesnJO4rpgXqVsKIbf6jXNtxizABk9ojIwYz+fAGJHDFkFKDzadeltcg+3FsZeioYYYexJCFt3IatW1Sf12etqpnIOfMsnCLOlbXvoaAAAAsQGePmpJ/wAAAwAAAwAAAwACZWAjUUJRwLndyc4xu8dzZA9zCIYpIedDIaMetk50DcsQCuLD6hlei3JYTaPOoDDpiTA24YkNiKhI6ls9VXJndNtUywHf5IUo8oDZ72VApdignEqKHUAB6Bol6iXaR63m0D9GRoiBLQLW4bDCAfR8F2SMbwGynYawkAxz+qoA4eI18zwAIRdFK1S1s65j4sDxFjYENwAAAwAAAwAAAwC9gAAAAPlBmiFJ4Q8mUwU//wAAAwAAAwAAAwAAB69cLpjREDZmaI+UWvEP6ZSXPJpLYoBSfN0YxrcFu3yEjEMdu8qnVQUYaUFGoM0WpDlNRSwDQPmOLUXzS56Mah9ofVr4GsCBzLeQdeyfkVHa9DAOcuowaLJf9F0xritUqRa3bOswetgoBygsTuNF71Cq3mNNrcgZ3Npr7P5RyAtfw42sCr3YZ1Qh0UuKHRI7tqmWAwsNpJr39RrqX7b5wZ2eGtNZgjaLSty6Ie5JMdsAyDqXLnm6gQzwSMZN4BPW5YTcbWahMAMsSa5ffN31xhmM4dUNEmRMi8EMcWIiixG3OIEAAAChAZ5Aakn/AAADAAADAAADAAJ1vMdeObI7PC/qNplFiWZPW3n0wQdg/blbksXdAHW47O/bAqr0gN9tUuHCAC+5O0hQaaArSzcReMYthEE9SN4H3a0ZYC6zJqWUqH/smjku8B4JxSAcf6vgU9fyMgB0vQgVQ1bZRfjL06HLCucsVWhwwwF0srBPc1Kvmu1nbSyu/FRBkx+OwAAAAwAAAwAAQcAAAADtQZpCSeEPJlMD/wAAAwAAAwAAAwAAB9s/A4IXrcdJMhAbQVwIWCHwyeWfVT9t7CLgPs6T1FX8BQpbyqP3DpuI53088YqN24WgUR8SVliSNIhtY00T1W2KS2PDQ6Ows1B6LPqsrAXZJIOgCL0H1e6YwFY4/4IgMjI7rTU8piY6K0BNCF+fXBEWXVzChxuXbVNCUUHPzEjSKpUe0hGhCHpzQQoCeTNkLku+7FCa7km0hnsKOBV4sRsTGxejlIOkdZa6mVRMrGHGontoFIPDqHZTxwUQ+7Oh7PxHr618yBX2rtDBggjO3op8QiVRjFMDAAAA5kGaZEnhDyZTBRE//wAAAwAAAwAAAwAACBIYqLDpfnyue3DDIdLNxpdaX7v93AOMi+I09hZbe5SNOksqD9rsqUnAA3jvWW6xazdq8Gb67C3vWT8+le8VhkdrlDwUDNnAFfe0RU4drTuwPyh0q0arjuRKdiT7/HHbcYk8ap9fgY+ua8Un0TMGcjwbnEUBBtbs5P53WpVAJnn1UDT0v33kU4zOAHHjcqrQPdn/0fxFOtS+a3aZ6eOcTwewfbE3VuCbzlx/Ec1OjLbcHJjMo4PPiaGjxcdxxxX5AN8EwYxUOY0CJnEIkRggAAAApwGeg2pJ/wAAAwAAAwAAAwACnSyvZNkQ6w4PUU/eCt+pEHJgnglIC99NqFOulZnMNmljeLFCCN4fBuHWm6UgKtj2f1Wmx3JCS/Q7oXzVgSC90G9Quw4XO21KoBHAMDwCW3fDVezI4P8IS/aG7UHhj65dvDC2eDXz/hc0e66RFxjaiyXRc2IfEREZQEtkkH2aUdNV6l/ptCNCVGPUAAADAAADAAADACdhAAABOEGahknhDyZTBT//AAADAAADAAADAAAIUhiosOl+fK5620ph2SJWNKsF6xq1K+0I6Zywjiy9kTN6q0tw/0C5OV22K+hmM3WyD1tB4vdGcQKeBJbnzEABpWYksLB/cUpYvGekIeO5Avp+BpedtzLtlCqGuHYPg4dZhhCUe130C5U1tGpoRvxGnNeJQ2HXoAzdqXP4xrsGcWlizlfvhtes85pmmxHDU+oMEqANH1cmS2+/4McGdTW+HNZQNo1anTIjCZ8m2lcBtsnp7ZbUyCEwae4Rr+qwg/kk0oIi8FeKCaAyEE85JyQ1AshGDHIM7aplgG0dMjn6VSPQ1O7bjKCpHlfOYenxRudH8Qic/E1820wVB5JhwPMLStXPnUYFPHNlVu+vhbN6BvKf/fjC+7UPjlWIn6VtfGdI4QAAAMkBnqVqSf8AAAMAAAMAAAMAAq8sr2Tkku2yqBav+KXNJVYWAVytz/iJq5O4OxSCNI946o9VNO0fTcVICD0ea6VjE9g+jbvr+ABZBahHnPAbZThoiVdY/1BH/NuolgkD6OFnPZ4eN4+NttUywDMJBBr2Mj+E3Ewiu5b9Varq6joF6gAHTppCgQqy5PqNlWVAMqAB5UeDwp1NqGGpn++7STohuIAIUWi6eHfE02+3EjvtIYih25SVUdaKZhB9Fwo98AAAAwAAAwAABU0AAAEmQZqnSeEPJlMD/wAAAwAAAwAAAwAACFH1fBjLsSfzd9H77HRyMgkYCo0SFgcvjupo2SIplVtONMowskNQsx96bWI4fvckYi2/2GNJe+wU39q+NNuA1XwgUJ0U5SfOxietMh0EzOmSXQoJ4O9AI+LmmJEVxThzc8MKeHaAzMJFcjmttUqj5yxgmdPrxKB9XOoICrN5PsqctngEasTkxwIzJb9oYy8q9dIl8tjLJkCrjo2fH8phJVINS9twNXc3fG5c968Swpx0sto8i8Vomt6hsl2gCDJ7SSBQCfUhXis2wxHG0prMNrp1ZhnvkAtEbZHX6bSMS6hxAGyflBwkpN9zyUI3bHgUJYupgHBJzrX2+Vr8D3RZznaoq4aWyN4PqlZARZ0XFoZlAAAA3UGayUnhDyZTBRE//wAAAwAAAwAAAwAACNIcAGsRbFMXny6wWI5lKoMgYOaYEi4SgXO/wacZS7D/EonOnsmFJvtrjkgQ4x5OvuuDrEgAASBc0SKMU6YhjG6ABDYvVIjalqnBMI1Y7WHrhtHXl0nAEsyOUzeP8VjpXUl7rUqgDQm0crcP/CB4qcYM6VQnu6kRAIsBwHAA7md6b79yXgsV39zRI2cjTFRsT3SSAtqnSSdTF2rm3rlmohjZeOAS+YH0LVgTSIGxWIRhnmpesUNCSHi/IodDGdnStr4zna6AAAAAswGe6GpJ/wAAAwAAAwAAAwAC02/SnukIxmuPz4cwq3A+l1VnR7loAN4S8o4RuShvQP9HlPs/JEmzl1RrtFvYGXCFI7ReWqxknoeRnqKh9+fplYWhrPB9bb4lWMPOR9Pg70edoRj4S7S1TLALqQ8/h5mUXr9uuMBbY5iagd3NX38K+gAXN8a87qwNmQU6rKGoGcp0jnNk14StQ1/zOxcyNrvAChNlWWFGAAADAAADAAADAI+AAAABDkGa60nhDyZTBT//AAADAAADAAADAAAJEh1Ca3rfqi8otKfG5YcpEf5Um93K3iawgfLGEfEOqCZqlR9gFvYkLLSVBGi+M65145MmaRdBD+c7AJpmb8SOg6mkqCYXBFpJ+TkHIkZGjn2VYhbKZaphp/9ZPpq/joug5768KW2BrBhYZNym9GID1tv4/4a1K3jhMC00ks7m6TEwLiyQzSBDtitsyYKzSIcRlMM9LatoW5yNWckze7sas6XW+nfbYKaWgXV+R+rubHqohWEBqWGtmehRsfuym+1gJOa5aI+wczz2mbQYGqdbSmylcn80IqDcT3OJ5ydDlrc4kC1OB9YnWmoIB7+K5eZZNf0BGOZ5pQAAANsBnwpqSf8AAAMAAAMAAAMAAuUszlk2RyIWfpI2qu1dSdoAZzVrUIcRT2PcHN9H64l+r5sWut25Jk8Cylcl6pRRX0oy5uWa83iWej9c6u5jA60YOv870ZIO6xjLQ9eWDrTfhhccKEMuUUmfFdEk+21TLAJNJZ50FUlmnaa/i+e8b3G3/0Cj0M8jIIcAEPxKS2jrdWIigysZlm3owtPVQDX14WPPHTMwA6OxyDgTWddKC5519wspQAAC0zRH0ICE/mL8aplgP0b9DMkOZxOQmvgAAAMAAAMAAAMAj4AAAAG2QZsNSeEPJlMFP/8AAAMAAAMAAAMAAAlSHoRret/im0Z272bEoCPxjz8T/ong+0J8kgueWOI1yZRG+9LUuDiiB5b61V/okxHBdAgTWCJftopBQuePurZAuiY+Bo8pV+ryIsPIa5GqAJe5tmem8VnzWRLDh8sCeuGkl+ok1K4bg56Z2rYg/j9CJfz9YeYwrFI0sbzrqjxh43T89CseAcBf93u8inUenaiwYP33peOK5vVAAskoxKQcrtFTtRaEqrXLl+6g4gNDiZ6AKRua2pFK/cxTiSNEM4d7QAAAAwAAAwDM6djajD2yRa8HNwNdo6Zavvd9eTjhkFqVg5+QEKn99ChT6HVYbhd3Mg4MkvFa5ROneNbY6rphDRZ07uV63evjBey7cDzF7Y6iwaW9eXY2DNbD60I+7VMsmQzl8YQCkkxUTamp/Bd98415zIvH1a2WpIuMnsRR35sebAlEBPNn+4c+ddxbX+c+it1yAfr+IBQgaPSYENbrzTJS1VXQdgCxfK0bcw38iomCL/RTrHaOIsRB9+vTuavF1j7zGWYKb3g+8BUY+dBn3YtZmY5PUJsNNbkfCOdYAAABDQGfLGpJ/wAAAwAAAwAAAwAC9/d7ji2MvD7k8fvZGVzELq0aQxA4vEHBnHXIG8blOs2BBxW8A3rKBiX0H0QNolU3+esKoRNpg9QfgEPRz+zaC/nqDTJz7mYOQsQZvtDxAI1kfP/ZlCzxPO2C2yDRqnLh7RAeLvrPlz+CzLPdtUywCO5B2CIAFMXQ88Pmb/MdatT0flDghz5zeeTMGlip0FIVPWaoJQdBoFeaaVP4GJ5dgs17I2HS0DPGhkNBF53AbTqkYH9yGeBLQgRuzQCqN9lDww3Ti5oAiW+oFfCcLiosSGydQdKY3GRdoLeAfL2Cuvig6iWqag60hfBA5Xma4YezAAADAAADAAADAEjBAAACFkGbL0nhDyZTBT//AAADAAADAAADAAAJkh6Dm3IKkWiuQv0kVvcCe1uI30zWXf3XahH+hdKP+FfXdut7y1C/BH/jF9qNXr5Wyl8dNNNhKYsfzqFzoIjRyKipB327xx4NvHZJd5O6I1d3YpZVLtNYBG70epwZ9QC/iaUDpEqto956O86oHWP+yaYRgb3xqk+d/+9uPYUqw5z5+dK9yzffJPMG9T08caE4jKuYtiXPDOhjtk6OiXgDPmKxhAixg1wqxEp9rNoKQnquZMTIUuZIaqK0AD+6EZDOps6u9xOzyE1rG//FPbTY9+/53wMIjnU62M8xraCRwc6xJuHnnJikBd9Gx2B4OH8ZASKKqWkzjcBCImTWIaV8YU5E2QfpwkQPyesr4jeEPhhHGaR/WceTaDa+g7uAQQBpnrLgnAk5hmuAPpXfREt3HLGF46k8TgLrp07Q7N3KYQBw1y/Wn7F/2qpLDiOvZA7O7V22pVCNGQWNvinOjKA/wm4cV/hxE5nvj3pVZrivechNJN4438feklpk4r1w/xFI4lvW9DSBFIKK8tTTw48+JVevvk2+/2V0qcZTnNjb9kurQYTAKsw2Xw6qEByK43cNtgWjbAXyueuiiQC/yN9PlrXBDH68rc2BXIF6Fxfojgez3BhHV7kftiKzcJQoh+g/flHHnA5Pj/2E68EKD2x9csIgo3/rYPpy+ZIy5s7HYQAAAVoBn05qSf8AAAMAAAMAAAMAAwiUVcE2XyMVmx1G2YNEH4Oer1dJcTpE+M1yKgmeo16qda9t63GiEF6WolWTLE5vUzA2YD8FiyY6R9dbrBUvy47P37kJssyHkutV5KO1NQRwilWIO1ydfce3YNdLz8AitjnqzPgEQ1GiuiuaTyO8Ckt+f5sE5SeLWHE0Gn2ZEzy9ADgayAa2YUBtHSNn+v8/n5EzMVrQYRILjXi8ypn0GH6qaMNunwOu1PfF68qjXJSjaBZ/4gJQzeO1DohV+E1pImxGUjtcmJ9tUywCNcSxzBiogL3NIilQmB72fH4k2xPlSF2F7zD18QYse2/BtAhiIqjz6Ef84mO7FloBIanQCwY3PM8AGDoVZ5RFDQ0jVHOsK7iDRb928JCMf1vYr+raDnS3KNQZfcxAcGibNUy4fJ0V07xL0Xexb/QOePOKedAAAAMAAAMAAAiZAAABb0GbUEnhDyZTA/8AAAMAAAMAAAMAAAnUP4ZtyCo4Q72gC4JV0LjNia/+1GqxbVrtlhkGZkgC/kk8TlPCSaw6zdaZWYPwIujvuFyYg52jBHzA9JM2VY/vfBT/HpPmsbIzkaBNcqHt7xicf+NMUtCFguBKG6kLXheOHawvSjIv5iwljIhKxBt9RaRZY2EjMlWn4AAAAwAAAwAAgO+1XD8Nm6SmOd2Mv1+uLAfePnilPOo/mVCDBI9qVVeuOhC+QqZH+hLctI235c6PRN5F7texIXyYG6Excx+OIGvx3GUKubVQf4yx25wdoxbSozl3OgRSPW5PoLE6V2xiVlIIahD5U0pkuCJTrYDz9WtqhVLCnn+h5dtTwgIGdbept5Qf16HTpzoeIq7yW2k0D2TCvatNFAVf2G4uXUD+Z2GXFoWL7mVQHPb13dI/L1ffphOx7r3CW7pHfVxNKKeHC+pbIy5w3LYww3FdsZZlgvssRtvM27wAAAGiQZtxSeEPJlMD/wAAAwAAAwAAAwAAChw/gLDpek/6lB+bxV91NepyrYg9qBBAwCsdTnrbIBy0DIEPsmfN/5efcVAqPRAlZr7stxEFs6eAwbNvwxHVKZ9G/r1eFHP+FJjxTFoOVPvLScLEOKdbaU7ZMVb+Z9lcZ+C6YY7iu6yK3eq62ors64p58CrMs2L2r5z1cp16+CLYweARaWxIyFosrqEgPlU1n9ReyEljsA3YZLjLf/ByWCnhRgzfqPaL7GWwRrYiq2ijW7WBXOzyzoM6CMm37m8lVPv3CkelfVYYYRW0dF9iKkxjwZ/PyX9rWqvR1NpvXxoW6R9y9cRsJcvb1lkbvhda5X3PqKbtWCOA33Qz6XstPTji+9Tqiogwohmiwj/3utvm1ht1ArXb1uscQbUGAIl8UFENBlG/oJcL0RaHADdeoc2w/bbtqeEAewxqKMDkb8sTfcCUIqqTyfiod/YFQsKbHC99nGN3ELS0yo3YQhEw4d9o2myfVgd0x19zbAwfwZT2PQTop/g2dad85pKii8u/6uQ2jByQlF9BRjfKoAAAAYNBm5JJ4Q8mUwP/AAADAAADAAADAAAKHD+MFybzEIX9+yfCW6JZiiUwXp2FCVi///M5s5ADt1b2L2PjHMeShJmkIebObCOoWa5xVBsGNv9r+BX+bMIf4ucBQTttNFMWHLt0E/TsPuW78lYlzI32fVOHZ6OWHBf1I7s/Ph4UZLMNWjelLaXDhdMgk6rsGMRmNBARfV+fKOO3i0DMm42KASdXeXkD+s0aaufnvtlBBUdJZ+PHLtkrT47Ki7dWDTyqYEv/KHYlfLB3BpQacaBkEgNCmYV9fIkTKDuubb0SV+DpVltZxiP8IcFtWiHFo2N5/APxEnk7dITUit2QmGXE4yDKQckDvt2NgdFDDbUrvpi90PPup7Pjv1cScBOy5UfX48qPZjmHCKW82TN7bVKoAkKYGI07rKHAuG6vGpcsCH8QwYMnLeP9uN781AUAcs0fJ67aCWRjiHYJClNyRejp5C+pjM3rLE8mLUTgM8HMp94ysvyRLcKjAw7UZvliAYK2La+NToEAAAH+QZu0SeEPJlMFET//AAADAAADAAADAAAKrGJKa3EAyjcLE9ewZAHrM1qL1EHCxjVuUZdAe5FDmOzYGAKc4j9nZ2XBX3gqT3zJKbNi/t5XkTvkG8r9KgXpJgWjRByCHLe2RHcyOAjOraahs/lUdiZHbP+C77JM49o46mIedVfpL7sO8hl7bAOHmCab/kyUncnLNfmVUf3m14t2iZBDxnMHgq2bFvZjS/cEvLmjMC9xzqGxdYrjBSjAAAADAAADALb6yfOSl5se62kDICgFxys6O5jKXK7OvtxbsLo+UXqluOgISwKT9mG66tUdrEBRbMF+Th6U34nmZmDgK5KW4KCNKKMAE8FkZ7AobZykQDkncSRaQatOu0xZOcAkl62jDfCQ2j4W+O6cNCbRrqV9bj+AFinWEVkeJcB1zL8lB8gVn8o7NRMEdZJ18ICK6rabYzg0f45svxPRp2WWyf2VttTwh28MjE0sPBC0LJIsE7K2rIxIxXRMN4ykrHtNKOTYX7cBiVqXF9EGYb8PMXLaGXGH5wXKFN+Rqws2bocM5Xw0X9nkuEGm4LY/cc8z18GkGZgN0lo2wRiDf6A5dQxy3DwTMUPJIpqxH4AxJDqZIL2JmBRmYfy5w694tn9z+RYmlXth+NLKr8sy1rcBO3WeXxfa4RkbuG2W6bfFULUhVgxkAAABEgGf02pJ/wAAAwAAAwAAAwADXD3SnuYQhzT2JCK8/kogJYxEOXdKMchU5cXumaBHzU7UkxExPr51ys5C/KhfAJbiFFZFnmDw2j4t5h+YAL75ugIOMGG184svvrk7p5xQGdiTPCDQD4SCsnjVGh/f5OCjXGUu9g7oS5BrPLQwTfdHL9IrooeBC/LQ6xOdGAovbmR+7sYLQyhwvkhWH+oBd0iRSzxVofZh/v2YtHLPj5vm0O7aplg1B/WDbKPnBbKkCLAn3FDzw9dk/wwlT9GjJ9c73sQMicyzWpPeplgBtiIpSsVBZpgEaU/pV95wdcEtWC6W++xAAAHbo2ov8U1aGYc7Ty1vcxgAAAMAAAMAAAMAqYAAAAHlQZvVSeEPJlMD/wAAAwAAAwAAAwAACqxElBcnFcA2PJ5Jm61mUDfiCJOxocnCI+yFtYkufznJkZsPrJvR/RVdGFa215Lz0R+viJ/5g0RBogLqKavtkhAgeBG8zAS1E5LwK1caxf7Bbi7WKyKKqjVr/FdymtCIh5z9PpLLmNHLUj7qtYNRGs65YbI24chWSkAdljQ2+J2mc2f2qx0KbWkkVZRMEjApwFndMoO11a6xfT85WGjy0OiGuG807lgmBCwiSAAAAwAn0bWVPju2/yne3geLBuMWOfqzX8T0aX1bky4fkATdCX/qWX6cs/+MgrFL1su9S+1Q5wWBagHtjClmXyeSHc9Um3cjyO/S1v7TjXKyAs2Z+mRnTRUW2U8h7AOBSK6fwKeYVUYOE7t+3cyRgb/JDn1KbAUFs39T6WXmXUtRy4hB58XesOHHGJjLtOVQT0LC39gxWJVBHIIuaSXdi73EEC1g06Pj0feju0b3a0ZYn2e4AwwvxxcXovNSC3ZGrsw9NAs/QJtAhSfE/bRn91WyFBwiu+qqI8zVbU8t+F2k9Lox0O/XmnQJlfM+UUt9aHu275OZQsms0YADs5iL3oKjYdTMqjXX60rsjr+UOUoqN/4hARWyIy3/DAL8ih0Li90+0PUAAAFPQZv2SeEPJlMD/wAAAwAAAwAAAwAACvRElBcnFd+EAzggN7fOTRDODgFKfz/9En0VqrAO1vv5ZsyBxhziSzRQrxHsGwlwpYlomwk/i2aC1ofligvYI8hO2ia7bPpjQvWexss0q53Sj2x6eYLkfV68iOAfYM88BhpExZOCdoAExDqDTDJwzGOkT1O3ZDHef7dBQAXURF8LOKSeTwxYZbS1O9RYvdSvmJ3txNYzWB2RaOKhHyiKW+n1dXU7K5xrxhp/yShM+9pNfGOnuL+BMZ+a787/wecRVHnWFfV4z9+0iikLjc1yhIhByjpr2HwSMsM05f0zZ04jaIaNvdtUqgB7U9K0OOSMMLkkxjtiHHc4Lq2wfbvPnBjoUcy16Co31eqNEvLS45MEH+HcPk2/Z03mNxY7yNa3Vq8jCTgXSyl5GCiNVAyYmb5Y04Z9Gh4mCW8AAAGaQZoXSeEPJlMD/wAAAwAAAwAAAwAACzxEjm3IJuA3Hk50gkusMa64+tMVy6t8VPWuM287NGMshGr9k2xX9wIwT8N5i8zwR6L/GtqiIix2RxCu/rEjVtRHSWiW0boN9j4TPC17NFbB0Z94eFzlH00YNYUAqI/3alZFX+6lIFhTWg8BURbo2Fv1qiSCU/Wek3poZaXmtWxkQg6bNoem7FIbt2T0zvb9mzlTdsSq/quEAgyhgzr7bZWa5Vnk2ZjJ3AkHT63oeXEFBqPK0f6H7x18D9SXrHC8TSCvh10XRuwYs7nf9a0vlJ+S3/qS8NJb3zY+9kUTs+Vpw+B//H0Wyy8jwbbFT4VFhdHGRYQIOkpNEvrUask0Nh7pULPL6X/KPa/DQuzIkk6va0ZYW4QXMSK0seHrp38YC5+1F6DYUhCmyu0ll23v/S+TJpcxUBqSfBMs7Fo/I2FSg5u7GosbUFVMvyO+DneAzRIwhcuU2tEyQl4bIEHPWIlXBlMKNKnkiphhdNjr1U3t5nOovLtUqUIJIZ0J9Is1I3Mi/hEAAAItQZo5SeEPJlMFET//AAADAAADAAADAAAL/0AOokDPzQ/oWRUINdwRD1g5nvWOuVNVqOiMOCZgJRNIyMLI5NjFp3gJ00B8AzPc5VLaFkoB1evUH95rjOBWJ+OyrlY+QpaO7YNtyFlJyJbhG4HBgyIYWupfMZmx8PY9udolkfxj1ndV4tYd846zHzbFtXrNOxVQD2mU2YmSJmereFqUvySfIsLrxnZ2k7z2bjH/0yas4E4MR06sh2gm19PU7ONIaqlgDL6xNCPhPAaHKW5X3Gaz0BWgMRKmveKvH6swK2TndKMqIdOBZBdUeL95xWsGgR6CwJpOQdvkMulyU9IPi34vvLx+qAgLHyldwITWwwuxaUCsxc3VwC+d+O+WXFcg269qJaaF3tbsy0bsQUYjVsUsx9XvdhRnd6dR8KFGTGrd/x+6gAbbW3AlMMB4mTSpj4WyWT1y2s4qCKlfzj8rmQTbAlMFmRWpGUqgEIBF7slwYiKT7eDppqLTV43RbqY0ahcgxpH9b6zHqjP5n24j0HIQ6eQ7z9b0DgXuCRuKfhjF1d9Usf2KlD9x4FakSm8ckVt8y7LY8QsVdeH0JjKCmMex9A2GjDObFqADGCwjYgOBuxTyxfSKJi7jRwbAv9SJuD9MZgnr+vq7N+oIT258P55Tuc9wmYj+jKkRvUJM/DIOkT4+HJoWg20txssyJDRVfY71gFQAzxEdH3BwXYLbhT6WLBIjqwQCzO6ojsjbJA8AAAFHAZ5Yakn/AAADAAADAAADAAOw8FVa2LzWJBd8/w9T1cRnTmc4wxq5GLZkK+oHoYSu4rXWGD0Qf/mTe7kxxTofI6LeDJRrw+mLv6NIebry/aBl+R+qlyhh5MvB0O6u9zKiRBySA8QVkFOxWsVOxSMDGdgYE0lwcf+xNleLMU7B5rpjJreu6hllCHUvVNJ2xUETLfPK7hxLYjVZXJxckGMUQaBtYqN47Gj9J/bNKV1DcTnbalUC+wZtoJhPeYJZC7jbZG8EDXbKQA5plWEdJyLswNn2AJJFK73iz11abOLtR17ZohcZXeRk9Iy7sB7/ZVNHj7MlqWUAMDAT4H8RVf40IztNsFeYB+hK85Gm9KGMrJNnO2pVzfzaVlu+sfAAawlC/X3gaW+o7B14fCNU3JNaayHVlH9Gja4AsKzFxbgAAAMAAAMAAAx4AAABe0GaWknhDyZTA/8AAAMAAAMAAAMAAAvfSYhbNVGVLmQUQzKf28fB6QJ1wb8af3mZi8cKNH7NenDtPC1pTBTwnpAp0dWNdBK9v76WM5ASoHIZwtfiAat3bAIbSGvqBbJoX0aY9KffjUrkopSIFDvZ9aYcIAAAAwAF3Mu2ZS8ws1pJ4iTENqn6iXQ9iVzfBF1LUza8IBfanQMvaNsW04MNeRoUQnePX8q/cndXkds3hpVfpMFA6gh6jhwt1FuO3Vz66FVeIqjSr7XQBBE3M4TQSxUKU2UVagOKroYQLhenLl/vbctP5jVrCva0ZvbKMJLVbZkLFinxEXO6dL2BaYzHtD/jt0MgSiO7TQDJMWl5XWjkYtzbWz+MDLC/L1tGfrNr3LF7HO0f04tlOoOo3NhQ8u7IGgiVcKrQfJZgrIvngyHHKrLhdbGFqBCHIlo5FNljFW1BIVHCjD+npcZ54SNKELQ3Ia85Oouul0eo8Ip115JHnuGRhfjF03mcdbkAAAFvQZp7SeEPJlMD/wAAAwAAAwAAAwAADB2SgtuQTHBQZiABmq9aZf4CaXsIevMWbpYS11TGF0S3lS94oGsKJa1/m0inSlK2HrxdDCl79FvC+hFZ917lZJuqUBCD7iXJrDe8P8PLL9575AQAAAMDcNf+lxo+Cd9IHY21B0L24lSQqgpm635+hz280twtnhKEIEKmhwnfvcK6li9IYzV189/65x5xfNnDNreOBv3tr24eUx3erFJQLGZJBhi2orpMLW9JDGwpwpAsMCoEJn6zfo/t91Z3jPbdyy3+7aplhJQCjwoEpz8/L0mkIwSKZtoptXtSoFvpBv/fd5F40Hb5aex1Xw0d3G72TvNhDrsSkGGR+HBQbJ+gECvkmzQnDYLcSY87fCO+fQXJzav/r4FM7whCZd0I4MNLHQuRF6xC87q8IX+vB8AAUuBlYFpAHsPHqCk/UGk7ZE4TwK0sW9A7oRMJHXQL0O3QZ3TVxhvSu/g8gAAAAVZBmpxJ4Q8mUwP/AAADAAADAAADAAAMbZoi25BMcP1mKi2cPiNtlZvRFRiecswgZU1lCkMLlcKSDGVNI/QrXzRzBWyCHNRq4j5s25P//jSONBDlzCktWVio8H9TYAIXvifDMXpGJyARZPLzqbhIXDyl1e6V40ocFuGSiu49mqG6x6zReUz8GNMZlnBCEvT8ZpqyhSlzekr+oc2x9EGY8GhQlCPjuayjZ8O9//phOhxeWFEJsTH8z2+65R3VFnxzCSApq32nKCxW7+O81XpbfznUUAZLM5UpGa4ofowqkMtONVppO7anhDeJtOPSV2cR9C7/g/PcUS7Mu0kfnY4G8cTvZC3cnvthM3QAf9EGyH/S3Rhk+UrAvqBen9n64EcZxDrFLkyJuPdzsk8vfD3qRtPm+Z853oJps/VwztnYdxOA/JC0vckV2LLYNxHu2oc64fdYoj9sfhEAAAJLQZq/SeEPJlMD/wAAAwAAAwAAAwAADVKGIBGT807V7H8twgcGSjOZy9Zqd+bS/L2oTHAFcd0N/+xzXaY64FB7f3Sx7QHaa0Oyn2g56+Qr1hKkDEHa6cOGrEJUHqfasj2UvIFQDphntoNcHuN62PTk/lrJxlVqGDYFWL9uV9j6GhoiqbAZAMV1ykN1+gEKtR4/mCIlFG0p3dXJTyk5Gb+4cq2UL+h/DQ91P4ythPZLOel0wrs1buCuFh9giKfGky5aT4eBsjg5/w375Weopq6Ss7x1I69KbEW9bphi3IP2GTWHLy17ETu42s+fG0Uzn/5sgM1Ayijl5yzj5+H9nabCuc0H8YNdWEGsDKHZDQUpGhIdW1C5CcUxcrpVyHkxhOFrpfldn+KsfYoOnBz/TkWZHEniFuATlFsB2lPnYiyiuy6Xed9NbJQ8xkHs4JSBe9uikqcvg5KNZdVCFg0B1KLGZwiPL372QLsLcQLRiCCdmfIkbGeESh8egLXRNDipCxO9OuY03yAVRbI2Yjjyvy3zWvpOXd8csMUJ6ZKFQXsmTxcIeyVGcj85C1HztYIKdxiZALLjb3TZ43WRpH+wFf4SAQKD8v4t7RFFFYGHXWD3D9P/ixtTDzc4xbFNLKQXWAcNTqfzVw3iDXBDu+JpiI/lJBvTj0Fe13+CKwM7kPujECbUJgEv4Vo7I6z+NqImRTxKtgfd6MZvXFjF4v0QYXMW86Rh3iQlnRoxOrkkXhHZRub5NWZw2+jQbpLF3D8LCQzpGV57CBWEMfOhiqEAAAF8QZ7eQr8AAAMAAAMAAAMAA/Iwp0WQmnPRTwIrckYdlAp/tsjjnzbbczexpXrZo93+oDN0RLLu4JeJvyEihGYwFA/T8EKr6c/4Yf8DNeDEGCYeTOCwaIBRCOQ2hUT1VRTgJPKeuEAOef4C7ERjVbCYdtmd6Jr+v40kjO0FrYO8mnDZraK2pfvowB+ZU88JMBXHocionPsKy/q1KOCgivf6LlStw2gl7R1xJOAT2oKkVE+ZQXd2tGWEHP7lg0CkVnHuTVtE9vUW/ouploOaEb55t+pgDoz9x2pZiKR9H+jFgTpXIYpf/xL/jkk/Jwl5+TVRt7yf9KecAq6KiFTCAz++PTrHRjyd2qaDJhgf4yJP2Ao3mfY6CdSFKTD9SVFdp4IPf6QLFI0mZWb3kG4bw/EgiPlqFZcJdu3agKZ7bXlsa1tYrjXW/LpQf66CULR0exTdsWtBX1Z6fdX5eVmCgFhJrjzAbyjhG8095vJ9QX45XgjYAAADAAADAAADAtoAAAH4AZ79aRJ/AAADAAADAAADAAQQnUTtgk28Bvftq5jLyNrPSUTp8/akRZ151sG2C2mQOYLxucKX8PV+vgMqGDjdZYAAAAMAAAMADrX3A2cYJ0bN2Z3iMKVJWaRTgKJca1yBWwcExD+OTLu11U2hbW0lYZ4kWT8qDeqQWBeQBi+HRCrIrJEeP3XWi8QKzrqt/dbzZbdK+zsQTiB4q9t5wifJPmFbZU/BvWD2aS65ebNDmU+miHqy37G8jzKfpJM3nHj9eQ/QGKmM7lZA7taMsI7NAb6t3OQ8O3rEs9NoBNusWzNwreHDQrPyOXNjD0RcsMm931eN5UoeMlyJ8ZSv5cVp+BRdB8bOuBetvM3pX5N77DCZSiEs5fVYqjid/Aoy/VTFIHabFgSBOlrskP1bzaweUX3Esrp83lfQPC2CU0VbQZniUB/sN82KYBT+rJyZ7Nlgcc1lG6VtqlZBjZWvjypQMJl6psffG8mjtrlfqkModecZEO8SSTBbEPyCHKk9ZWK65TXioTqcz8Uhs9JAnKari4QhFRGpWgXUMynTYbrsPFsdWI1+Zk/7FkeLH4ERvcUFAmR2kEZ/xVgtoKDC0HT8gI8FVBD3w9udh1rLHzEn0B5Qtqz4s4d7IY3pmt9JwKGigrCN+Pmj+RYAG0RbzsAAAAMAAAMAAAb0AAACbkGa4UmoQWiZTBRE/wAAAwAAAwAAAwAADV2pQubt3MkWxAzrI/xszzlW1mc+A83QzXUMvbihKvV5QhOgMCLhMqWAk5axAOHba2iOjWNLjrblpcLVtgh7Vlj5VmpBiE5p3D9m8bXyWN6cyNW5SQ05pKYy9sbX6hPQzuM7oP2shUlQ/Pe6Uj6w8r/EOjh84Gdp0GbpgdE+A3cDkNbkOrTcl8IiLoxHW0mzVFcowtMjhIDlH9xgROBi+RwSy08qNPlECKoFUGSjTayCMCPqkaRBTW9viVRG7z4IxRB+XoHmDx/j0H0k3t5GznuQgLtLIE9f7KJd3ZcPfXfAQh7ejzL+6526HpDjQjnQ+QAv0ktI4zDW2Q5HgxpmiMRNnAdlku21SqEb/wIYXWeI86XvKhvkxFl1k+GAobmoDf9jWG45Sie5yMDfAyDT3+m7sJ9w9gJ4nIlGVuiyoKfQI4kV6GeW8LIGEbZ9PPpDvWoBcLoDe9gsTR13MK//C2YjNvoExkpNdw8/oib9CxwdIXTHQa7q0FpBtkPVRuCPHNcveWeQ8FdmXzPfjYDPNDQt5uj9JnHgcI4MwACPQwncVV4yDoTF8H2KX3Gz5CGZJ/SqmauRzi+kqSH9YCbKXTbqAtBdDEX1U6hcbyLo3LUKqoRvXMxCQImkA/M+fN/wtAhL8tZFZ0vF8cSJEvNmSmn0Qqow8qIeiz1fm6iQignRiofdeGeVe/uwNXoGNG1/OBqglzVmKO08M62YeK2qAj767i7wigpZWVqe7SvyOmPL2LX8BEcLfgFAXBK74hfJH+EDKfzv1Pu0tUhAQN9nvGDlILHK3iEAAAHGAZ8Aakn/AAADAAADAAADAAQk0X9Szmp910kFZG2RIVVZGGGr0QHsWVNBp2Z7uZnBOTyhuCeQpcDaTltCM0WMrKlzpGoqa30jA3yYsL0nGvS3nQdn14tRKnqYeBXftSKMSDuIIwoqnx6TdOLshfKSDcaxMjsxE9PHRCQQLMhHRRN7cMGsAcJuIzYewWlAd6NRDWmA9cHhT6D/B0CZUVzgM5hABVgvpH4gtYoFuJFKmUm/MrUfN8ds4HXZo0rhlY845rtqP/3IP7rUqgeVNATDUNMN1WKfcb+ykNI/8dKJXqM1p8fM2U/fovbR9iSnlOpLTTo6QZY4noYbzfQmjAl5TnemKiD0k1+Zn3S0dSvESwDFwlju4CKxUDGbWs+yyALbfhIOdQ5e4CaLx6cSwzeT/VDuIHda7EymLXw1Q5hoUb7P8lgDOF32AgtsIYteHqgNmAAAAwF0CS2qW67FEj/RDMDVEgJLeQRVR0iAOBqt4Bti4R7SAE3ehemldsnaKJm+GbebvXhR1R3Gw1MlB2nwt0n9p3cKsZ6o8YPWhddMPsuQZbuW2qfIESwWVZG11TVPkd3RtI5m2OYAtXQAAAMAAAMAAAMBlQAAAmxBmwNJ4QpSZTBS/wAAAwAAAwAAAwAAAwL/0BTZgSB+b/4U52C4KznDQW2V3RuBHqv8Ke6JgsleyNm97erYUnBVRWjj0uVKhWsUFxZVpVFqjvtWG6gQI9uqKm8WcNTjoQ6Cb9+NcgX+hwi1EemtP6uO7mPRLy9CsUqAKEtKOGCYF4euN9cbhAS+oF2iYg9Kc2cx9NYywrOd2bZBFfb7hk60IAWBGtw7+Y230qldTtWCQhf9lpBXJeQtocP6c80bYF2jZ0EuyyLLiOwFFi0CMl7NkKfN/kmCqMYINr7R8Tu7OzWUmY6tfnrx4vOYKqm1MLtRvncmrjkV6wWaJwwhpwh5lcw5eVe7anhFw70DdhnGAtyJ18Dk/c5NVquZclmcG44VXpweGwa1bMoeKUXGTsUXqIUDliJr+QW6G/mCPtrjhectnTlTCj7q7g7sHXPj6eYR+2CXldBCW2FmQrv6iG+LNXuArlmjcHpAucGgfOukWs6SSm6E8lKBcg7QiD8of/0irgpw5uvVUaFkmufX0e+MClHt3YyIDgHFYqQTPWeRbiH7CargiBhDBHnu1LQCmP/InbfOIOs1kaWu6MmycOAYVNqqOViEM/ruiAPhbw8IRgTq8VZubBJwlC5r7mz4iUxRQR/V4xfoADpY3wFvYbaEGHVJ1CpznoTcnLIsFU0JmGMqkELO6yqjmMrY0kgUvzGsnizuAtrOzUTflz1SzCcw6b52pKRYWVcXBtzn0DcojKQio7uRT3hOj75zGv7/NKfvzkGOZOTnQnT2MMKtX0469VABsCA+3QGF1/XAtX98Ahrxu7lpJEeFZ2lUQQAAAVUBnyJqSf8AAAMAAAMAAAMAAOwoyF/ZAM/L1vMl7PtTmXKHCm1tuIjvdvdsgkHJFo6QExPT1XDCioT8IDiy0wYMBX64lmJthsRapwvgTil3hdUoL1VYlVdegR8zIiTqUq/61Jda1Bx3+GuWo/eoNBJ/WjKoq2nNIu39f5GF+g9LiRZIWvff6U/cExqbanhC8vQS7ya33vvnrqIZUtEpCNbDxI0nYdjjNC870oiz//nEXDFA/hOA44xLsD07iZTZGz4veDutK7IymL6VWRQtgrkaiWVnkPBXXETj6Qx8OQBzCnG0u7k2mv+W3Gc5Kc3vEx64t8LmaZAFj/0Mdf/W5IzE9r/OLYC5lWvPXzq5VOrgTaudJsNyV985Ia9CyRkFX0/hXNzHjRNgDRsjICj9+qAgrajYXa3TAH3dRi8HkEw99Ead0JPeACfbVAAAAwAAAwAAAwAdMAAAAo9BmyVJ4Q6JlMFE/wAAAwAAAwAAAwAAAwMn0BNT8BA6yP8bM85VtZnPgboBSvZ0SPVwBf+DVddwynCwA0InzdDVP6kfd7C6cMIDTjL3wz6GQCgq/ozmCgrXr8JCwN69uET7QquDaXs//AYVlJj4a9nXggFy+Q0p9KuAlHiQNo8ZVqUu1ZySdkcXiC5lYbs6w67EZa3QfcYbcRijXh2GiBS5Lm9MQxIU/MHgIAAiDYt7TnOhO91uASwZF9z+UzAeLROrJplDHHQYfugYUFsbBMLrg9yfJBQ50QJ9WKu5MvLN6o+QfKGYAbFGaflSm99eJUteY4dwgKuz9OoZQjuL2tp3dAyosbFp0oiEE+Fmhd4hjKTdBG1H4W+e4bN40OPo1KomOOcfbH27LfObx14bd1GBeZBMV0nCJ7lM6fApNm3wwIlpmTX07hNGzCLqKJalaKG0idFUnaaqUa7J+EV90AlyxkEMEXb4X98hp/NgFxUEMj3Wmna7mZ6tr53TeCGKQFP//1CZ1g9mqazjL7CdkmGNFdXrzB7Ohcd/Uw/XEbHTrDvuh9rHxrAvjpXuPlMsx2bQzBc44ibsfmYhwxPsF2NnZHgsThfOj1ADca61gAaWnPs/oTD/yXjxDS+Tp99xo1udFnR/sSzpKZv2nJvexSFacgIDyKbPVAl+cy0iNL4vmYey0iTSEIIHmCk2yzP6VfhRqHyMUjxDibfA4VOXn7ZcrJPLDGmzYSqtXph4zp4BXkHzZizm37OjsDw2IzXSawRZP8O5Wq+32sKh8r+I7n1SCkUX6jUrdyba+KTGFj5PMrq80KgnvSMe6Gx6OeITE/AnyTVRsca4X3sXJ3ZykCVkG+VAyyO/2kxcIL0El9dxAAABYgGfRGpJ/wAAAwAAAwAAAwAA9yqrsu7bNgllBCDtOBdqf+Yz7sKfbLgv0nPITtIrvJbOyGC/UVDBjCxdw4yNAOz8wGSPMfZoIMTK2PLrsikGmwH6nhIn9FPQD92C4L4envmbe9+uu+cjL7MWhljGhRXNrLkObv24gbai8S+OrEdtnFDsu4bMtTXarEhxAwlBMJhYpO9+ufxvQhBYnSv6HbdNcN+JE9gftUyxWq1KJlGe7Fclm0yRRF30WXutXecYN1GSk/3Wt2rpq51NrMiDjIpoHADRHaqwC7xA50jg7ZtCPwGoArRSUpS8KBlHiY85sP+2YUEok1SsbenefbWnhhAt16PHCRQp1ZuB6MRoVJxDjWobHWV1EtvNhgQ4KSBAQNJehj1r1sKRAgXAxojIrpdPfZ/moskAN3CQGUtsCvsYJm6jK8PKniEcCv4nMfRDRfKpruIPk3hAAAADAAADAAALKQAAAo5Bm0dJ4Q8mUwU//wAAAwAAAwAAAwAAAwNP0BNT8BA6yP8bM85VtZnPgboBSvZnlki2XKX79UpwJ+BVul/twAFiTdZFflbH4tKBreIhuujcsAJ0SpfbjbI87XzY3CZ8gJxauMvis2Jqmaz9Tn9IYqrPhZKkiWLnvskIDd/dZNruA49+BTtybzZDNCvKCAMDVRMTTp5OZZ3bjKHvaPpf3TDGKPHelMLkJgPE/7zUX+wK49jJO6zsL+yBH7mH18ED7ApMZ1cGjE7v4FFbZ4r/CLZrV9VUCPs60Ci2kBo4wgx7XaplpjNuREy+AM9y7jaixqoHtmyNYQ5+2ryiV+yllPea/Y9TIGuvK0TlZ6jeLamCNYwEj9Rw0DFvZRk1wxftfsAgy3R0GbtTDX0L6d1NZK1Gm2Vb1/9WJk2QhWe0COu7imHWxVwDWas48hfBiBXhnvRpPITJF4VJwNTueNcrg3jL7OOCU0/LOiNtp/lWzMBeYg0LOPdXoQMIq3Pu0AGr+r0+0tBiMxXAuNYd2j5S7dSwmvjyTNl/NH7AMMrWD8pzIvgU1g0W/eNlI85qqk/IcARoxdXEIF0aKknzJkWc/6DsY0peGffaEOTsjkfEiX6DTginZcffvF4Uy+jJyO/433kslCnUjlm9ULcdm07yq3520YsAABv3shCc3IvZRfHy1npHF8D5L8AuNgZSGtXVnJay1quBUTrC9yT4dnFWr/NMKQv4dloc1NVYpWROP8b5FJeLA0BlmSSqSE6YSC68UMME2X4r8eNicMTGmsueS/egSPUIesqLHo6MxiqXCnfYRhV5/jZjYI/yq2eCUrAkARZ+VXdA7JnjxgXNuq/GnzPd8jrXl3LsYNyFrEE7D4EAAAFJAZ9makn/AAADAAADAAADAAEEKe64LbCMuFh3Ygm9byk9TRvnhumDJo5ESu65jgczAEmx9gzd1qgc+tPJhJHJDjcnFzAE/7yanISqv1vHj42ZuStxa7S7EVAjewgWGAJm2Ukdmj686c/mYyKDHxlE7oDO3aV7QBVDyAVWwSoLIbQGTbMascSBmR8MPiIcA2qZY9Aw7+R+rVMIzPfgeGufflekTadm9nhl5tAZB+LXulCVHFh3iRoftZ/ezuLugTAk7+T1l+BzSbs9rc/iA6PqsGTv9ZewA66FG9PpvN313uRpEZ9HjLAzwUY0S27L6ykCZFL4g+sMDEAoBn46EO6B9tAcsPp2TCJ8y6j1oVBQS5nYsA5AKwE8MAoJaBkwKStkiafxcJuH8kCbadVT6SyHLEIYvY5gNHFs1PQTIA7N0AAAAwAAAwAADekAAAKDQZtpSeEPJlMFP/8AAAMAAAMAAAMAAAMDd9ATU/AQOsj/GzPOVbWZz4G6AUrSXTJhgr94Lh0Qg9NfJ9p/Oog/oL6olKtp7e72N1Ooj2guyiFEV6bRaQngdRSOh0foimL5pidqK+Iej0jwU+Dx7XxF3rXjrVJy4lg7gg4n6L/65UZcNYBLqJJxm99Sdhl8c2pLFC+e70KXftWgeZMg8xj1Y0wer/16od4K0JuEVx3/KDrjlSYEIsVMH78RTYTMka9EqjERIBdrljqI0o+riaIT3FFh4Lprse/0mOPytWIKKP3/ZTmqLfwH6eJO+/yT7nTbo4JEEBxKEq77EBR/jTNMECN8slVoG7banhXzr8jd/0ZU1bZRk+OPhBwqrJTNhNIskvH+tla00bxPJupQCeyyM+LaFkxcTuYKuQ6dU8j+w3gvYLjToW0Roi6Zc7Ox/EmmrDlfztj/I8M0uV8/ueEwQ9v2Ps2eMnOnU7hL3W9ip4zxH8CJGulwa0fCgVxbS8I9Psx8GdmhkkAj7BWDIfjsxWv/SwrtTFHu422pjlKnj8+lO81jgIsMPe4tt3Gx7CD2tik2tqiXyDgyCI4i+niQAhyAa8ak2naOlCaask1XIi18eROgknc7n0Gs6LNTAjCIYbBSOhiI8wpiwFjivZd5zN8+6AilcuQx+4PFBn+Y74WujJOqKbg7N9u31MpSz3inwJr6JY3ANxEzVkO1Kwxoar1NEHvoA53rVvLaGNcq1HaJUCUuVs8oIsYiixZAN4I7FDTnVKXincTeZ2gWstuNcvJxkSTVxYQUb7XusaIjr3V3adxMGTlc/2rsCP2vchUisXBJTrF7Eup84KOQlOfptxNmkAAAAXsBn4hqSf8AAAMAAAMAAAMAARQp7rgp/s7tVglvNQuqx25vDmi50idL2pER3eJVk5rzo4QpntX9ixFyPmAf+/NcQtVoBx/sgF5kO/4ZmYvGyF9b9R+DdNiyaCKu8x67K4yGrbi26ics7ye1D9ZWeJ+9+hfwThqYiPDi14p5sP2GEDwrNVb2ojanR/Q2+3fEtgCT2MWcwlAqPxhY1/eiLVMs4M+g+tBPsge64vewXlWKfMdtlawsPr/Hj5yzh4vzpZI+ERekSj6Fyl5rRO/sES0vsvdh9RVgBe3IqgB401V8Fv4QSlZ+p5bvrxiJBCD4i+2Q/OUaBjS4HRqPaY8DAvWPQI6NXFLX+Tgh6AS5lCAx0VF30mHGhSm/H53TTMdtELVAi/ew9BZA2nCeewlzhImCUCWhuIuJyFx4zxlARP3bqsKAApeR7OUhd6k1NzLlQLTDYZZ6hh4cwRy2n4Fh8OS5U3lpNFukjFS5fu6Q0pAGWLAAAAMAAAMAAAg4AAAClkGbi0nhDyZTBT//AAADAAADAAADAAADA6PQA7lQYv//fhL+7BFvBVXTQAoK9qgy5jY9EPJSBDwRRd31DjTY6bPvQxEE/aR8/CZKbLeIhus4pIRF7aSbYmX+f09Nt+pa9Wq9HjKScfuchVxnZ+DHpNBy3ePUKJrI1L+0RruVQTUwsZx4NAsleCM0qibwCmZ0H3iOARzZ7YlwFawph+4opMLrQ6T8xWgXd0F/vDczCMwSwIWEYO8I4ALZBJTxmnEej7O1dT7hn7aFavVrfY6cTmStaNm/u7vp+lQjGrAnOp4eG93Q0b2YHKiZe0QKYs2CDNJhZi9ntlHP5TgPzFvZA/VTskjuRGoN/33BesWkiRyYhy6ghMFAmNUCM8CrUae6Jwour9qkh2ka7sPGcEsZT52agktFyzFGEzAWUJAup34TpEaw9jWUQfwU/z4YYeHBx64EXGBbtrIe1A/ct+kIKfqtlpi0xeG2DVo68TUvHw7hdEhjAFg+vvndL+XFZ8ySW+GvgwfzHByOsHU8kNsqVGXgZRdUHL+HgzCxYk1gxg1r3AMdZ6YZ9LWClOz6lyNYwIeAvG3d5qjpnYJIQM+TFkZ64AzJ4K6q5MNIf61W2BhdXZN+f0QslHvkuBhN27nmWB0aFbsydbv56eblL183VRFDGR9FIZ9vaYTcgX3qpEA3/+aOV/Q9Rmsmy7UAh1YL5i2+L06L/Lk7HFOYkDkO4s0txcqM2L/iwXDaeUAZW3wKlst0OYZEBSgF+6BVh9R/C6yAeZYDZoX1bGssBRHbTrVtKyYqko45Cszal4gj9/mhD6bTXrKCqdStn1FDPoAFEANoa7igH1Kdd4zXz0R1E/aldeA79fTwC2Crv8IE5lRU2NoOXV3PAAABWAGfqmpJ/wAAAwAAAwAAAwABJCnuuCeiCUQhyK1FRK0GSChzXGF3ikSmi+v88if0assM2+XEgEIO/4MuWmPcWp81SIUNM+AiHL2Ii88kfTg/tCOWJ/PCghToX5PdD7RN17zKefyzeAjHhQbQp5tvjxMPjgC3hF9Coyq/rUqka9XZWwakUfckUlRSNgvzIdnUbNOCUYO50eu/KAvwZQf9tUXn2nek6Y9T/qS0Fbhm0x5ToRYbHb71zTI3tz1rN6uKxQxHSkA38Lhl7/ssBL5FkPmVh0c3r3zV9HQlvdN1r/eRWWngIiUapChbbr6IjMyAAAAQmCWXSabH+zKeW+ezg1xVGzL8fMA5AeJtysV+DlLshlZKnqePDaQNutd8qKDMqkjKIpGMXWUDKY7oJCJ6JH5QfzsVBIiiKnbucsLcpUWx7F+Jc7rvPh6jWQ8BwHQAAAMAAAMAAAbMAAACOUGbrUnhDyZTBT//AAADAAADAAADAAADA+XQFrAeSBnWR/jZnnKtrM58COu7gGeGYXFvZPaO/PoHRfOXm6bpp/txI2RJOG+iepPj8rnfCyC+GBVQ6tD4aMb6AlFs570BO60y5qnppSOCdnmkRuVRUEiGReBK5odfknoFBrNY7t3ITYLotR5hlhCEmJC3090WVKdbusVW6DMiu9AiKLQzOj2vSv2DOrwZ2EjeuycGTz6wdSg9yER7wSgAmLxOeoDVT/BcTfic0o/p9ZRaVt6gaRKNWvt2cE6nbiFUSPGPIXcXS/SCdff1H1gpWyLtPg80NOxEHtK+iLT+mgW8CUe7nzQLhYbXsiTjDuDjVHwcI7jKRz7uQeLgrdjlWS7pRAQ1LN7/s4Gearsl+YVx3c6q4JCHGPAPPniThmCeq4pkBbkEU1BxNYqah1HyYtnyyw9k9xS/26GGnjneBEYIhQeIxqGuY/nkHb0UuNxesw2tcvGypx3J2FutiUUEZb2jUJHpWqAUreVbHEmepqVCITD3uwaXzIcD87MGQaqBnciVpMKgKvNy18gdEOLqzi5OCXHB8DoRoc82LqvgPHzzSHElpKY0CylCvFyVHhRU1wNowmddwp1Mw1sO71VYqlfP+LMzRabs/NJgKwp2Dvqreq8P3DwS+vT45ZU4liDD/yFBNBZiyJk4kJjDmtcILaya3Is2pF4MPBClDsbv7bb8nRnmu1LhZLAhLfWYY5q1DdDX7+LISrxxjUhOpSCQAAABUQGfzGpJ/wAAAwAAAwAAAwABPJ/PfTFkXjYJPGxWfteLQ/Qofn8iiiVXDRuor1BaouQA0rsruQrOaKWxF8psYXtl4PyPlphe96X3ZBv9pM2SKUtDEXlGcgvQ2QaSneEhKMNzjBcU6e6xfs/tL8PBPP7anPb8AofAWzuNV2dwUa7Eu1l+/UeY15apl4ila7Izdtizm2EmjXg6LxnLKzAu/mk6zBGQgt0lCTPPQWso3miNutHYe9KcmV/wMCIaZNYjQ9QJmoRTHwpUthRR1SFTnTEU+t9M3RiNSzSE1y41G5mvXQGluP2mDpU3OZnTw8PwY46HvMHDi50g/m0PuzLMtcsocJAHmMRrwhaLpPtljeqK7Bty+/gsnLjXRMcyPAzJHCACr63VLyF1SABjpWqEQeFUEGrspre6uj6JosCxUS/QqgoEeFnesAAAAwAAAwAADQkAAAFiQZvOSeEPJlMD/wAAAwAAAwAAAwAAAwPts18G+fhjU9QUlgm8qi4nHV/91UhPJoZvXcU8kNmPqVWFSYPA8/+oKFB+LVOjPFIJ5EmyTYmyaj80Jm1nG+8xemKSnGxpmSvHq2dgsORr2hd8CmjL5tdWPh8Rbi3cXn4OMZqmkkCpgrPo7XLRVj3FigMF3bU8qirS3oDw+s3QaRLCgV2EwpIoob+CU2PeuRYxBcZplOELoTBqvrz9ikHe6b0LdlBBw5GDW6c0DvNiDC+rbKGSMj3f1zHTojOSzNz7CCalLuZcQ6kqCaLQLXCgX8GfqnKvLcVKvvKSa4O6rA19UA5ZTSevBhFpQZNQhXGRkejr7in+4EX69eGShtbhVpi5T51AllEvTKwD3xnpvAnMHMfhMCw6+Bg7/hWc29/PAwcg61DYcMGd5fAgQjtW8fADuNwFhDBqqlylw8cp+4KrqqGLow/w2VpxAAABgEGb70nhDyZTA/8AAAMAAAMAAAMAAAQJDgAytu820qTeYZJYuu5BFfN1Dr2evaF6LGOzBQdA6vCkB6RQ7aEx3Q9xbyHPUr9dSYItPaoVI40PLlBqc2SKef6ZeIxPwHH2ErIqgV6TSkdnXWYuv9W7B+yyj7ZpL93bgzY/uqcU74QSdhd2iM08dQKiOJkahyhT/3cBzqdIA/Yzz8OEW6rnAct2FbxJdmmayaK21RVVyL7H4xIJO3/maT+yGlXniF3K6LvR/uP/r2qTabHsBStxF9vnbhb71AdX3PydFoS3SHTeS45Y34yqP4tho5aJ6Yagu4PqN8Jrb11K6Mpl4q0N2d20tvyYoDrYamIYW3dE+VhY0HA61tob5A9Y84DnxRDlSxlZt45rODtJiYgUb5wXRoq6aQq4NNNFnN8DhTYN5UB1TpSHUk8UvA/kaLzp3szCGW/m4Hw2RFl6LYxs+IvIt1szriU4Ix443rcp/cWGN513iYRM3D2kxXLaBdfzIScqgQAAAUJBmhBJ4Q8mUwP/AAADAAADAAADAAAEKQ1fMrbsMWHGZzI8klSEK8UN5GcQ6J9WyN6OYDGYBtH8Sh1Qpo50CM02tmRHUjmMFC7qJHNc8w2PWUP9ib84VLpdZnVqVdsAVQWqvOvRqQUqyh4SUGg65xnqLNmR/CREWKGdrGQVaE/JdtTzLDzYwqLRIR5m5I+XQe54l3deGyHgRDtI5dC2nIDkOTcMAjj4IwBKOAQvBwWbYAsFh7XetadnzXBPT6zSwo71XH5V7YgZU6CCPB9r72kPzHWTrv33YHAd4FyURNKHkcvpPgYTw4jbzweBFk4Oh4ZWJHq0oCBZ7YHD9mquHKQBQWZMWxJ8mwXIbZZbPAOeOcFVJZElcsebfRmime2xJAAACYkCVdi3wTJq6ymIVirDK29awi8IjcheNAMBb4zgc2noAAABs0GaMknhDyZTBRE//wAAAwAAAwAAAwAABHjIHztthk/p8x7sKMJaPa1zWz2ou/mhF90XQVReSUvkwZH+J9xjakQhYwgj+OdQdwlSIEhRuKtToGVEaRR6SECHCNh4fHZdv3ltkSFBNt7z/I8QDyuAtXvG6Uap4EbA7S95StFlownbXTdWc8GxASaPUOiydKMMr/SxaguRKQutAQGHHeZTQdDIlU6/v19EGmUWactmXd3tVLctoawd2s33pHxO/udIZrznpMPNwgKWpWjoNgoGUgcYBXB34hURkhF5eOvgQiAacH/nSj7nWPCNSnR10urAqmBCR1fS7ETBIy2cyzmO4MUlrfYfwFoUMXlDAU/F8+lX8X9yAIUCStTgNYIdNs8nk/Lx8EzJUCjAv+3hDJaC7uswhHC8LSRQshAsUyzRoa2DnaxoaqscwCS9O+JklV5twrG89sNQzPwrJA20oNqDHXkQukFvWa90unfMaFPJxAcko7JCPVPe5lh+5rW24XGJJwd1BVeaqp0WTJMqR4z58oSTTLo1xHXtuF1yVqBAIpKocQWVZFbhNfuJKJlfm8Ex/ioTqAAAATUBnlFqSf8AAAMAAAMAAAMAAWm36VGGS7oiX0QZlPEER3c0lWQurW5YoIFdjt/fSl/qOkJbfBArM3tYfzzi8lz8uy+zG3Jz4Cszm0LnPYYzaTbfRgn6IekmhaYtVqNiJXl+xnbRFHdeFbSXvqG+bV/prEGWv/ZrtxKrhn0RBf4ApmzV9eS0iZanhjlOZPBgL+uIEhcKSAYY700Apt+5r9rjzEV3Em6OGMmb/3NJzxPtwVMjUPCTqOGICtksBDL2vTibVU1Uopou8V9HbQaLSrP8Fmqfoj72EA/fizQTzc0CE4z8nDnz3Qc5/fh1yKGSffAW2LISsrZ2vzuztRZ9ABd+bmznepbgvRgfNn2LktUgU7LtEj3gr43w2xsaoubVqI+YK2NIKcRsGI6YAAADAAADAAADAlcAAAG0QZpUSeEPJlMFP/8AAAMAAAMAAAMAAAS7t0dyoMX//vwl/dgi3gqrpm8/ffCRUPWxp+S2P4k47teemOqqkUe6xmuXX0VGrPHwwjtBrR1rYrzbzVQKKzObztUsdqVaW7lGV79T4l/XHjOCx8BXFKuGU6J4YhueEtxp+r1VgL4Z8F0vCqckC+nun18zHexTAzHeaNviNWuW0EVApmiCVOFLPewN0YZVgNXWZsylxbzT3yKgBA8YtymN2wKXzi1FtQjdtSbF3fcmY0cCbRix+PTnwrX0M5yKnZh3ROi8YwcTga3R8q1BwZgaSyBLoIclk12VRyC284eZIgAua2g95W/TCOxHkkWEoYZVyWCRYPkrGcOXOGqsDJj53L9Cm6xphJFTN/nESLRpE1NmZDIuk1BLcxa384AAzMCL3LcoeJxdllkSSFsm/ZaTilWqFkXUfgI3njTjMq7mrjUWyc0V89pvUDJBbNpJGaGB+xfzENtT5D/bonlIiA/w4PJPnci0oGBbykboiyLjRgiFmYPBdsDc0LlCPSdUdX/D+zEsv1BPLJl3Tmn8s2AcSORgUQnhK5+c2ChxSAAAAQ8BnnNqSf8AAAMAAAMAAAMAAXv78gQecEvi6I8uZTwiRdIaRksMo3RIP/hsC4wNio4h2JAi2itlYfZEdZi+lXu+GLE5mg7bDPsU6Eia1iiujW5E00x65BjlAKsTSpXkEaKRqE0aC4l7bdLdp1kPSvbMdjNqee0aFcbaFoYatY1Rjd5MtSnB4hoqcU787HT3+bAfQYq7mkxphvDemBa7V1uvQp+n36n+RlABG37IhPIg3McsebUshJWqdfmEns17qCsWfNKVvOTlIEGa4C3fQb7sHm+SUV4m+u6U1yIXOmuFHnW8+5jCyjEgUzXfTNJSpkKExKiJiof5Vw98jcujPBdcEMAFTsAAAAMAAAMAAApIAAABgEGadknhDyZTBT//AAADAAADAAADAAAFI6wwKDxzJ+b/4U52C4Kzm054jymyY4AKgiz4MO04HTCmBwdsVOw0pnHkdIcSBLdEMtTkIEobcoso0BsRe36PoA2olgL6u6jBL0W2XSPmjnO9yuY+EMxjeT7m3eF9OwHsCsZhi1vvPe/Q+ogWqDGAiIjXQ8x2i0tnCLk/93DVndSoLkrtjuJ1Vh/yDrak8DhdF0SvFauoGxx2JlkDqms7qaVqze7ZMUxtnufZtLVjJlp/diEWqjRAxgb+0m/UvDlTdsFwO4vkELsTn+Koe7cBUllPPfeYhSP8X479ZWVYZOGv7SU9WMWTTddSFvFe6XjTnRgd8k5P4UliOJZMSUBywC3oPyNxf9stMZW7TSabIgUIXGZ5dCZOCFFuglN7eaIBdLVoKdz7iytifYptoVMtl6PDaGzyIGKRY2mlrhFC5WFwxwil+00b2viwVf+SU1dUBFWiQOmRTP8JqFqhk1IFvZnXn3SB9iWJwQAAARYBnpVqSf8AAAMAAAMAAAMAAZn78aAToKeGJx/T/i9C6BiJUSd1Mk9kHSPbS9gLHospJzGle9uCZYsUCmebXikD6hWFOSQN/6OFXbvAdpELHrR89Qzfk60CZRBHLh+RcdZvZl46pVo3b99Xr3y/gDYEJ0Mk79l92fIGtnxi6MCnh+emFmiB/pVS3Dwkxnq8pFu6hYopm5ERj+njFycda57HB/dJ3WA2X5I5ZrYmMWaEa78posZg69PKcSlO6Da3wHjqR7nRjWu1CYE73urtW6b0T/GkfrXGjrmUAYfwGDT8iR4mC6gr2qUTqHI3oIymCL523MlKww/nvPrLCgl9gzIVrT4+PBYxewAPLcgAAAMAAAMAAAMBdwAAAV5BmpdJ4Q8mUwP/AAADAAADAAADAAAFR6wwQbAiB1kf42Z5yrazOfA3OoWIUmcEXUJgX3dVpRekXLD30zVybNglhZ8INt+bVmyUMr9cG5QlW86PiGgpK6GGc3huhuWMFKvV5fVJuuNUdpE6PqtlKVO/thCdznblVvETYZUwq+mc+cMMoGWGhMHLbVLYgd9f6/KslxeELB1ppiuWs6g+Y9Ko6maqu4Rgq6XQ7n0ruzv51X9HghQ+hHon9y1MuVaunk5FDBmpN++YAg6jcXczUdyrh1R8n7G7IBW9+dPVRojybaAi6/s4fjsO+blpGZHT8kof2809O7ElmX7Zh5lBETlyDVTo3QbIsE4WZH5yBPeOjSZZod/mrpHdBFZv3zJnZcTX0egkbOMAr1SeR1u6cLF/g0KFwHYOD7PklUhKnMmoyTkvvuhKaSzxvD69EI71XIg9ynEEYjxXXkIJ0rZBeQAAATBBmrhJ4Q8mUwP/AAADAAADAAADAAAFaCyeLAM/ND+uB+E926RE4Z1hmxoroqR0KFCbg9ij15Pt0pkw/D7XktMQUAB5DtwGCTqwCVWRPLo4lQaP8DGOQ4GasIITO2DjDa20FU2v+cgwy9RhC/4pBWFdmo4YQhCKZdFb6htqi2iT0T+bI4IJ3pwyIPls3mZoU57Opwc27bCy2X4d9X/smxSKQN+fdlZ8yQ2OFULvMySEffIA/0Z8nppByJvnJRNn5DpVkYnkmluUslwmwH9PAiKfCp6wUUcnjoLotEqY2LZ8qUyFcNqU7re/ukWYDR/AKG+1GUmVMhcJRr0xAU7T2SuTpp1QtFg9D+w5/j0XAAADAABAJcjUWo2KJVmxO4flGaq4EBgjGqVDHSqNoRZdNp+BAAABQEGa2UnhDyZTA/8AAAMAAAMAAAMAAAWMzOWvcLW75ieiGB3UWVjfVPWE7AmnD24wCxsCobwJ/BfhovT5WnRrJwNBjEjc/EvsaOHfRvRm692xRFOCVl0Zg8Os8aBp8MYqWFfsMbf0sFVFn1TU21IHogXm5zzZUdILpLRZqyZf6pKrqmH6rb5o0EEcUIpxTlxo1bIqVP8lPuZoiUlke6+vDWl7tqgjs/qIvK9kq2HbLMoHO0sMQ+4fJdM41QgwkF38AjtKVhDmlMSU1nj0asH+5pbmeXU5Y7gD2AlBt5arwVKU2iMlJ1FvraiCWbJGeRHpzljS3vcSsm4Ftyo4Jfn4c6IuKGZhfyguuEF0vL0jTvQDlCoI/53LPZguGfdhN0UrKi2nimYqkuFqvpFfTgEwZhEpEU2MWwn1R9c2WZv0Yz5gAAABpEGa+0nhDyZTBRE//wAAAwAAAwAAAwAABdesB8Jdxf/+/CX92CLeCqumXr+VTtcy/wG3zHNXXwCvDatWa2ulSP87crCrFr5lHvQaaxykdnedErGJGcMvniCSKOg4s7OiKgaGrKnsSXKToWPxn2dOi6JO35gqNSrkoXgTse+zni4B4dWR/CFHJZi2JLb3Fn3eyLYOhFaskeEZY1MdKssFDyGGCvW1ChaeN8pMnnd41o5On9GskKMsjOvlio6F/EH+5Z/HXlDrn8/SJmCEsXzX+ZFuTriUE3N9tn6ONbO88e1O3s0nucrPJ+haY+QZJhvaWig9jpXBwcngtiRLq6yTNbcDFt5cjJxYXChuqYQt/ZWiUdO8wqPW/AyWqhKAdMnjZ4fFEZii3c11kJVHAKToyetOi01d9BcNKv360P7M/ScxMRiDUTuhWJcEtzyQsqY2SJn1m7HjE/bQi/raGFs7Ce3KdH56RiERjPNCFOZgn/wxX02BABjxOiqO+deUvYAaQiaHcIgiIZC/Nkql3UlTkYurQ8XWq5+POa+paf9SEXBXHknURwAAAPcBnxpqSf8AAAMAAAMAAAMAAc1fbARmVBe+JFmOo245WBd1cEH5Hc+E4LIyW9EN5yHvPP5oHGLgHG+4Osu80b6eaDxCBVmLm149Gv8Icxn51PxXqnb1CmHSOwsw+EIIKR3rVBHaWoPWHPai0ERSQ0oE6arLCGzqRwYmszoAODquUJ7SReVO+ekTiyPSH1KEM9GL5R7KA1GxxYQJiVvnYhRj+hr1Br2RSnTTHUiisStsc1PXKpusMdUDQDLKazujGGgzlqasXq3CxmHX103gWRwB3chSvFv62+vh/ObVPxQkInjz6+DnjkbswsGFAAADAAADAAADACvgAAAHFG1vb3YAAABsbXZoZAAAAAAAAAAAAAAAAAAAA+gAAAX+AAEAAAEAAAAAAAAAAAAAAAABAAAAAAAAAAAAAAAAAAAAAQAAAAAAAAAAAAAAAAAAQAAAAAAAAAAAAAAAAAAAAAAAAAAAAAAAAAAAAAAAAAIAAAY+dHJhawAAAFx0a2hkAAAADwAAAAAAAAAAAAAAAQAAAAAAAAX+AAAAAAAAAAAAAAAAAAAAAAABAAAAAAAAAAAAAAAAAAAAAQAAAAAAAAAAAAAAAAAAQAAAAAPoAAAD6AAAAAAAJGVkdHMAAAAcZWxzdAAAAAAAAAABAAAF/gAAAgAAAQAAAAAFtm1kaWEAAAAgbWRoZAAAAAAAAAAAAAAAAAAAPAAAAFwAVcQAAAAAAC1oZGxyAAAAAAAAAAB2aWRlAAAAAAAAAAAAAAAAVmlkZW9IYW5kbGVyAAAABWFtaW5mAAAAFHZtaGQAAAABAAAAAAAAAAAAAAAkZGluZgAAABxkcmVmAAAAAAAAAAEAAAAMdXJsIAAAAAEAAAUhc3RibAAAAJlzdHNkAAAAAAAAAAEAAACJYXZjMQAAAAAAAAABAAAAAAAAAAAAAAAAAAAAAAPoA+gASAAAAEgAAAAAAAAAAQAAAAAAAAAAAAAAAAAAAAAAAAAAAAAAAAAAAAAAAAAAABj//wAAADNhdmNDAWQAKP/hABpnZAAorNlA/B/5ZYQAAAMABAAAAwHgPGDGWAEABmjr4ksiwAAAABhzdHRzAAAAAAAAAAEAAABcAAABAAAAABRzdHNzAAAAAAAAAAEAAAABAAACoGN0dHMAAAAAAAAAUgAAAAEAAAIAAAAAAQAABAAAAAABAAACAAAAAAEAAAAAAAAAAQAAAwAAAAABAAABAAAAAAEAAAMAAAAAAQAAAQAAAAABAAADAAAAAAEAAAEAAAAAAQAAAwAAAAABAAABAAAAAAEAAAMAAAAAAQAAAQAAAAABAAADAAAAAAEAAAEAAAAAAQAAAwAAAAABAAABAAAAAAEAAAMAAAAAAQAAAQAAAAABAAADAAAAAAEAAAEAAAAAAQAAAwAAAAABAAABAAAAAAEAAAMAAAAAAQAAAQAAAAABAAADAAAAAAEAAAEAAAAAAQAAAwAAAAABAAABAAAAAAEAAAMAAAAAAQAAAQAAAAABAAADAAAAAAEAAAEAAAAAAQAAAgAAAAABAAADAAAAAAEAAAEAAAAAAQAAAwAAAAABAAABAAAAAAEAAAIAAAAAAQAAAwAAAAABAAABAAAAAAEAAAMAAAAAAQAAAQAAAAABAAADAAAAAAEAAAEAAAAAAQAAAwAAAAABAAABAAAAAAMAAAIAAAAAAQAAAwAAAAABAAABAAAAAAMAAAIAAAAAAQAAAwAAAAABAAABAAAAAAMAAAIAAAAAAQAABAAAAAABAAACAAAAAAEAAAAAAAAAAQAAAwAAAAABAAABAAAAAAEAAAMAAAAAAQAAAQAAAAABAAADAAAAAAEAAAEAAAAAAQAAAwAAAAABAAABAAAAAAEAAAMAAAAAAQAAAQAAAAABAAADAAAAAAEAAAEAAAAAAQAAAwAAAAABAAABAAAAAAMAAAIAAAAAAQAAAwAAAAABAAABAAAAAAEAAAMAAAAAAQAAAQAAAAABAAADAAAAAAEAAAEAAAAAAwAAAgAAAAABAAADAAAAAAEAAAEAAAAAHHN0c2MAAAAAAAAAAQAAAAEAAABcAAAAAQAAAYRzdHN6AAAAAAAAAAAAAABcAAAJPQAAACcAAAAlAAAAJgAAAM8AAACFAAAAsAAAAJcAAACfAAAAjQAAALAAAACMAAAAxQAAAJMAAAC9AAAArAAAAKcAAACPAAAAlAAAAIsAAACpAAAAkwAAAOcAAACzAAAAoQAAAIoAAADeAAAArAAAAUEAAACxAAABNQAAALUAAAD9AAAApQAAAPEAAADqAAAAqwAAATwAAADNAAABKgAAAOEAAAC3AAABEgAAAN8AAAG6AAABEQAAAhoAAAFeAAABcwAAAaYAAAGHAAACAgAAARYAAAHpAAABUwAAAZ4AAAIxAAABSwAAAX8AAAFzAAABWgAAAk8AAAGAAAAB/AAAAnIAAAHKAAACcAAAAVkAAAKTAAABZgAAApIAAAFNAAAChwAAAX8AAAKaAAABXAAAAj0AAAFVAAABZgAAAYQAAAFGAAABtwAAATkAAAG4AAABEwAAAYQAAAEaAAABYgAAATQAAAFEAAABqAAAAPsAAAAUc3RjbwAAAAAAAAABAAAAMAAAAGJ1ZHRhAAAAWm1ldGEAAAAAAAAAIWhkbHIAAAAAAAAAAG1kaXJhcHBsAAAAAAAAAAAAAAAALWlsc3QAAAAlqXRvbwAAAB1kYXRhAAAAAQAAAABMYXZmNTUuMTQuMTAx\" type=\"video/mp4\"/>\n",
       "      This browser does not support the video tag.\n",
       "      </video></td></tr></table>"
      ],
      "text/plain": [
       "<IPython.core.display.HTML object>"
      ]
     },
     "metadata": {},
     "output_type": "display_data"
    },
    {
     "name": "stdout",
     "output_type": "stream",
     "text": [
      "REINFORCE agent achieves 125.53851204681443 return in MetaDrive easy environment.\n"
     ]
    }
   ],
   "source": [
    "# Run this cell without modification\n",
    "\n",
    "# Render the learned behavior\n",
    "# NOTE: The learned agent is marked by green color.\n",
    "eval_reward, eval_info = evaluate(\n",
    "    policy=pg_trainer_metadrive_easy.policy,\n",
    "    num_episodes=1,\n",
    "    env_name=pg_trainer_metadrive_easy.env_name,\n",
    "    render=\"topdown\",  # Visualize the behaviors in top-down view\n",
    "    verbose=True\n",
    ")\n",
    "\n",
    "frames = [pygame.surfarray.array3d(f).swapaxes(0, 1) for f in eval_info[\"frames\"]]\n",
    "\n",
    "animate(frames)\n",
    "\n",
    "print(\"REINFORCE agent achieves {} return in MetaDrive easy environment.\".format(eval_reward))"
   ]
  },
  {
   "cell_type": "markdown",
   "id": "fcc0bcd0",
   "metadata": {},
   "source": [
    "## Section 5: Policy gradient with baseline\n",
    "\n",
    "(20 / 100 points)\n",
    "\n",
    "We compute the gradient of $Q = \\mathop{\\mathbb E} \\sum_t r(a_t, s_t)$ w.r.t. the parameter to update the policy. Let's consider this case: when you take a so-so action that lead to positive expected return, the policy gradient is also positive and you will update your network toward this action. At the same time a potential better action is ignored.\n",
    "\n",
    "To tackle this problem, we introduce the \"baseline\" when computing the policy gradient. The insight behind this is that we want to optimize the policy toward an action that are better than the \"average action\".\n",
    "\n",
    "We introduce $b_{t} = \\mathbb E_{a_t} \\sum_{t'}{\\gamma^{t'-t} r(s_{t'}, a_{t'})}$ as the baseline. It average the expected discount return of all possible actions at state $s_t$. So that the \"advantage\" achieved by action $a_t$ can be evaluated via $\\sum_{t'=t} \\gamma^{t' -t}r(a_{t'}, s_{t'}) - b_t$\n",
    "\n",
    "Therefore, the policy gradient becomes:\n",
    "\n",
    "$$\\nabla_\\theta Q =\\cfrac{1}{N}\\sum_{i=1}^N [( \\sum_t  \\nabla_\\theta \\log \\pi_\\theta(a_{i,t}|s_{i,t}) (\\sum_{t'} \\gamma^{t'-t} r(s_{i,{t’}}, a_{i,t‘}) - b_{i, t})]$$\n",
    "\n",
    "In our implementation, we estimate the baseline via an extra network `self.baseline`, which has same structure of policy network but output only a scalar value. We use the output of this network to serve as the baseline, while this network is updated by fitting the true value of expected return of current state: $\\mathbb E_{a_t} \\sum_{t'}{\\gamma^{t'-t} r(s_{t'}, a_{t'})}$\n",
    "\n",
    "The state-action values might have large variance if the reward function has large variance. It is not easy for a neural network to predict targets with large variance and extreme values. In implementation, we use a trick to match the distribution of baseline and values. During training, we first collect a batch of target values: $\\{t_i= \\mathbb E_{a_t} \\sum_{t'}{\\gamma^{t'-t} r(s_{t'}, a_{t'})}\\}_i$. Then we normalize all targets to a standard distribution with mean = 0 and std = 1. Then we ask the baseline network to fit such normalized targets.\n",
    "\n",
    "When computing the advantages, instead of using the output of baseline network as the baseline $b$, we firstly match the baseline distribution with state-action values, that is we \"de-standarize\" the baselines. The transformed baselines $b' = f(b)$ should has the same mean and STD with the action values. \n",
    "\n",
    "After that, we compute the advantage of current action: $adv_{i,t} = \\sum_{t'} \\gamma^{t'-t} r(s_{i,{t'}}, a_{i,t'}) - b'_{i, t}$\n",
    "\n",
    "By doing this, we mitigate the instability of training baseline.\n",
    "\n",
    "Hint: We suggest to normalize an array via: `(x - x.mean()) / max(x.std(), 1e-6)`. The max term can mitigate numeraical instability."
   ]
  },
  {
   "cell_type": "markdown",
   "id": "95c1378f",
   "metadata": {},
   "source": [
    "### Section 5.1: Build PG method with baseline"
   ]
  },
  {
   "cell_type": "code",
   "execution_count": 30,
   "id": "709df140",
   "metadata": {},
   "outputs": [],
   "source": [
    "class PolicyGradientWithBaselineTrainer(PGTrainer):\n",
    "    def initialize_parameters(self):\n",
    "        # Build the actor in name of self.policy\n",
    "        super().initialize_parameters()\n",
    "\n",
    "        # TODO: Build the baseline network using PytorchModel class.\n",
    "        self.baseline = PytorchModel(\n",
    "            self.obs_dim, \n",
    "            1, \n",
    "            hidden_units=self.config[\"hidden_units\"]\n",
    "        )\n",
    "\n",
    "        self.baseline_loss = nn.MSELoss()\n",
    "\n",
    "        self.baseline_optimizer = torch.optim.Adam(\n",
    "            self.baseline.parameters(),\n",
    "            lr=self.config[\"learning_rate\"]\n",
    "        )\n",
    "\n",
    "    def process_samples(self, samples):\n",
    "        # Call the original process_samples function to get advantages\n",
    "        tmp_samples, _ = super().process_samples(samples)\n",
    "        values = tmp_samples[\"advantages\"]\n",
    "        samples[\"values\"] = values  # We add q_values into samples\n",
    "\n",
    "        # Flatten the observations in all trajectories (still a numpy array)\n",
    "        obs = np.concatenate(samples[\"obs\"])\n",
    "\n",
    "        assert obs.ndim == 2\n",
    "        assert obs.shape[1] == self.obs_dim\n",
    "\n",
    "        obs = self.to_tensor(obs)\n",
    "        samples[\"flat_obs\"] = obs\n",
    "\n",
    "        # TODO: Compute the baseline by feeding observation to baseline network\n",
    "        # Hint: baselines turns out to be a numpy array with the same shape of `values`,\n",
    "        #  that is: (batch size, )\n",
    "        with torch.no_grad():\n",
    "            baselines = self.baseline(obs).squeeze().cpu().numpy()\n",
    "\n",
    "        assert baselines.shape == values.shape\n",
    "\n",
    "        # TODO: Match the distribution of baselines to the values.\n",
    "        # Hint: We expect to see baselines.std almost equals to values.std, \n",
    "        #  and baselines.mean almost equals to values.mean.\n",
    "        if self.config[\"normalize_advantage\"]:\n",
    "            # Normalize the baseline to match the distribution of values\n",
    "            mean_values = np.mean(values)\n",
    "            std_values = np.std(values)\n",
    "\n",
    "            mean_baselines = np.mean(baselines)\n",
    "            std_baselines = np.std(baselines)\n",
    "\n",
    "            baselines = (baselines - mean_baselines) * (std_values / std_baselines) + mean_values\n",
    "\n",
    "        # Compute the advantage\n",
    "        advantages = values - baselines\n",
    "        samples[\"advantages\"] = advantages\n",
    "        process_info = {\"mean_baseline\": float(np.mean(baselines))}\n",
    "        return samples, process_info\n",
    "\n",
    "    def update_network(self, processed_samples):\n",
    "        update_info = super().update_network(processed_samples)\n",
    "        update_info.update(self.update_baseline(processed_samples))\n",
    "        return update_info\n",
    "\n",
    "    def update_baseline(self, processed_samples):\n",
    "        self.baseline.train()\n",
    "        obs = processed_samples[\"flat_obs\"]\n",
    "\n",
    "        # TODO: Normalize `values` to have mean=0, std=1.\n",
    "        values = processed_samples[\"values\"]\n",
    "        mean_values = np.mean(values)\n",
    "        std_values = np.std(values)\n",
    "        values = (values - mean_values) / std_values\n",
    "\n",
    "        values = self.to_tensor(values[:, np.newaxis])\n",
    "\n",
    "        baselines = self.baseline(obs)\n",
    "\n",
    "        self.baseline_optimizer.zero_grad()\n",
    "        loss = self.baseline_loss(input=baselines, target=values)\n",
    "        loss.backward()\n",
    "\n",
    "        # Clip the gradient\n",
    "        torch.nn.utils.clip_grad_norm_(\n",
    "            self.baseline.parameters(), self.config[\"clip_gradient\"]\n",
    "        )\n",
    "\n",
    "        self.baseline_optimizer.step()\n",
    "        self.baseline.eval()\n",
    "        return dict(baseline_loss=loss.item())\n"
   ]
  },
  {
   "cell_type": "markdown",
   "id": "1168a4b4",
   "metadata": {},
   "source": [
    "### Section 5.2: Run PG w/ baseline in CartPole"
   ]
  },
  {
   "cell_type": "code",
   "execution_count": 31,
   "id": "7f5c1adf",
   "metadata": {
    "scrolled": true
   },
   "outputs": [
    {
     "name": "stderr",
     "output_type": "stream",
     "text": [
      "C:\\Users\\User\\anaconda3\\lib\\site-packages\\numpy\\core\\fromnumeric.py:3464: RuntimeWarning: Mean of empty slice.\n",
      "  return _methods._mean(a, axis=axis, dtype=dtype,\n",
      "C:\\Users\\User\\anaconda3\\lib\\site-packages\\numpy\\core\\_methods.py:192: RuntimeWarning: invalid value encountered in scalar divide\n",
      "  ret = ret.dtype.type(ret / rcount)\n",
      "[INFO] Iter 0, Step 230, episodic return is 26.60. {'iteration': 0.0, 'performance': 20.9091, 'ep_len': 20.9091, 'ep_ret': 20.9091, 'episode_len': 230.0, 'mean_baseline': 0.0, 'policy_loss': 0.0083, 'mean_log_prob': -0.6926, 'mean_advantage': -0.0, 'baseline_loss': 0.9762, 'total_episodes': 11.0, 'total_timesteps': 230.0}\n",
      "[INFO] Iter 10, Step 2403, episodic return is 29.70. {'iteration': 10.0, 'performance': 33.5714, 'ep_len': 33.5714, 'ep_ret': 33.5714, 'episode_len': 235.0, 'mean_baseline': 0.0, 'policy_loss': -0.0152, 'mean_log_prob': -0.6826, 'mean_advantage': -0.0, 'baseline_loss': 0.8895, 'total_episodes': 93.0, 'total_timesteps': 2403.0}\n",
      "[INFO] Iter 20, Step 4572, episodic return is 29.50. {'iteration': 20.0, 'performance': 29.5714, 'ep_len': 29.5714, 'ep_ret': 29.5714, 'episode_len': 207.0, 'mean_baseline': 0.0, 'policy_loss': -0.0558, 'mean_log_prob': -0.6659, 'mean_advantage': -0.0, 'baseline_loss': 0.8876, 'total_episodes': 173.0, 'total_timesteps': 4572.0}\n",
      "[INFO] Iter 30, Step 6868, episodic return is 49.30. {'iteration': 30.0, 'performance': 37.8333, 'ep_len': 37.8333, 'ep_ret': 37.8333, 'episode_len': 227.0, 'mean_baseline': -0.0, 'policy_loss': -0.0465, 'mean_log_prob': -0.626, 'mean_advantage': -0.0, 'baseline_loss': 0.969, 'total_episodes': 228.0, 'total_timesteps': 6868.0}\n",
      "[INFO] Iter 40, Step 9266, episodic return is 64.70. {'iteration': 40.0, 'performance': 43.4, 'ep_len': 43.4, 'ep_ret': 43.4, 'episode_len': 217.0, 'mean_baseline': -0.0, 'policy_loss': -0.0758, 'mean_log_prob': -0.624, 'mean_advantage': -0.0, 'baseline_loss': 0.795, 'total_episodes': 278.0, 'total_timesteps': 9266.0}\n",
      "[INFO] Iter 50, Step 11737, episodic return is 61.70. {'iteration': 50.0, 'performance': 76.6667, 'ep_len': 76.6667, 'ep_ret': 76.6667, 'episode_len': 230.0, 'mean_baseline': 0.0, 'policy_loss': -0.0392, 'mean_log_prob': -0.6125, 'mean_advantage': 0.0, 'baseline_loss': 0.7093, 'total_episodes': 319.0, 'total_timesteps': 11737.0}\n",
      "[INFO] Iter 60, Step 14239, episodic return is 123.20. {'iteration': 60.0, 'performance': 144.5, 'ep_len': 144.5, 'ep_ret': 144.5, 'episode_len': 289.0, 'mean_baseline': -0.0, 'policy_loss': -0.016, 'mean_log_prob': -0.5843, 'mean_advantage': 0.0, 'baseline_loss': 0.3348, 'total_episodes': 347.0, 'total_timesteps': 14239.0}\n",
      "[INFO] Iter 70, Step 16610, episodic return is 92.40. {'iteration': 70.0, 'performance': 81.75, 'ep_len': 81.75, 'ep_ret': 81.75, 'episode_len': 327.0, 'mean_baseline': -0.0, 'policy_loss': -0.0319, 'mean_log_prob': -0.5748, 'mean_advantage': -0.0, 'baseline_loss': 0.6366, 'total_episodes': 374.0, 'total_timesteps': 16610.0}\n",
      "[INFO] Iter 80, Step 19205, episodic return is 85.40. {'iteration': 80.0, 'performance': 71.3333, 'ep_len': 71.3333, 'ep_ret': 71.3333, 'episode_len': 214.0, 'mean_baseline': 0.0, 'policy_loss': -0.0542, 'mean_log_prob': -0.589, 'mean_advantage': -0.0, 'baseline_loss': 0.8294, 'total_episodes': 399.0, 'total_timesteps': 19205.0}\n",
      "[INFO] Iter 90, Step 21892, episodic return is 172.10. {'iteration': 90.0, 'performance': 178.5, 'ep_len': 178.5, 'ep_ret': 178.5, 'episode_len': 357.0, 'mean_baseline': -0.0, 'policy_loss': -0.0165, 'mean_log_prob': -0.5866, 'mean_advantage': -0.0, 'baseline_loss': 0.4072, 'total_episodes': 422.0, 'total_timesteps': 21892.0}\n",
      "[INFO] Iter 100, Step 24331, episodic return is 167.40. {'iteration': 100.0, 'performance': 201.0, 'ep_len': 201.0, 'ep_ret': 201.0, 'episode_len': 201.0, 'mean_baseline': -0.0, 'policy_loss': 0.0018, 'mean_log_prob': -0.5546, 'mean_advantage': 0.0, 'baseline_loss': 0.7405, 'total_episodes': 436.0, 'total_timesteps': 24331.0}\n",
      "[INFO] Iter 110, Step 26740, episodic return is 185.40. {'iteration': 110.0, 'performance': 69.6667, 'ep_len': 69.6667, 'ep_ret': 69.6667, 'episode_len': 209.0, 'mean_baseline': -0.0, 'policy_loss': -0.0669, 'mean_log_prob': -0.6227, 'mean_advantage': -0.0, 'baseline_loss': 0.8144, 'total_episodes': 451.0, 'total_timesteps': 26740.0}\n",
      "[INFO] Iter 120, Step 29265, episodic return is 197.80. {'iteration': 120.0, 'performance': 201.0, 'ep_len': 201.0, 'ep_ret': 201.0, 'episode_len': 201.0, 'mean_baseline': 0.0, 'policy_loss': -0.0416, 'mean_log_prob': -0.5419, 'mean_advantage': -0.0, 'baseline_loss': 0.687, 'total_episodes': 465.0, 'total_timesteps': 29265.0}\n",
      "[INFO] Iter 120, episodic return 197.800 is greater than reward threshold 195.0. Congratulation! Now we exit the training process.\n"
     ]
    },
    {
     "name": "stdout",
     "output_type": "stream",
     "text": [
      "Environment is closed.\n"
     ]
    }
   ],
   "source": [
    "# Run this cell without modification\n",
    "\n",
    "pg_trainer_wb_cartpole, pg_trainer_wb_cartpole_result = run(PolicyGradientWithBaselineTrainer, dict(\n",
    "    learning_rate=0.001,\n",
    "    max_episode_length=200,\n",
    "    train_batch_size=200,\n",
    "\n",
    "    env_name=\"CartPole-v1\",\n",
    "    normalize_advantage=True,\n",
    "\n",
    "    evaluate_interval=10,\n",
    "    evaluate_num_episodes=10,\n",
    "), 195.0)\n"
   ]
  },
  {
   "cell_type": "markdown",
   "id": "4ff92a1e",
   "metadata": {},
   "source": [
    "### Section 5.3: Run PG w/ baseline in MetaDrive-Easy\n"
   ]
  },
  {
   "cell_type": "code",
   "execution_count": 32,
   "id": "4e498197",
   "metadata": {},
   "outputs": [
    {
     "name": "stderr",
     "output_type": "stream",
     "text": [
      "[INFO] Iter 0, Step 2057, episodic return is 0.53. {'iteration': 0.0, 'performance': 1.2447, 'ep_len': 187.0, 'ep_ret': 1.2447, 'episode_len': 2057.0, 'success_rate': 0.0, 'mean_baseline': -0.0, 'policy_loss': -0.0015, 'mean_log_prob': -2.191, 'mean_advantage': 0.0, 'baseline_loss': 1.019, 'total_episodes': 11.0, 'total_timesteps': 2057.0}\n",
      "[INFO] Iter 10, Step 23103, episodic return is 5.92. {'iteration': 10.0, 'performance': 5.3287, 'ep_len': 201.0, 'ep_ret': 5.3287, 'episode_len': 2010.0, 'success_rate': 0.0, 'mean_baseline': -0.0, 'policy_loss': -0.025, 'mean_log_prob': -2.1131, 'mean_advantage': 0.0, 'baseline_loss': 1.0016, 'total_episodes': 120.0, 'total_timesteps': 23103.0}\n",
      "[INFO] Iter 20, Step 44219, episodic return is 11.65. {'iteration': 20.0, 'performance': 9.3253, 'ep_len': 157.0769, 'ep_ret': 9.3253, 'episode_len': 2042.0, 'success_rate': 0.0, 'mean_baseline': -0.0, 'policy_loss': 0.0211, 'mean_log_prob': -1.7674, 'mean_advantage': -0.0, 'baseline_loss': 0.9964, 'total_episodes': 234.0, 'total_timesteps': 44219.0}\n",
      "[INFO] Iter 30, Step 65202, episodic return is 24.67. {'iteration': 30.0, 'performance': 23.2812, 'ep_len': 97.1905, 'ep_ret': 23.2812, 'episode_len': 2041.0, 'success_rate': 0.0, 'mean_baseline': -0.0, 'policy_loss': -0.0099, 'mean_log_prob': -1.3858, 'mean_advantage': 0.0, 'baseline_loss': 0.9926, 'total_episodes': 407.0, 'total_timesteps': 65202.0}\n",
      "[INFO] Iter 40, Step 85559, episodic return is 87.51. {'iteration': 40.0, 'performance': 75.6984, 'ep_len': 77.1923, 'ep_ret': 75.6984, 'episode_len': 2007.0, 'success_rate': 0.3462, 'mean_baseline': -0.0, 'policy_loss': 0.046, 'mean_log_prob': -0.4041, 'mean_advantage': 0.0, 'baseline_loss': 0.9972, 'total_episodes': 672.0, 'total_timesteps': 85559.0}\n",
      "[INFO] Iter 50, Step 106018, episodic return is 125.64. {'iteration': 50.0, 'performance': 120.0654, 'ep_len': 90.4348, 'ep_ret': 120.0654, 'episode_len': 2080.0, 'success_rate': 0.913, 'mean_baseline': -0.0, 'policy_loss': -0.0211, 'mean_log_prob': -0.0389, 'mean_advantage': 0.0, 'baseline_loss': 0.904, 'total_episodes': 920.0, 'total_timesteps': 106018.0}\n",
      "[INFO] Iter 50, episodic return 125.639 is greater than reward threshold 120. Congratulation! Now we exit the training process.\n"
     ]
    },
    {
     "name": "stdout",
     "output_type": "stream",
     "text": [
      "Environment is closed.\n"
     ]
    }
   ],
   "source": [
    "# Run this cell without modification\n",
    "\n",
    "env_name = \"MetaDrive-Tut-Easy-v0\"\n",
    "\n",
    "pg_trainer_wb_metadrive_easy, pg_trainer_wb_metadrive_easy_result = run(\n",
    "    PolicyGradientWithBaselineTrainer,\n",
    "    dict(\n",
    "        train_batch_size=2000,\n",
    "        normalize_advantage=True,\n",
    "        max_episode_length=200,\n",
    "        max_iteration=5000,\n",
    "        evaluate_interval=10,\n",
    "        evaluate_num_episodes=10,\n",
    "        learning_rate=0.001,\n",
    "        clip_norm=10.0,\n",
    "        env_name=env_name\n",
    "    ),\n",
    "    reward_threshold=120\n",
    ")\n",
    "\n",
    "pg_trainer_wb_metadrive_easy.save(\"pg_trainer_wb_metadrive_easy.pt\")"
   ]
  },
  {
   "cell_type": "code",
   "execution_count": 33,
   "id": "6f356062",
   "metadata": {},
   "outputs": [
    {
     "name": "stdout",
     "output_type": "stream",
     "text": [
      "Evaluating 1/1 episodes. We are in 1/1000 steps. Current episode reward: 0.000\n",
      "Evaluating 1/1 episodes. We are in 51/1000 steps. Current episode reward: 35.980\n",
      "PG agent achieves 125.53851204681443 return and 1.0 success rate in MetaDrive easy environment.\n"
     ]
    },
    {
     "data": {
      "text/html": [
       "<table class=\"show_videos\" style=\"border-spacing:0px;\"><tr><td style=\"padding:1px;\"><video controls width=\"1000\" height=\"1000\" style=\"object-fit:cover;\" loop autoplay muted>\n",
       "      <source src=\"data:video/mp4;base64,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\" type=\"video/mp4\"/>\n",
       "      This browser does not support the video tag.\n",
       "      </video></td></tr></table>"
      ],
      "text/plain": [
       "<IPython.core.display.HTML object>"
      ]
     },
     "metadata": {},
     "output_type": "display_data"
    }
   ],
   "source": [
    "# Run this cell without modification\n",
    "\n",
    "# Render the learned behavior\n",
    "# NOTE: The learned agent is marked by green color.\n",
    "eval_reward, eval_info = evaluate(\n",
    "    policy=pg_trainer_wb_metadrive_easy.policy,\n",
    "    num_episodes=1,\n",
    "    env_name=pg_trainer_wb_metadrive_easy.env_name,\n",
    "    render=\"topdown\",  # Visualize the behaviors in top-down view\n",
    "    verbose=True\n",
    ")\n",
    "\n",
    "frames = [pygame.surfarray.array3d(f).swapaxes(0, 1) for f in eval_info[\"frames\"]]\n",
    "\n",
    "print(\n",
    "    \"PG agent achieves {} return and {} success rate in MetaDrive easy environment.\".format(\n",
    "        eval_reward, eval_info[\"success_rate\"]\n",
    "    )\n",
    ")\n",
    "\n",
    "animate(frames)"
   ]
  },
  {
   "cell_type": "markdown",
   "id": "264f267e",
   "metadata": {},
   "source": [
    "### Section 5.4: Run PG with baseline in MetaDrive-Hard\n",
    "\n",
    "**The minimum goal to is to achieve episodic return > 20, which costs nearly 20 iterations and ~100k steps.**\n",
    "\n",
    "## Bonus\n",
    "\n",
    "**BONUS can be earned if you can improve the training performance by adjusting hyper-parameters and optimizing code. Improvement means achieving > 0.0 success rate. However, I can't guarentee it is feasible to solve this task with PG via simplying tweaking the hyper-parameters more carefully.** Please creates a independent markdown cell to highlight your improvement."
   ]
  },
  {
   "cell_type": "code",
   "execution_count": 36,
   "id": "b737c345",
   "metadata": {
    "scrolled": false
   },
   "outputs": [
    {
     "name": "stderr",
     "output_type": "stream",
     "text": [
      "[INFO] Iter 0, Step 4004, episodic return is 12.18. {'iteration': 0.0, 'performance': 11.2312, 'ep_len': 1001.0, 'ep_ret': 11.2312, 'episode_len': 4004.0, 'success_rate': 0.0, 'mean_baseline': 0.0, 'policy_loss': 0.0014, 'mean_log_prob': -3.2136, 'mean_advantage': 0.0, 'baseline_loss': 1.0063, 'total_episodes': 4.0, 'total_timesteps': 4004.0}\n",
      "[INFO] Iter 5, Step 26101, episodic return is 6.31. {'iteration': 5.0, 'performance': 11.4997, 'ep_len': 912.2, 'ep_ret': 11.4997, 'episode_len': 4561.0, 'success_rate': 0.0, 'mean_baseline': 0.0, 'policy_loss': 0.0025, 'mean_log_prob': -3.1834, 'mean_advantage': -0.0, 'baseline_loss': 0.9998, 'total_episodes': 28.0, 'total_timesteps': 26101.0}\n",
      "[INFO] Iter 10, Step 48457, episodic return is 10.72. {'iteration': 10.0, 'performance': 10.4564, 'ep_len': 733.6667, 'ep_ret': 10.4564, 'episode_len': 4402.0, 'success_rate': 0.0, 'mean_baseline': -0.0, 'policy_loss': -0.0022, 'mean_log_prob': -3.153, 'mean_advantage': 0.0, 'baseline_loss': 0.9906, 'total_episodes': 57.0, 'total_timesteps': 48457.0}\n",
      "[INFO] Iter 15, Step 70869, episodic return is 11.63. {'iteration': 15.0, 'performance': 5.1996, 'ep_len': 503.625, 'ep_ret': 5.1996, 'episode_len': 4029.0, 'success_rate': 0.0, 'mean_baseline': 0.0, 'policy_loss': 0.0058, 'mean_log_prob': -3.1281, 'mean_advantage': -0.0, 'baseline_loss': 0.9843, 'total_episodes': 90.0, 'total_timesteps': 70869.0}\n",
      "[INFO] Iter 20, Step 93394, episodic return is 16.89. {'iteration': 20.0, 'performance': 20.6742, 'ep_len': 832.8, 'ep_ret': 20.6742, 'episode_len': 4164.0, 'success_rate': 0.0, 'mean_baseline': 0.0, 'policy_loss': -0.0095, 'mean_log_prob': -3.0688, 'mean_advantage': -0.0, 'baseline_loss': 0.9852, 'total_episodes': 121.0, 'total_timesteps': 93394.0}\n",
      "[INFO] Iter 25, Step 114703, episodic return is 15.73. {'iteration': 25.0, 'performance': 22.1624, 'ep_len': 588.7143, 'ep_ret': 22.1624, 'episode_len': 4121.0, 'success_rate': 0.0, 'mean_baseline': 0.0, 'policy_loss': 0.0048, 'mean_log_prob': -2.9413, 'mean_advantage': -0.0, 'baseline_loss': 0.9837, 'total_episodes': 158.0, 'total_timesteps': 114703.0}\n",
      "[INFO] Iter 30, Step 135776, episodic return is 24.00. {'iteration': 30.0, 'performance': 18.2039, 'ep_len': 280.9333, 'ep_ret': 18.2039, 'episode_len': 4214.0, 'success_rate': 0.0, 'mean_baseline': -0.0, 'policy_loss': -0.0198, 'mean_log_prob': -2.7089, 'mean_advantage': 0.0, 'baseline_loss': 0.99, 'total_episodes': 205.0, 'total_timesteps': 135776.0}\n",
      "[INFO] Iter 35, Step 156079, episodic return is 22.75. {'iteration': 35.0, 'performance': 24.4592, 'ep_len': 108.3514, 'ep_ret': 24.4592, 'episode_len': 4009.0, 'success_rate': 0.0, 'mean_baseline': -0.0, 'policy_loss': -0.0319, 'mean_log_prob': -2.2381, 'mean_advantage': 0.0, 'baseline_loss': 0.9981, 'total_episodes': 324.0, 'total_timesteps': 156079.0}\n",
      "[INFO] Iter 40, Step 176265, episodic return is 45.62. {'iteration': 40.0, 'performance': 40.7568, 'ep_len': 69.6552, 'ep_ret': 40.7568, 'episode_len': 4040.0, 'success_rate': 0.0345, 'mean_baseline': -0.0, 'policy_loss': -0.0231, 'mean_log_prob': -1.3426, 'mean_advantage': 0.0, 'baseline_loss': 0.9994, 'total_episodes': 580.0, 'total_timesteps': 176265.0}\n",
      "[INFO] Iter 45, Step 196429, episodic return is 53.00. {'iteration': 45.0, 'performance': 53.4779, 'ep_len': 70.7018, 'ep_ret': 53.4779, 'episode_len': 4030.0, 'success_rate': 0.0526, 'mean_baseline': -0.0, 'policy_loss': -0.0612, 'mean_log_prob': -0.9075, 'mean_advantage': 0.0, 'baseline_loss': 0.997, 'total_episodes': 863.0, 'total_timesteps': 196429.0}\n",
      "[INFO] Iter 45, episodic return 53.000 is greater than reward threshold 50. Congratulation! Now we exit the training process.\n"
     ]
    },
    {
     "name": "stdout",
     "output_type": "stream",
     "text": [
      "Environment is closed.\n"
     ]
    }
   ],
   "source": [
    "# Run this cell without modification\n",
    "\n",
    "env_name = \"MetaDrive-Tut-Hard-v0\"\n",
    "\n",
    "pg_trainer_wb_metadrive_hard, pg_trainer_wb_metadrive_hard_result = run(\n",
    "    PolicyGradientWithBaselineTrainer,\n",
    "    dict(\n",
    "        train_batch_size=4000,\n",
    "        normalize_advantage=True,\n",
    "        max_episode_length=1000,\n",
    "        max_iteration=5000,\n",
    "        evaluate_interval=5,\n",
    "        evaluate_num_episodes=10,\n",
    "        learning_rate=0.001,\n",
    "        clip_norm=10.0,\n",
    "        env_name=env_name\n",
    "    ),\n",
    "    reward_threshold=50  # We just set the reward threshold to 20. Feel free to adjust it.\n",
    ")\n",
    "\n",
    "pg_trainer_wb_metadrive_hard.save(\"pg_trainer_wb_metadrive_hard.pt\")"
   ]
  },
  {
   "cell_type": "markdown",
   "id": "9bf9e3c3",
   "metadata": {},
   "source": [
    "Modified the reward_threshold to be 50 instead of 20. In metadrive_easy, it reached a success rate greater than 0 at approximately episodic return of 38. "
   ]
  },
  {
   "cell_type": "code",
   "execution_count": 37,
   "id": "2e015832",
   "metadata": {},
   "outputs": [
    {
     "name": "stdout",
     "output_type": "stream",
     "text": [
      "Evaluating 1/1 episodes. We are in 1/1000 steps. Current episode reward: 0.000\n",
      "Evaluating 1/1 episodes. We are in 51/1000 steps. Current episode reward: 34.678\n",
      "PG agent achieves 55.5897931357584 return and 0.3 success rate in MetaDrive easy environment.\n"
     ]
    },
    {
     "data": {
      "text/html": [
       "<table class=\"show_videos\" style=\"border-spacing:0px;\"><tr><td style=\"padding:1px;\"><video controls width=\"1000\" height=\"1000\" style=\"object-fit:cover;\" loop autoplay muted>\n",
       "      <source src=\"data:video/mp4;base64,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\" type=\"video/mp4\"/>\n",
       "      This browser does not support the video tag.\n",
       "      </video></td></tr></table>"
      ],
      "text/plain": [
       "<IPython.core.display.HTML object>"
      ]
     },
     "metadata": {},
     "output_type": "display_data"
    }
   ],
   "source": [
    "# Run this cell without modification\n",
    "\n",
    "# Render the learned behavior\n",
    "# NOTE: The learned agent is marked by green color.\n",
    "eval_reward, eval_info = evaluate(\n",
    "    policy=pg_trainer_wb_metadrive_hard.policy,\n",
    "    num_episodes=10,\n",
    "    env_name=pg_trainer_wb_metadrive_hard.env_name,\n",
    "    render=None,\n",
    "    verbose=False\n",
    ")\n",
    "\n",
    "_, eval_info_render = evaluate(\n",
    "    policy=pg_trainer_wb_metadrive_hard.policy,\n",
    "    num_episodes=1,\n",
    "    env_name=pg_trainer_wb_metadrive_hard.env_name,\n",
    "    render=\"topdown\",  # Visualize the behaviors in top-down view\n",
    "    verbose=True\n",
    ")\n",
    "\n",
    "frames = [pygame.surfarray.array3d(f).swapaxes(0, 1) for f in eval_info_render[\"frames\"]]\n",
    "\n",
    "print(\n",
    "    \"PG agent achieves {} return and {} success rate in MetaDrive easy environment.\".format(\n",
    "        eval_reward, eval_info[\"success_rate\"]\n",
    "    )\n",
    ")\n",
    "\n",
    "animate(frames)"
   ]
  },
  {
   "cell_type": "markdown",
   "id": "bff92fb1",
   "metadata": {
    "id": "bff92fb1"
   },
   "source": [
    "------\n",
    "\n",
    "## Conclusion\n",
    "\n",
    "In this assignment, we learn how to build naive Q learning, Deep Q Network and Policy Gradient methods.\n",
    "\n",
    "Following the submission instruction in the assignment to submit your assignment. Thank you!\n",
    "\n",
    "------"
   ]
  }
 ],
 "metadata": {
  "colab": {
   "collapsed_sections": [],
   "provenance": []
  },
  "kernelspec": {
   "display_name": "Python 3 (ipykernel)",
   "language": "python",
   "name": "python3"
  },
  "language_info": {
   "codemirror_mode": {
    "name": "ipython",
    "version": 3
   },
   "file_extension": ".py",
   "mimetype": "text/x-python",
   "name": "python",
   "nbconvert_exporter": "python",
   "pygments_lexer": "ipython3",
   "version": "3.10.8"
  }
 },
 "nbformat": 4,
 "nbformat_minor": 5
}
